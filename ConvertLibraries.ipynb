{
 "cells": [
  {
   "cell_type": "code",
   "execution_count": 1,
   "id": "c7b2f22a-acdc-4516-954d-d22652e96cd4",
   "metadata": {},
   "outputs": [],
   "source": [
    "from rdkit import Chem\n",
    "from rdkit.Chem import rdChemReactions\n",
    "from rdkit.Chem import Draw, AllChem\n",
    "from rdkit import Chem\n",
    "from rdkit.Chem.rdMolDescriptors import CalcMolFormula\n",
    "from rdkit.Chem import Descriptors\n",
    "from rdkit.Chem.MolStandardize import rdMolStandardize\n",
    "enumerator = rdMolStandardize.TautomerEnumerator()\n",
    "uncharger = rdMolStandardize.Uncharger() \n",
    "\n",
    "from rdkit.Chem import PandasTools\n",
    "\n",
    "import warnings\n",
    "warnings.filterwarnings('ignore')\n",
    "\n",
    "import pandas as pd\n",
    "import os\n",
    "import numpy as np"
   ]
  },
  {
   "cell_type": "code",
   "execution_count": 29,
   "id": "5000dc31-3c30-482a-9c59-d05806ff2d50",
   "metadata": {},
   "outputs": [
    {
     "data": {
      "text/plain": [
       "'C:\\\\Users\\\\LSHIELDS\\\\OneDrive - Environmental Protection Agency (EPA)\\\\Profile\\\\Documents\\\\MyResearch\\\\CTS_doc\\\\CTS_modernization\\\\rxnFiles\\\\Photolysis'"
      ]
     },
     "execution_count": 29,
     "metadata": {},
     "output_type": "execute_result"
    }
   ],
   "source": [
    "path = r'C:\\Users\\LSHIELDS\\OneDrive - Environmental Protection Agency (EPA)\\Profile\\Documents\\MyResearch\\CTS_doc\\CTS_modernization\\rxnFiles\\Photolysis'\n",
    "\n",
    "os.chdir(path)\n",
    "os.getcwd()"
   ]
  },
  {
   "cell_type": "code",
   "execution_count": 30,
   "id": "e729f337-2370-4f92-8583-2380d46774b3",
   "metadata": {},
   "outputs": [],
   "source": [
    "#path = r'C:\\Users\\LSHIELDS\\OneDrive - Environmental Protection Agency (EPA)\\Profile\\Documents\\MyResearch\\CTS_doc\\CTS_modernization\\rxnFiles\\Anaerobic_06132024'\n",
    "results=pd.DataFrame(columns=['Rxn_ID','SMIRKS'])\n",
    "rxns=[]\n",
    "ids=[]\n",
    "count=0\n",
    "for file in os.listdir(path):\n",
    "    count=count+1\n",
    "    rxn=AllChem.ReactionFromRxnFile(file)\n",
    "    #display(Draw.ReactionToImage(rxn))\n",
    "    rxns.append(rdChemReactions.ReactionToSmarts(rxn))\n",
    "    ids.append(count)\n",
    "results['SMIRKS']=rxns\n",
    "results['Rxn_ID']=ids"
   ]
  },
  {
   "cell_type": "code",
   "execution_count": 31,
   "id": "4b650126-fdc2-4f18-9080-da1076ea94e0",
   "metadata": {},
   "outputs": [
    {
     "data": {
      "text/html": [
       "<div>\n",
       "<style scoped>\n",
       "    .dataframe tbody tr th:only-of-type {\n",
       "        vertical-align: middle;\n",
       "    }\n",
       "\n",
       "    .dataframe tbody tr th {\n",
       "        vertical-align: top;\n",
       "    }\n",
       "\n",
       "    .dataframe thead th {\n",
       "        text-align: right;\n",
       "    }\n",
       "</style>\n",
       "<table border=\"1\" class=\"dataframe\">\n",
       "  <thead>\n",
       "    <tr style=\"text-align: right;\">\n",
       "      <th></th>\n",
       "      <th>Rxn_ID</th>\n",
       "      <th>SMIRKS</th>\n",
       "    </tr>\n",
       "  </thead>\n",
       "  <tbody>\n",
       "    <tr>\n",
       "      <th>0</th>\n",
       "      <td>1</td>\n",
       "      <td>[#8:18]=[#6:3]1-[#6:4]-[#6:5]2(-[#6:6]-[#6:7]-...</td>\n",
       "    </tr>\n",
       "    <tr>\n",
       "      <th>1</th>\n",
       "      <td>2</td>\n",
       "      <td>[#6]12-[#6&amp;h{1-}&amp;$([#6&amp;H1:5]):5]=[#6:6]-[#6:7]...</td>\n",
       "    </tr>\n",
       "    <tr>\n",
       "      <th>2</th>\n",
       "      <td>3</td>\n",
       "      <td>[#7&amp;D1:3]-,=[#6&amp;$([#6&amp;X3:1]):1](-[#7&amp;h{2-}&amp;$([...</td>\n",
       "    </tr>\n",
       "    <tr>\n",
       "      <th>3</th>\n",
       "      <td>4</td>\n",
       "      <td>[#6&amp;h{1-}&amp;$([#6&amp;H1:3]):3]-[#7:1](-[#6:2])-[#7&amp;...</td>\n",
       "    </tr>\n",
       "    <tr>\n",
       "      <th>4</th>\n",
       "      <td>5</td>\n",
       "      <td>[#6:3]-[#7:1](-[#6:4])-[#7&amp;D2:2]=[#8:5]&gt;&gt;[#6:3...</td>\n",
       "    </tr>\n",
       "    <tr>\n",
       "      <th>...</th>\n",
       "      <td>...</td>\n",
       "      <td>...</td>\n",
       "    </tr>\n",
       "    <tr>\n",
       "      <th>150</th>\n",
       "      <td>151</td>\n",
       "      <td>[#6:3]1=[#7:2]-[#6,#7:1]=[#6:6](-[#6:5](-[#7&amp;h...</td>\n",
       "    </tr>\n",
       "    <tr>\n",
       "      <th>151</th>\n",
       "      <td>152</td>\n",
       "      <td>[#6&amp;$([#6&amp;a&amp;a:5]):5][#7:3]-[#6&amp;$([#6&amp;R0:1]):1]...</td>\n",
       "    </tr>\n",
       "    <tr>\n",
       "      <th>152</th>\n",
       "      <td>153</td>\n",
       "      <td>[#8&amp;-]-[#7&amp;+:6](=[#8])-[#6:2]1=[#6:3]-[#6:4]=[...</td>\n",
       "    </tr>\n",
       "    <tr>\n",
       "      <th>153</th>\n",
       "      <td>154</td>\n",
       "      <td>[#8&amp;-]-[#7&amp;+](=[#8])-[#7]-,=[#6&amp;$([#6&amp;X3:1]):1...</td>\n",
       "    </tr>\n",
       "    <tr>\n",
       "      <th>154</th>\n",
       "      <td>155</td>\n",
       "      <td>[#7:3]-,=[#6&amp;$([#6&amp;X3:2]):2](-[#7:4])-,=[#7:1]...</td>\n",
       "    </tr>\n",
       "  </tbody>\n",
       "</table>\n",
       "<p>155 rows × 2 columns</p>\n",
       "</div>"
      ],
      "text/plain": [
       "     Rxn_ID                                             SMIRKS\n",
       "0         1  [#8:18]=[#6:3]1-[#6:4]-[#6:5]2(-[#6:6]-[#6:7]-...\n",
       "1         2  [#6]12-[#6&h{1-}&$([#6&H1:5]):5]=[#6:6]-[#6:7]...\n",
       "2         3  [#7&D1:3]-,=[#6&$([#6&X3:1]):1](-[#7&h{2-}&$([...\n",
       "3         4  [#6&h{1-}&$([#6&H1:3]):3]-[#7:1](-[#6:2])-[#7&...\n",
       "4         5  [#6:3]-[#7:1](-[#6:4])-[#7&D2:2]=[#8:5]>>[#6:3...\n",
       "..      ...                                                ...\n",
       "150     151  [#6:3]1=[#7:2]-[#6,#7:1]=[#6:6](-[#6:5](-[#7&h...\n",
       "151     152  [#6&$([#6&a&a:5]):5][#7:3]-[#6&$([#6&R0:1]):1]...\n",
       "152     153  [#8&-]-[#7&+:6](=[#8])-[#6:2]1=[#6:3]-[#6:4]=[...\n",
       "153     154  [#8&-]-[#7&+](=[#8])-[#7]-,=[#6&$([#6&X3:1]):1...\n",
       "154     155  [#7:3]-,=[#6&$([#6&X3:2]):2](-[#7:4])-,=[#7:1]...\n",
       "\n",
       "[155 rows x 2 columns]"
      ]
     },
     "execution_count": 31,
     "metadata": {},
     "output_type": "execute_result"
    }
   ],
   "source": [
    "results"
   ]
  },
  {
   "cell_type": "code",
   "execution_count": 32,
   "id": "ff1f5fad-7cfe-4818-8ed4-17a8876512a7",
   "metadata": {},
   "outputs": [],
   "source": [
    "results.to_excel('Photolysis_SMIRKS.xlsx',index=False)"
   ]
  },
  {
   "cell_type": "code",
   "execution_count": null,
   "id": "0024472e-a62c-4d05-a738-3f00e705502e",
   "metadata": {},
   "outputs": [],
   "source": []
  }
 ],
 "metadata": {
  "kernelspec": {
   "display_name": "Python 3 (ipykernel)",
   "language": "python",
   "name": "python3"
  },
  "language_info": {
   "codemirror_mode": {
    "name": "ipython",
    "version": 3
   },
   "file_extension": ".py",
   "mimetype": "text/x-python",
   "name": "python",
   "nbconvert_exporter": "python",
   "pygments_lexer": "ipython3",
   "version": "3.11.4"
  }
 },
 "nbformat": 4,
 "nbformat_minor": 5
}
