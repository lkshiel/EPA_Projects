{
 "cells": [
  {
   "cell_type": "code",
   "execution_count": 1,
   "id": "d4e5cfc5-4061-41d9-ac8d-3a9719622e28",
   "metadata": {},
   "outputs": [],
   "source": [
    "from rdkit import Chem\n",
    "from rdkit.Chem import Draw\n",
    "from rdkit.Chem.Draw import rdMolDraw2D\n",
    "from rdkit.Chem import rdDepictor\n",
    "from rdkit.Chem import AllChem\n",
    "from rdkit.Chem import Descriptors"
   ]
  },
  {
   "cell_type": "code",
   "execution_count": 26,
   "id": "2834ad5a-d609-4bab-8592-e5c83d494bf6",
   "metadata": {},
   "outputs": [],
   "source": [
    "def GetDiffusivity(smi):\n",
    "    #get molecular weight\n",
    "    mw=Chem.Descriptors.ExactMolWt(Chem.MolFromSmiles(smi))\n",
    "    \n",
    "    #get molar mass for air\n",
    "    #a_mass=(1.55/mw**0.65)\n",
    "    #get molar mass for water\n",
    "    #w_mass=(2.7E-4)/(mw**0.71)\n",
    "        \n",
    "    #get van der waal volume (molecular volume)    \n",
    "    mol=Chem.AddHs(Chem.MolFromSmiles(smi))\n",
    "    AllChem.EmbedMolecule(mol)\n",
    "    vol=Chem.AllChem.ComputeMolVolume(mol)\n",
    "\n",
    "\n",
    "    #constants\n",
    "    #n=8.90E-04 #dynamic viscosity of water, 25C Pa*s units\n",
    "    n=0.890 #dynamic visocity of water ,25C cP units\n",
    "    w_mass=18.015 #molar mass of water\n",
    "    T=298 #temp in K\n",
    "    k=1.38E-23 #boltzman constant in kg-m2/s2-K\n",
    "    pi=3.1415926\n",
    "    X=2.6 #constant that depends on solvent, this is the constant for water\n",
    "    \n",
    "     #calculate FSG (air) diffusivity coefficinent\n",
    "    FSG=10**-3*((T**1.75*((1/28.97)+(1/mw))**0.5)/(20.1**(1/3)+(vol**(1/3)))**2)\n",
    "    \n",
    "    #calculate Wilke-Chang (water) diffusivity coefficinent\n",
    "    WC=(7.4E-8)*((((X*w_mass)**0.5)*T)/(n*((vol)**0.6)))\n",
    "    \n",
    "     #calculate Hayduk-Laudie (water) diffusivity coefficinent\n",
    "    HL=13.26E-5/((n**1.4)*((vol)**0.589))\n",
    "    \n",
    "    return 'FSG:',FSG,'Wilk-Chang:', WC,'Hayduk-Laudie', HL"
   ]
  },
  {
   "cell_type": "code",
   "execution_count": 27,
   "id": "520a89b3-b59e-4705-be1a-679a97427f75",
   "metadata": {},
   "outputs": [
    {
     "data": {
      "text/plain": [
       "('FSG:',\n",
       " 0.0927207245084595,\n",
       " 'Wilk-Chang:',\n",
       " 1.1961602884032254e-05,\n",
       " 'Hayduk-Laudie',\n",
       " 1.1559452672723655e-05)"
      ]
     },
     "execution_count": 27,
     "metadata": {},
     "output_type": "execute_result"
    }
   ],
   "source": [
    "GetDiffusivity('C1=CC=CC=C1')"
   ]
  },
  {
   "cell_type": "code",
   "execution_count": 28,
   "id": "2311b9e2-f1d1-4328-81c8-2350d8576cea",
   "metadata": {
    "scrolled": true
   },
   "outputs": [
    {
     "data": {
      "text/plain": [
       "('FSG:',\n",
       " 0.10946948042096062,\n",
       " 'Wilk-Chang:',\n",
       " 1.4395681860103343e-05,\n",
       " 'Hayduk-Laudie',\n",
       " 1.3864536189016106e-05)"
      ]
     },
     "execution_count": 28,
     "metadata": {},
     "output_type": "execute_result"
    }
   ],
   "source": [
    "GetDiffusivity('CC(N)=O')"
   ]
  },
  {
   "cell_type": "code",
   "execution_count": 29,
   "id": "cc196301-4371-4f09-b4e2-8f00400df484",
   "metadata": {
    "scrolled": true
   },
   "outputs": [
    {
     "data": {
      "text/plain": [
       "('FSG:',\n",
       " 0.08934324829901877,\n",
       " 'Wilk-Chang:',\n",
       " 1.1769437590945767e-05,\n",
       " 'Hayduk-Laudie',\n",
       " 1.137712558671892e-05)"
      ]
     },
     "execution_count": 29,
     "metadata": {},
     "output_type": "execute_result"
    }
   ],
   "source": [
    "GetDiffusivity('O=CC1=CC=CO1')"
   ]
  },
  {
   "cell_type": "code",
   "execution_count": null,
   "id": "b3c941a4-a375-4b22-82d1-701cdffd904c",
   "metadata": {},
   "outputs": [],
   "source": []
  }
 ],
 "metadata": {
  "kernelspec": {
   "display_name": "new_pka_prediction",
   "language": "python",
   "name": "new_pka_prediction"
  },
  "language_info": {
   "codemirror_mode": {
    "name": "ipython",
    "version": 3
   },
   "file_extension": ".py",
   "mimetype": "text/x-python",
   "name": "python",
   "nbconvert_exporter": "python",
   "pygments_lexer": "ipython3",
   "version": "3.11.6"
  }
 },
 "nbformat": 4,
 "nbformat_minor": 5
}
