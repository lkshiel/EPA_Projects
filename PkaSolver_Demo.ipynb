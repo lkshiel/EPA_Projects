{
 "cells": [
  {
   "cell_type": "markdown",
   "id": "a57af2b8",
   "metadata": {},
   "source": [
    "# Run pkasolver demo\n",
    "### Lindsay Shields\n",
    "#### November 3, 2022\n",
    "\n",
    "This notebook was developed as a demo for pkasolver. Proof of performance can be found in notebooks PkaSolver_Run.ipynb and Pkasolver_DataAnalysis.ipynb."
   ]
  },
  {
   "cell_type": "code",
   "execution_count": 1,
   "id": "66047b40",
   "metadata": {},
   "outputs": [],
   "source": [
    "#import dependancies \n",
    "import pickle\n",
    "import pandas as pd\n",
    "from rdkit import Chem\n",
    "import torch\n",
    "from os import path\n",
    "\n",
    "#import pkasolver\n",
    "import pkasolver\n",
    "from pkasolver.query import QueryModel\n",
    "from pkasolver.ml_architecture import GINPairV1\n",
    "from pkasolver.query import draw_pka_map \n",
    "from pkasolver.query import calculate_microstate_pka_values, draw_pka_reactions\n",
    "from IPython.display import display\n",
    "from IPython.display import HTML\n",
    "\n",
    "#load trained model\n",
    "base_path=path.dirname(pkasolver.__file__)\n"
   ]
  },
  {
   "cell_type": "markdown",
   "id": "f1992cd7",
   "metadata": {},
   "source": [
    "### Generator function\n",
    "Runs pkasolver through a generator function.\n",
    "\n",
    "This prevents overloading the tmp pickle file and allowing for a bettter dealing of batch sample submission."
   ]
  },
  {
   "cell_type": "code",
   "execution_count": 2,
   "id": "80f5de36",
   "metadata": {},
   "outputs": [],
   "source": [
    "def RunPkasolver(x): #takes input of smile object\n",
    "    protonation_states = calculate_microstate_pka_values(x) #performs internal calculations and stores as object\n",
    "    sites=len(protonation_states) #get the number of ionization sites \n",
    "    \n",
    "    lst=[]\n",
    "    for j in range(len(protonation_states)):\n",
    "        state=protonation_states[j]\n",
    "        lst.append(round(state.pka,2)) #get pka values for all sites for a given molecule store in a list\n",
    "    \n",
    "    yield sites, lst"
   ]
  },
  {
   "cell_type": "code",
   "execution_count": 2,
   "id": "6342693e",
   "metadata": {},
   "outputs": [
    {
     "data": {
      "text/html": [
       "<div>\n",
       "<style scoped>\n",
       "    .dataframe tbody tr th:only-of-type {\n",
       "        vertical-align: middle;\n",
       "    }\n",
       "\n",
       "    .dataframe tbody tr th {\n",
       "        vertical-align: top;\n",
       "    }\n",
       "\n",
       "    .dataframe thead th {\n",
       "        text-align: right;\n",
       "    }\n",
       "</style>\n",
       "<table border=\"1\" class=\"dataframe\">\n",
       "  <thead>\n",
       "    <tr style=\"text-align: right;\">\n",
       "      <th></th>\n",
       "      <th>FunctionalGroup</th>\n",
       "      <th>Specific</th>\n",
       "      <th>Compound</th>\n",
       "      <th>DTXSID</th>\n",
       "      <th>SMILES</th>\n",
       "      <th>Expt_pKa1</th>\n",
       "      <th>Expt_pKa2</th>\n",
       "      <th>Expt_pKa3</th>\n",
       "      <th>Expt_pKa4</th>\n",
       "      <th>CA_pKa1</th>\n",
       "      <th>CA_pKa2</th>\n",
       "      <th>CA_pKa3</th>\n",
       "      <th>CA_pKa4</th>\n",
       "      <th>CA_pKa5</th>\n",
       "      <th>CA_pKa6</th>\n",
       "      <th>Source</th>\n",
       "      <th>Reference</th>\n",
       "      <th>DOI</th>\n",
       "      <th>Reason_for_inclusion</th>\n",
       "    </tr>\n",
       "  </thead>\n",
       "  <tbody>\n",
       "    <tr>\n",
       "      <th>0</th>\n",
       "      <td>Carboxylic Acid</td>\n",
       "      <td>Acetic acids</td>\n",
       "      <td>Acetic acid</td>\n",
       "      <td>DTXSID5024394</td>\n",
       "      <td>CC(O)=O</td>\n",
       "      <td>4.76</td>\n",
       "      <td>NaN</td>\n",
       "      <td>NaN</td>\n",
       "      <td>NaN</td>\n",
       "      <td>4.54</td>\n",
       "      <td>32.68</td>\n",
       "      <td>NaN</td>\n",
       "      <td>NaN</td>\n",
       "      <td>NaN</td>\n",
       "      <td>NaN</td>\n",
       "      <td>pKa-COOH_FullUpdated.xlsx</td>\n",
       "      <td>Dippy, J.F.J.; Hughes, S.R.C.; Rozanski, A. J....</td>\n",
       "      <td>NaN</td>\n",
       "      <td>perfromed well with chem axon (x-y &lt; 0.3)</td>\n",
       "    </tr>\n",
       "    <tr>\n",
       "      <th>1</th>\n",
       "      <td>Phosphate</td>\n",
       "      <td>NaN</td>\n",
       "      <td>Phosphate</td>\n",
       "      <td>DTXSID5024263</td>\n",
       "      <td>OP(O)(O)=O</td>\n",
       "      <td>1.97</td>\n",
       "      <td>6.82</td>\n",
       "      <td>12.5</td>\n",
       "      <td>NaN</td>\n",
       "      <td>1.80</td>\n",
       "      <td>6.95</td>\n",
       "      <td>NaN</td>\n",
       "      <td>NaN</td>\n",
       "      <td>NaN</td>\n",
       "      <td>NaN</td>\n",
       "      <td>pKaMaster.xlsx</td>\n",
       "      <td>Kumler, W.D.; Eiler, J.J. J. Am. Chem. Soc. 19...</td>\n",
       "      <td>10.1021/ja01252a028</td>\n",
       "      <td>NaN</td>\n",
       "    </tr>\n",
       "    <tr>\n",
       "      <th>2</th>\n",
       "      <td>Phosphate</td>\n",
       "      <td>NaN</td>\n",
       "      <td>Methyl-Phosphate</td>\n",
       "      <td>DTXSID2025684</td>\n",
       "      <td>COP(O)(O)=O</td>\n",
       "      <td>1.54</td>\n",
       "      <td>6.31</td>\n",
       "      <td>NaN</td>\n",
       "      <td>NaN</td>\n",
       "      <td>1.83</td>\n",
       "      <td>6.85</td>\n",
       "      <td>NaN</td>\n",
       "      <td>NaN</td>\n",
       "      <td>NaN</td>\n",
       "      <td>NaN</td>\n",
       "      <td>pKaMaster.xlsx</td>\n",
       "      <td>Kumler, W.D.; Eiler, J.J. J. Am. Chem. Soc. 19...</td>\n",
       "      <td>10.1021/ja01252a028</td>\n",
       "      <td>NaN</td>\n",
       "    </tr>\n",
       "    <tr>\n",
       "      <th>3</th>\n",
       "      <td>Phosphate</td>\n",
       "      <td>NaN</td>\n",
       "      <td>Ethyl-Phosphate</td>\n",
       "      <td>DTXSID1044699</td>\n",
       "      <td>CCOP(O)(=O)OCC</td>\n",
       "      <td>1.60</td>\n",
       "      <td>6.62</td>\n",
       "      <td>NaN</td>\n",
       "      <td>NaN</td>\n",
       "      <td>1.95</td>\n",
       "      <td>NaN</td>\n",
       "      <td>NaN</td>\n",
       "      <td>NaN</td>\n",
       "      <td>NaN</td>\n",
       "      <td>NaN</td>\n",
       "      <td>pKaMaster.xlsx</td>\n",
       "      <td>Kumler, W.D.; Eiler, J.J. J. Am. Chem. Soc. 19...</td>\n",
       "      <td>10.1021/ja01252a028</td>\n",
       "      <td>NaN</td>\n",
       "    </tr>\n",
       "    <tr>\n",
       "      <th>4</th>\n",
       "      <td>Phosphate</td>\n",
       "      <td>NaN</td>\n",
       "      <td>Dimethyl-Phosphate</td>\n",
       "      <td>DTXSID5025150</td>\n",
       "      <td>COP(O)(=O)OC</td>\n",
       "      <td>1.29</td>\n",
       "      <td>NaN</td>\n",
       "      <td>NaN</td>\n",
       "      <td>NaN</td>\n",
       "      <td>2.00</td>\n",
       "      <td>NaN</td>\n",
       "      <td>NaN</td>\n",
       "      <td>NaN</td>\n",
       "      <td>NaN</td>\n",
       "      <td>NaN</td>\n",
       "      <td>pKaMaster.xlsx</td>\n",
       "      <td>Kumler, W.D.; Eiler, J.J. J. Am. Chem. Soc. 19...</td>\n",
       "      <td>10.1021/ja01252a028</td>\n",
       "      <td>NaN</td>\n",
       "    </tr>\n",
       "  </tbody>\n",
       "</table>\n",
       "</div>"
      ],
      "text/plain": [
       "   FunctionalGroup      Specific            Compound         DTXSID  \\\n",
       "0  Carboxylic Acid  Acetic acids         Acetic acid  DTXSID5024394   \n",
       "1        Phosphate           NaN           Phosphate  DTXSID5024263   \n",
       "2        Phosphate           NaN    Methyl-Phosphate  DTXSID2025684   \n",
       "3        Phosphate           NaN     Ethyl-Phosphate  DTXSID1044699   \n",
       "4        Phosphate           NaN  Dimethyl-Phosphate  DTXSID5025150   \n",
       "\n",
       "           SMILES  Expt_pKa1  Expt_pKa2  Expt_pKa3  Expt_pKa4  CA_pKa1  \\\n",
       "0         CC(O)=O       4.76        NaN        NaN        NaN     4.54   \n",
       "1      OP(O)(O)=O       1.97       6.82       12.5        NaN     1.80   \n",
       "2     COP(O)(O)=O       1.54       6.31        NaN        NaN     1.83   \n",
       "3  CCOP(O)(=O)OCC       1.60       6.62        NaN        NaN     1.95   \n",
       "4    COP(O)(=O)OC       1.29        NaN        NaN        NaN     2.00   \n",
       "\n",
       "   CA_pKa2  CA_pKa3  CA_pKa4  CA_pKa5  CA_pKa6                     Source  \\\n",
       "0    32.68      NaN      NaN      NaN      NaN  pKa-COOH_FullUpdated.xlsx   \n",
       "1     6.95      NaN      NaN      NaN      NaN             pKaMaster.xlsx   \n",
       "2     6.85      NaN      NaN      NaN      NaN             pKaMaster.xlsx   \n",
       "3      NaN      NaN      NaN      NaN      NaN             pKaMaster.xlsx   \n",
       "4      NaN      NaN      NaN      NaN      NaN             pKaMaster.xlsx   \n",
       "\n",
       "                                           Reference                  DOI  \\\n",
       "0  Dippy, J.F.J.; Hughes, S.R.C.; Rozanski, A. J....                  NaN   \n",
       "1  Kumler, W.D.; Eiler, J.J. J. Am. Chem. Soc. 19...  10.1021/ja01252a028   \n",
       "2  Kumler, W.D.; Eiler, J.J. J. Am. Chem. Soc. 19...  10.1021/ja01252a028   \n",
       "3  Kumler, W.D.; Eiler, J.J. J. Am. Chem. Soc. 19...  10.1021/ja01252a028   \n",
       "4  Kumler, W.D.; Eiler, J.J. J. Am. Chem. Soc. 19...  10.1021/ja01252a028   \n",
       "\n",
       "                        Reason_for_inclusion  \n",
       "0  perfromed well with chem axon (x-y < 0.3)  \n",
       "1                                        NaN  \n",
       "2                                        NaN  \n",
       "3                                        NaN  \n",
       "4                                        NaN  "
      ]
     },
     "execution_count": 2,
     "metadata": {},
     "output_type": "execute_result"
    }
   ],
   "source": [
    "#import test data\n",
    "inpt=pd.read_csv('TestData_103122.csv')\n",
    "inpt.head()"
   ]
  },
  {
   "cell_type": "code",
   "execution_count": 7,
   "id": "e9889e76",
   "metadata": {},
   "outputs": [
    {
     "data": {
      "text/html": [
       "<div>\n",
       "<style scoped>\n",
       "    .dataframe tbody tr th:only-of-type {\n",
       "        vertical-align: middle;\n",
       "    }\n",
       "\n",
       "    .dataframe tbody tr th {\n",
       "        vertical-align: top;\n",
       "    }\n",
       "\n",
       "    .dataframe thead th {\n",
       "        text-align: right;\n",
       "    }\n",
       "</style>\n",
       "<table border=\"1\" class=\"dataframe\">\n",
       "  <thead>\n",
       "    <tr style=\"text-align: right;\">\n",
       "      <th></th>\n",
       "      <th>Compound</th>\n",
       "      <th>DTXSID</th>\n",
       "      <th>SMILES</th>\n",
       "      <th>ps_sites</th>\n",
       "      <th>pka</th>\n",
       "    </tr>\n",
       "  </thead>\n",
       "  <tbody>\n",
       "    <tr>\n",
       "      <th>0</th>\n",
       "      <td>Acetic acid</td>\n",
       "      <td>DTXSID5024394</td>\n",
       "      <td>CC(O)=O</td>\n",
       "      <td>NaN</td>\n",
       "      <td>NaN</td>\n",
       "    </tr>\n",
       "    <tr>\n",
       "      <th>1</th>\n",
       "      <td>Phosphate</td>\n",
       "      <td>DTXSID5024263</td>\n",
       "      <td>OP(O)(O)=O</td>\n",
       "      <td>NaN</td>\n",
       "      <td>NaN</td>\n",
       "    </tr>\n",
       "    <tr>\n",
       "      <th>2</th>\n",
       "      <td>Methyl-Phosphate</td>\n",
       "      <td>DTXSID2025684</td>\n",
       "      <td>COP(O)(O)=O</td>\n",
       "      <td>NaN</td>\n",
       "      <td>NaN</td>\n",
       "    </tr>\n",
       "    <tr>\n",
       "      <th>3</th>\n",
       "      <td>Ethyl-Phosphate</td>\n",
       "      <td>DTXSID1044699</td>\n",
       "      <td>CCOP(O)(=O)OCC</td>\n",
       "      <td>NaN</td>\n",
       "      <td>NaN</td>\n",
       "    </tr>\n",
       "    <tr>\n",
       "      <th>4</th>\n",
       "      <td>Dimethyl-Phosphate</td>\n",
       "      <td>DTXSID5025150</td>\n",
       "      <td>COP(O)(=O)OC</td>\n",
       "      <td>NaN</td>\n",
       "      <td>NaN</td>\n",
       "    </tr>\n",
       "    <tr>\n",
       "      <th>...</th>\n",
       "      <td>...</td>\n",
       "      <td>...</td>\n",
       "      <td>...</td>\n",
       "      <td>...</td>\n",
       "      <td>...</td>\n",
       "    </tr>\n",
       "    <tr>\n",
       "      <th>128</th>\n",
       "      <td>propan-1-aminium</td>\n",
       "      <td>NaN</td>\n",
       "      <td>CCC[NH3+]</td>\n",
       "      <td>NaN</td>\n",
       "      <td>NaN</td>\n",
       "    </tr>\n",
       "    <tr>\n",
       "      <th>129</th>\n",
       "      <td>propane-1,3-bis(aminium)</td>\n",
       "      <td>NaN</td>\n",
       "      <td>[NH3+]CCC[NH3+]</td>\n",
       "      <td>NaN</td>\n",
       "      <td>NaN</td>\n",
       "    </tr>\n",
       "    <tr>\n",
       "      <th>130</th>\n",
       "      <td>3-carboxypropan-1-aminium</td>\n",
       "      <td>NaN</td>\n",
       "      <td>[NH3+]CCCC(O)=O</td>\n",
       "      <td>NaN</td>\n",
       "      <td>NaN</td>\n",
       "    </tr>\n",
       "    <tr>\n",
       "      <th>131</th>\n",
       "      <td>3-sulfopropan-1-aminium</td>\n",
       "      <td>NaN</td>\n",
       "      <td>[NH3+]CCCS(O)(=O)=O</td>\n",
       "      <td>NaN</td>\n",
       "      <td>NaN</td>\n",
       "    </tr>\n",
       "    <tr>\n",
       "      <th>132</th>\n",
       "      <td>n-Butyl-amine</td>\n",
       "      <td>DTXSID1021904</td>\n",
       "      <td>CCCCN</td>\n",
       "      <td>NaN</td>\n",
       "      <td>NaN</td>\n",
       "    </tr>\n",
       "  </tbody>\n",
       "</table>\n",
       "<p>133 rows × 5 columns</p>\n",
       "</div>"
      ],
      "text/plain": [
       "                      Compound         DTXSID               SMILES ps_sites  \\\n",
       "0                  Acetic acid  DTXSID5024394              CC(O)=O      NaN   \n",
       "1                    Phosphate  DTXSID5024263           OP(O)(O)=O      NaN   \n",
       "2             Methyl-Phosphate  DTXSID2025684          COP(O)(O)=O      NaN   \n",
       "3              Ethyl-Phosphate  DTXSID1044699       CCOP(O)(=O)OCC      NaN   \n",
       "4           Dimethyl-Phosphate  DTXSID5025150         COP(O)(=O)OC      NaN   \n",
       "..                         ...            ...                  ...      ...   \n",
       "128           propan-1-aminium            NaN            CCC[NH3+]      NaN   \n",
       "129   propane-1,3-bis(aminium)            NaN      [NH3+]CCC[NH3+]      NaN   \n",
       "130  3-carboxypropan-1-aminium            NaN      [NH3+]CCCC(O)=O      NaN   \n",
       "131    3-sulfopropan-1-aminium            NaN  [NH3+]CCCS(O)(=O)=O      NaN   \n",
       "132              n-Butyl-amine  DTXSID1021904                CCCCN      NaN   \n",
       "\n",
       "     pka  \n",
       "0    NaN  \n",
       "1    NaN  \n",
       "2    NaN  \n",
       "3    NaN  \n",
       "4    NaN  \n",
       "..   ...  \n",
       "128  NaN  \n",
       "129  NaN  \n",
       "130  NaN  \n",
       "131  NaN  \n",
       "132  NaN  \n",
       "\n",
       "[133 rows x 5 columns]"
      ]
     },
     "execution_count": 7,
     "metadata": {},
     "output_type": "execute_result"
    }
   ],
   "source": [
    "#make an empty results dataframe called results\n",
    "results=pd.DataFrame(columns=['Compound','DTXSID','SMILES','ps_sites','pka'])\n",
    "\n",
    "#fill results dataframe with exisitng information\n",
    "results[['Compound','SMILES','DTXSID']]=inpt[['Compound', 'SMILES','DTXSID']]\n",
    "results"
   ]
  },
  {
   "cell_type": "markdown",
   "id": "8bcfdc7b",
   "metadata": {},
   "source": [
    "### Run pkasolver\n",
    "\n",
    "On my local machine it takes a few minutes (~10)"
   ]
  },
  {
   "cell_type": "code",
   "execution_count": 8,
   "id": "a987fa8e",
   "metadata": {},
   "outputs": [
    {
     "name": "stderr",
     "output_type": "stream",
     "text": [
      "[query.py:297 - calculate_microstate_pka_values()] Using dimorphite-dl to identify protonation sites.\n"
     ]
    },
    {
     "name": "stdout",
     "output_type": "stream",
     "text": [
      "Proposed mol at pH 7.4: CC(=O)[O-]\n"
     ]
    },
    {
     "name": "stderr",
     "output_type": "stream",
     "text": [
      "[query.py:297 - calculate_microstate_pka_values()] Using dimorphite-dl to identify protonation sites.\n"
     ]
    },
    {
     "name": "stdout",
     "output_type": "stream",
     "text": [
      "Proposed mol at pH 7.4: O=P([O-])([O-])[O-]\n"
     ]
    },
    {
     "name": "stderr",
     "output_type": "stream",
     "text": [
      "[query.py:297 - calculate_microstate_pka_values()] Using dimorphite-dl to identify protonation sites.\n"
     ]
    },
    {
     "name": "stdout",
     "output_type": "stream",
     "text": [
      "Proposed mol at pH 7.4: COP(=O)([O-])[O-]\n"
     ]
    },
    {
     "name": "stderr",
     "output_type": "stream",
     "text": [
      "[query.py:297 - calculate_microstate_pka_values()] Using dimorphite-dl to identify protonation sites.\n"
     ]
    },
    {
     "name": "stdout",
     "output_type": "stream",
     "text": [
      "Proposed mol at pH 7.4: CCOP(=O)([O-])OCC\n"
     ]
    },
    {
     "name": "stderr",
     "output_type": "stream",
     "text": [
      "[query.py:297 - calculate_microstate_pka_values()] Using dimorphite-dl to identify protonation sites.\n"
     ]
    },
    {
     "name": "stdout",
     "output_type": "stream",
     "text": [
      "Proposed mol at pH 7.4: COP(=O)([O-])OC\n"
     ]
    },
    {
     "name": "stderr",
     "output_type": "stream",
     "text": [
      "[query.py:297 - calculate_microstate_pka_values()] Using dimorphite-dl to identify protonation sites.\n"
     ]
    },
    {
     "name": "stdout",
     "output_type": "stream",
     "text": [
      "Proposed mol at pH 7.4: CCCCOP(=O)([O-])OCCCC\n"
     ]
    },
    {
     "name": "stderr",
     "output_type": "stream",
     "text": [
      "[query.py:297 - calculate_microstate_pka_values()] Using dimorphite-dl to identify protonation sites.\n"
     ]
    },
    {
     "name": "stdout",
     "output_type": "stream",
     "text": [
      "Proposed mol at pH 7.4: CCCOP(=O)(OCCC)OCCC\n",
      "#########################\n",
      "Could not identify any ionizable group. Aborting.\n",
      "#########################\n"
     ]
    },
    {
     "name": "stderr",
     "output_type": "stream",
     "text": [
      "[query.py:297 - calculate_microstate_pka_values()] Using dimorphite-dl to identify protonation sites.\n"
     ]
    },
    {
     "name": "stdout",
     "output_type": "stream",
     "text": [
      "Proposed mol at pH 7.4: CCCCOP(=O)(OCCCC)OCCCC\n",
      "#########################\n",
      "Could not identify any ionizable group. Aborting.\n",
      "#########################\n"
     ]
    },
    {
     "name": "stderr",
     "output_type": "stream",
     "text": [
      "[query.py:297 - calculate_microstate_pka_values()] Using dimorphite-dl to identify protonation sites.\n"
     ]
    },
    {
     "name": "stdout",
     "output_type": "stream",
     "text": [
      "Proposed mol at pH 7.4: CCCOP(=O)(OCC)OCC\n",
      "#########################\n",
      "Could not identify any ionizable group. Aborting.\n",
      "#########################\n"
     ]
    },
    {
     "name": "stderr",
     "output_type": "stream",
     "text": [
      "[query.py:297 - calculate_microstate_pka_values()] Using dimorphite-dl to identify protonation sites.\n"
     ]
    },
    {
     "name": "stdout",
     "output_type": "stream",
     "text": [
      "Proposed mol at pH 7.4: O=C([O-])Cc1ccc([S-])cc1\n"
     ]
    },
    {
     "name": "stderr",
     "output_type": "stream",
     "text": [
      "[query.py:297 - calculate_microstate_pka_values()] Using dimorphite-dl to identify protonation sites.\n"
     ]
    },
    {
     "name": "stdout",
     "output_type": "stream",
     "text": [
      "Proposed mol at pH 7.4: CCS\n"
     ]
    },
    {
     "name": "stderr",
     "output_type": "stream",
     "text": [
      "[query.py:297 - calculate_microstate_pka_values()] Using dimorphite-dl to identify protonation sites.\n"
     ]
    },
    {
     "name": "stdout",
     "output_type": "stream",
     "text": [
      "Proposed mol at pH 7.4: O=S(=O)([O-])CCS\n"
     ]
    },
    {
     "name": "stderr",
     "output_type": "stream",
     "text": [
      "[query.py:297 - calculate_microstate_pka_values()] Using dimorphite-dl to identify protonation sites.\n"
     ]
    },
    {
     "name": "stdout",
     "output_type": "stream",
     "text": [
      "Proposed mol at pH 7.4: Nc1ccccc1[S-]\n"
     ]
    },
    {
     "name": "stderr",
     "output_type": "stream",
     "text": [
      "[query.py:297 - calculate_microstate_pka_values()] Using dimorphite-dl to identify protonation sites.\n"
     ]
    },
    {
     "name": "stdout",
     "output_type": "stream",
     "text": [
      "Proposed mol at pH 7.4: [S-]c1ccccc1\n"
     ]
    },
    {
     "name": "stderr",
     "output_type": "stream",
     "text": [
      "[query.py:297 - calculate_microstate_pka_values()] Using dimorphite-dl to identify protonation sites.\n"
     ]
    },
    {
     "name": "stdout",
     "output_type": "stream",
     "text": [
      "Proposed mol at pH 7.4: O=C([O-])CCS\n"
     ]
    },
    {
     "name": "stderr",
     "output_type": "stream",
     "text": [
      "[query.py:297 - calculate_microstate_pka_values()] Using dimorphite-dl to identify protonation sites.\n"
     ]
    },
    {
     "name": "stdout",
     "output_type": "stream",
     "text": [
      "Proposed mol at pH 7.4: COC(=O)[C@@H]([NH3+])CS\n"
     ]
    },
    {
     "name": "stderr",
     "output_type": "stream",
     "text": [
      "[query.py:297 - calculate_microstate_pka_values()] Using dimorphite-dl to identify protonation sites.\n"
     ]
    },
    {
     "name": "stdout",
     "output_type": "stream",
     "text": [
      "Proposed mol at pH 7.4: [S-]c1ccc(Cl)cc1\n"
     ]
    },
    {
     "name": "stderr",
     "output_type": "stream",
     "text": [
      "[query.py:297 - calculate_microstate_pka_values()] Using dimorphite-dl to identify protonation sites.\n"
     ]
    },
    {
     "name": "stdout",
     "output_type": "stream",
     "text": [
      "Proposed mol at pH 7.4: O=C([O-])C12CCC(CC1)CC2\n"
     ]
    },
    {
     "name": "stderr",
     "output_type": "stream",
     "text": [
      "[query.py:297 - calculate_microstate_pka_values()] Using dimorphite-dl to identify protonation sites.\n"
     ]
    },
    {
     "name": "stdout",
     "output_type": "stream",
     "text": [
      "Proposed mol at pH 7.4: CCOC(=O)C12CCC(C(=O)[O-])(CC1)CC2\n"
     ]
    },
    {
     "name": "stderr",
     "output_type": "stream",
     "text": [
      "[query.py:297 - calculate_microstate_pka_values()] Using dimorphite-dl to identify protonation sites.\n"
     ]
    },
    {
     "name": "stdout",
     "output_type": "stream",
     "text": [
      "Proposed mol at pH 7.4: N#CC12CCC(C(=O)[O-])(CC1)CC2\n"
     ]
    },
    {
     "name": "stderr",
     "output_type": "stream",
     "text": [
      "[query.py:297 - calculate_microstate_pka_values()] Using dimorphite-dl to identify protonation sites.\n"
     ]
    },
    {
     "name": "stdout",
     "output_type": "stream",
     "text": [
      "Proposed mol at pH 7.4: O=C([O-])C12CCC(O)(CC1)CC2\n"
     ]
    },
    {
     "name": "stderr",
     "output_type": "stream",
     "text": [
      "[query.py:297 - calculate_microstate_pka_values()] Using dimorphite-dl to identify protonation sites.\n"
     ]
    },
    {
     "name": "stdout",
     "output_type": "stream",
     "text": [
      "Proposed mol at pH 7.4: O=C([O-])C12CCC(Br)(CC1)CC2\n"
     ]
    },
    {
     "name": "stderr",
     "output_type": "stream",
     "text": [
      "[query.py:297 - calculate_microstate_pka_values()] Using dimorphite-dl to identify protonation sites.\n"
     ]
    },
    {
     "name": "stdout",
     "output_type": "stream",
     "text": [
      "Proposed mol at pH 7.4: O=C([O-])c1ccccc1\n"
     ]
    },
    {
     "name": "stderr",
     "output_type": "stream",
     "text": [
      "[query.py:297 - calculate_microstate_pka_values()] Using dimorphite-dl to identify protonation sites.\n"
     ]
    },
    {
     "name": "stdout",
     "output_type": "stream",
     "text": [
      "Proposed mol at pH 7.4: O=C([O-])C(Cl)Cl\n"
     ]
    },
    {
     "name": "stderr",
     "output_type": "stream",
     "text": [
      "[query.py:297 - calculate_microstate_pka_values()] Using dimorphite-dl to identify protonation sites.\n"
     ]
    },
    {
     "name": "stdout",
     "output_type": "stream",
     "text": [
      "Proposed mol at pH 7.4: N#CSCC(=O)[O-]\n"
     ]
    },
    {
     "name": "stderr",
     "output_type": "stream",
     "text": [
      "[query.py:297 - calculate_microstate_pka_values()] Using dimorphite-dl to identify protonation sites.\n"
     ]
    },
    {
     "name": "stdout",
     "output_type": "stream",
     "text": [
      "Proposed mol at pH 7.4: O=C([O-])[C@H](O)[C@@H](O)[C@H](O)[C@H](O)CO\n"
     ]
    },
    {
     "name": "stderr",
     "output_type": "stream",
     "text": [
      "[query.py:297 - calculate_microstate_pka_values()] Using dimorphite-dl to identify protonation sites.\n"
     ]
    },
    {
     "name": "stdout",
     "output_type": "stream",
     "text": [
      "Proposed mol at pH 7.4: OCC(O)CO\n"
     ]
    },
    {
     "name": "stderr",
     "output_type": "stream",
     "text": [
      "[query.py:297 - calculate_microstate_pka_values()] Using dimorphite-dl to identify protonation sites.\n"
     ]
    },
    {
     "name": "stdout",
     "output_type": "stream",
     "text": [
      "Proposed mol at pH 7.4: Oc1ccncc1\n"
     ]
    },
    {
     "name": "stderr",
     "output_type": "stream",
     "text": [
      "[query.py:297 - calculate_microstate_pka_values()] Using dimorphite-dl to identify protonation sites.\n"
     ]
    },
    {
     "name": "stdout",
     "output_type": "stream",
     "text": [
      "Proposed mol at pH 7.4: Oc1cnc2ccccc2c1\n"
     ]
    },
    {
     "name": "stderr",
     "output_type": "stream",
     "text": [
      "[query.py:297 - calculate_microstate_pka_values()] Using dimorphite-dl to identify protonation sites.\n"
     ]
    },
    {
     "name": "stdout",
     "output_type": "stream",
     "text": [
      "Proposed mol at pH 7.4: Oc1cccc2cccnc12\n"
     ]
    },
    {
     "name": "stderr",
     "output_type": "stream",
     "text": [
      "[query.py:297 - calculate_microstate_pka_values()] Using dimorphite-dl to identify protonation sites.\n"
     ]
    },
    {
     "name": "stdout",
     "output_type": "stream",
     "text": [
      "Proposed mol at pH 7.4: Cc1ccccc1O\n"
     ]
    },
    {
     "name": "stderr",
     "output_type": "stream",
     "text": [
      "[query.py:297 - calculate_microstate_pka_values()] Using dimorphite-dl to identify protonation sites.\n"
     ]
    },
    {
     "name": "stdout",
     "output_type": "stream",
     "text": [
      "Proposed mol at pH 7.4: Cc1cccc(O)c1\n"
     ]
    },
    {
     "name": "stderr",
     "output_type": "stream",
     "text": [
      "[query.py:297 - calculate_microstate_pka_values()] Using dimorphite-dl to identify protonation sites.\n"
     ]
    },
    {
     "name": "stdout",
     "output_type": "stream",
     "text": [
      "Proposed mol at pH 7.4: Cc1ccc(O)cc1\n"
     ]
    },
    {
     "name": "stderr",
     "output_type": "stream",
     "text": [
      "[query.py:297 - calculate_microstate_pka_values()] Using dimorphite-dl to identify protonation sites.\n"
     ]
    },
    {
     "name": "stdout",
     "output_type": "stream",
     "text": [
      "Proposed mol at pH 7.4: Oc1cccc(Cl)c1Cl\n"
     ]
    },
    {
     "name": "stderr",
     "output_type": "stream",
     "text": [
      "[query.py:297 - calculate_microstate_pka_values()] Using dimorphite-dl to identify protonation sites.\n"
     ]
    },
    {
     "name": "stdout",
     "output_type": "stream",
     "text": [
      "Proposed mol at pH 7.4: O=[N+]([O-])c1ccc(O)c([N+](=O)[O-])c1\n"
     ]
    },
    {
     "name": "stderr",
     "output_type": "stream",
     "text": [
      "[query.py:297 - calculate_microstate_pka_values()] Using dimorphite-dl to identify protonation sites.\n"
     ]
    },
    {
     "name": "stdout",
     "output_type": "stream",
     "text": [
      "Proposed mol at pH 7.4: O=[N+]([O-])c1cccc([N+](=O)[O-])c1O\n"
     ]
    },
    {
     "name": "stderr",
     "output_type": "stream",
     "text": [
      "[query.py:297 - calculate_microstate_pka_values()] Using dimorphite-dl to identify protonation sites.\n"
     ]
    },
    {
     "name": "stdout",
     "output_type": "stream",
     "text": [
      "Proposed mol at pH 7.4: [NH3+]C(CCS)C(=O)[O-]\n"
     ]
    },
    {
     "name": "stderr",
     "output_type": "stream",
     "text": [
      "[query.py:297 - calculate_microstate_pka_values()] Using dimorphite-dl to identify protonation sites.\n"
     ]
    },
    {
     "name": "stdout",
     "output_type": "stream",
     "text": [
      "Proposed mol at pH 7.4: O=C([O-])c1ccc(O)cc1\n"
     ]
    },
    {
     "name": "stderr",
     "output_type": "stream",
     "text": [
      "[query.py:297 - calculate_microstate_pka_values()] Using dimorphite-dl to identify protonation sites.\n"
     ]
    },
    {
     "name": "stdout",
     "output_type": "stream",
     "text": [
      "Proposed mol at pH 7.4: O=C([O-])c1cccc(O)c1\n"
     ]
    },
    {
     "name": "stderr",
     "output_type": "stream",
     "text": [
      "[query.py:297 - calculate_microstate_pka_values()] Using dimorphite-dl to identify protonation sites.\n"
     ]
    },
    {
     "name": "stdout",
     "output_type": "stream",
     "text": [
      "Proposed mol at pH 7.4: [NH3+]CCC([NH3+])C(=O)[O-]\n"
     ]
    },
    {
     "name": "stderr",
     "output_type": "stream",
     "text": [
      "[query.py:297 - calculate_microstate_pka_values()] Using dimorphite-dl to identify protonation sites.\n"
     ]
    },
    {
     "name": "stdout",
     "output_type": "stream",
     "text": [
      "Proposed mol at pH 7.4: [NH3+]CCCC([NH3+])C(=O)[O-]\n"
     ]
    },
    {
     "name": "stderr",
     "output_type": "stream",
     "text": [
      "[query.py:297 - calculate_microstate_pka_values()] Using dimorphite-dl to identify protonation sites.\n"
     ]
    },
    {
     "name": "stdout",
     "output_type": "stream",
     "text": [
      "Proposed mol at pH 7.4: [NH3+]C(CCCC(=O)[O-])C(=O)[O-]\n"
     ]
    },
    {
     "name": "stderr",
     "output_type": "stream",
     "text": [
      "[query.py:297 - calculate_microstate_pka_values()] Using dimorphite-dl to identify protonation sites.\n"
     ]
    },
    {
     "name": "stdout",
     "output_type": "stream",
     "text": [
      "Proposed mol at pH 7.4: Cn1cnc(CC([NH3+])C(=O)[O-])c1\n"
     ]
    },
    {
     "name": "stderr",
     "output_type": "stream",
     "text": [
      "[query.py:297 - calculate_microstate_pka_values()] Using dimorphite-dl to identify protonation sites.\n"
     ]
    },
    {
     "name": "stdout",
     "output_type": "stream",
     "text": [
      "Proposed mol at pH 7.4: Cn1cncc1CC([NH3+])C(=O)[O-]\n"
     ]
    },
    {
     "name": "stderr",
     "output_type": "stream",
     "text": [
      "[query.py:297 - calculate_microstate_pka_values()] Using dimorphite-dl to identify protonation sites.\n"
     ]
    },
    {
     "name": "stdout",
     "output_type": "stream",
     "text": [
      "Proposed mol at pH 7.4: [NH3+]C(Cc1cc(I)c(O)c(I)c1)C(=O)[O-]\n"
     ]
    },
    {
     "name": "stderr",
     "output_type": "stream",
     "text": [
      "[query.py:297 - calculate_microstate_pka_values()] Using dimorphite-dl to identify protonation sites.\n"
     ]
    },
    {
     "name": "stdout",
     "output_type": "stream",
     "text": [
      "Proposed mol at pH 7.4: [NH3+]C(Cc1ccc(O)c(I)c1)C(=O)[O-]\n"
     ]
    },
    {
     "name": "stderr",
     "output_type": "stream",
     "text": [
      "[query.py:297 - calculate_microstate_pka_values()] Using dimorphite-dl to identify protonation sites.\n"
     ]
    },
    {
     "name": "stdout",
     "output_type": "stream",
     "text": [
      "Proposed mol at pH 7.4: [NH3+]C(Cc1ccc(O)c(O)c1)C(=O)[O-]\n"
     ]
    },
    {
     "name": "stderr",
     "output_type": "stream",
     "text": [
      "[query.py:297 - calculate_microstate_pka_values()] Using dimorphite-dl to identify protonation sites.\n"
     ]
    },
    {
     "name": "stdout",
     "output_type": "stream",
     "text": [
      "Proposed mol at pH 7.4: [NH3+]CCC(=O)NC(Cc1cnc[nH]1)C(=O)[O-]\n"
     ]
    },
    {
     "name": "stderr",
     "output_type": "stream",
     "text": [
      "[query.py:297 - calculate_microstate_pka_values()] Using dimorphite-dl to identify protonation sites.\n"
     ]
    },
    {
     "name": "stdout",
     "output_type": "stream",
     "text": [
      "Proposed mol at pH 7.4: [NH3+]CCC(=O)NC(Cc1cnc[nH]1)C(=O)[O-]\n"
     ]
    },
    {
     "name": "stderr",
     "output_type": "stream",
     "text": [
      "[query.py:297 - calculate_microstate_pka_values()] Using dimorphite-dl to identify protonation sites.\n"
     ]
    },
    {
     "name": "stdout",
     "output_type": "stream",
     "text": [
      "Proposed mol at pH 7.4: [NH3+]C(CCC(=O)NC(CS)C(=O)NCC(=O)[O-])C(=O)[O-]\n"
     ]
    },
    {
     "name": "stderr",
     "output_type": "stream",
     "text": [
      "[query.py:297 - calculate_microstate_pka_values()] Using dimorphite-dl to identify protonation sites.\n"
     ]
    },
    {
     "name": "stdout",
     "output_type": "stream",
     "text": [
      "Proposed mol at pH 7.4: NC(NC(CC(=O)[O-])C(=O)[O-])=[NH+]CCCC([NH3+])C(=O)[O-]\n"
     ]
    },
    {
     "name": "stderr",
     "output_type": "stream",
     "text": [
      "[query.py:297 - calculate_microstate_pka_values()] Using dimorphite-dl to identify protonation sites.\n"
     ]
    },
    {
     "name": "stdout",
     "output_type": "stream",
     "text": [
      "Proposed mol at pH 7.4: [NH3+]C(Cc1cc(I)c(Oc2cc(I)c(O)c(I)c2)c(I)c1)C(=O)[O-]\n"
     ]
    },
    {
     "name": "stderr",
     "output_type": "stream",
     "text": [
      "[query.py:297 - calculate_microstate_pka_values()] Using dimorphite-dl to identify protonation sites.\n"
     ]
    },
    {
     "name": "stdout",
     "output_type": "stream",
     "text": [
      "Proposed mol at pH 7.4: NC(=[NH2+])NCCCC([NH3+])C(=O)[O-]\n"
     ]
    },
    {
     "name": "stderr",
     "output_type": "stream",
     "text": [
      "[query.py:297 - calculate_microstate_pka_values()] Using dimorphite-dl to identify protonation sites.\n"
     ]
    },
    {
     "name": "stdout",
     "output_type": "stream",
     "text": [
      "Proposed mol at pH 7.4: [NH3+]CC(=O)[O-]\n"
     ]
    },
    {
     "name": "stderr",
     "output_type": "stream",
     "text": [
      "[query.py:297 - calculate_microstate_pka_values()] Using dimorphite-dl to identify protonation sites.\n"
     ]
    },
    {
     "name": "stdout",
     "output_type": "stream",
     "text": [
      "Proposed mol at pH 7.4: CC([NH3+])C(=O)[O-]\n"
     ]
    },
    {
     "name": "stderr",
     "output_type": "stream",
     "text": [
      "[query.py:297 - calculate_microstate_pka_values()] Using dimorphite-dl to identify protonation sites.\n"
     ]
    },
    {
     "name": "stdout",
     "output_type": "stream",
     "text": [
      "Proposed mol at pH 7.4: [NH3+]CCC(=O)[O-]\n"
     ]
    },
    {
     "name": "stderr",
     "output_type": "stream",
     "text": [
      "[query.py:297 - calculate_microstate_pka_values()] Using dimorphite-dl to identify protonation sites.\n"
     ]
    },
    {
     "name": "stdout",
     "output_type": "stream",
     "text": [
      "Proposed mol at pH 7.4: [NH3+]C(CS)C(=O)[O-]\n"
     ]
    },
    {
     "name": "stderr",
     "output_type": "stream",
     "text": [
      "[query.py:297 - calculate_microstate_pka_values()] Using dimorphite-dl to identify protonation sites.\n"
     ]
    },
    {
     "name": "stdout",
     "output_type": "stream",
     "text": [
      "Proposed mol at pH 7.4: [NH3+]C(CO)C(=O)[O-]\n"
     ]
    },
    {
     "name": "stderr",
     "output_type": "stream",
     "text": [
      "[query.py:297 - calculate_microstate_pka_values()] Using dimorphite-dl to identify protonation sites.\n"
     ]
    },
    {
     "name": "stdout",
     "output_type": "stream",
     "text": [
      "Proposed mol at pH 7.4: [NH3+]C(CS(=O)(=O)[O-])C(=O)[O-]\n"
     ]
    },
    {
     "name": "stderr",
     "output_type": "stream",
     "text": [
      "[query.py:297 - calculate_microstate_pka_values()] Using dimorphite-dl to identify protonation sites.\n"
     ]
    },
    {
     "name": "stdout",
     "output_type": "stream",
     "text": [
      "Proposed mol at pH 7.4: [NH3+]C(CC(=O)[O-])C(=O)[O-]\n"
     ]
    },
    {
     "name": "stderr",
     "output_type": "stream",
     "text": [
      "[query.py:297 - calculate_microstate_pka_values()] Using dimorphite-dl to identify protonation sites.\n"
     ]
    },
    {
     "name": "stdout",
     "output_type": "stream",
     "text": [
      "Proposed mol at pH 7.4: NC(=O)CC([NH3+])C(=O)[O-]\n"
     ]
    },
    {
     "name": "stderr",
     "output_type": "stream",
     "text": [
      "[query.py:297 - calculate_microstate_pka_values()] Using dimorphite-dl to identify protonation sites.\n"
     ]
    },
    {
     "name": "stdout",
     "output_type": "stream",
     "text": [
      "Proposed mol at pH 7.4: CC(O)C([NH3+])C(=O)[O-]\n"
     ]
    },
    {
     "name": "stderr",
     "output_type": "stream",
     "text": [
      "[query.py:297 - calculate_microstate_pka_values()] Using dimorphite-dl to identify protonation sites.\n"
     ]
    },
    {
     "name": "stdout",
     "output_type": "stream",
     "text": [
      "Proposed mol at pH 7.4: O=C([O-])C1CCC[NH2+]1\n"
     ]
    },
    {
     "name": "stderr",
     "output_type": "stream",
     "text": [
      "[query.py:297 - calculate_microstate_pka_values()] Using dimorphite-dl to identify protonation sites.\n"
     ]
    },
    {
     "name": "stdout",
     "output_type": "stream",
     "text": [
      "Proposed mol at pH 7.4: [NH3+]C(CCC(=O)[O-])C(=O)[O-]\n"
     ]
    },
    {
     "name": "stderr",
     "output_type": "stream",
     "text": [
      "[query.py:297 - calculate_microstate_pka_values()] Using dimorphite-dl to identify protonation sites.\n"
     ]
    },
    {
     "name": "stdout",
     "output_type": "stream",
     "text": [
      "Proposed mol at pH 7.4: CC(C)C([NH3+])C(=O)[O-]\n"
     ]
    },
    {
     "name": "stderr",
     "output_type": "stream",
     "text": [
      "[query.py:297 - calculate_microstate_pka_values()] Using dimorphite-dl to identify protonation sites.\n"
     ]
    },
    {
     "name": "stdout",
     "output_type": "stream",
     "text": [
      "Proposed mol at pH 7.4: CSCCC([NH3+])C(=O)[O-]\n"
     ]
    },
    {
     "name": "stderr",
     "output_type": "stream",
     "text": [
      "[query.py:297 - calculate_microstate_pka_values()] Using dimorphite-dl to identify protonation sites.\n"
     ]
    },
    {
     "name": "stdout",
     "output_type": "stream",
     "text": [
      "Proposed mol at pH 7.4: [NH3+]C(Cc1cnc[nH]1)C(=O)[O-]\n"
     ]
    },
    {
     "name": "stderr",
     "output_type": "stream",
     "text": [
      "[query.py:297 - calculate_microstate_pka_values()] Using dimorphite-dl to identify protonation sites.\n"
     ]
    },
    {
     "name": "stdout",
     "output_type": "stream",
     "text": [
      "Proposed mol at pH 7.4: CCC(C)C([NH3+])C(=O)[O-]\n"
     ]
    },
    {
     "name": "stderr",
     "output_type": "stream",
     "text": [
      "[query.py:297 - calculate_microstate_pka_values()] Using dimorphite-dl to identify protonation sites.\n"
     ]
    },
    {
     "name": "stdout",
     "output_type": "stream",
     "text": [
      "Proposed mol at pH 7.4: CC(C)CC([NH3+])C(=O)[O-]\n"
     ]
    },
    {
     "name": "stderr",
     "output_type": "stream",
     "text": [
      "[query.py:297 - calculate_microstate_pka_values()] Using dimorphite-dl to identify protonation sites.\n"
     ]
    },
    {
     "name": "stdout",
     "output_type": "stream",
     "text": [
      "Proposed mol at pH 7.4: [NH3+]CCCCC([NH3+])C(=O)[O-]\n"
     ]
    },
    {
     "name": "stderr",
     "output_type": "stream",
     "text": [
      "[query.py:297 - calculate_microstate_pka_values()] Using dimorphite-dl to identify protonation sites.\n"
     ]
    },
    {
     "name": "stdout",
     "output_type": "stream",
     "text": [
      "Proposed mol at pH 7.4: [NH3+]C(Cc1ccccc1)C(=O)[O-]\n"
     ]
    },
    {
     "name": "stderr",
     "output_type": "stream",
     "text": [
      "[query.py:297 - calculate_microstate_pka_values()] Using dimorphite-dl to identify protonation sites.\n"
     ]
    },
    {
     "name": "stdout",
     "output_type": "stream",
     "text": [
      "Proposed mol at pH 7.4: [NH3+]C(Cc1ccc(O)cc1)C(=O)[O-]\n"
     ]
    },
    {
     "name": "stderr",
     "output_type": "stream",
     "text": [
      "[query.py:297 - calculate_microstate_pka_values()] Using dimorphite-dl to identify protonation sites.\n"
     ]
    },
    {
     "name": "stdout",
     "output_type": "stream",
     "text": [
      "Proposed mol at pH 7.4: [NH3+]C(Cc1c[nH]c2ccccc12)C(=O)[O-]\n"
     ]
    },
    {
     "name": "stderr",
     "output_type": "stream",
     "text": [
      "[query.py:297 - calculate_microstate_pka_values()] Using dimorphite-dl to identify protonation sites.\n"
     ]
    },
    {
     "name": "stdout",
     "output_type": "stream",
     "text": [
      "Proposed mol at pH 7.4: O=C(OO)c1ccccc1\n"
     ]
    },
    {
     "name": "stderr",
     "output_type": "stream",
     "text": [
      "[query.py:297 - calculate_microstate_pka_values()] Using dimorphite-dl to identify protonation sites.\n"
     ]
    },
    {
     "name": "stdout",
     "output_type": "stream",
     "text": [
      "Proposed mol at pH 7.4: O=C([O-])c1cccc2cc3ccccc3cc12\n"
     ]
    },
    {
     "name": "stderr",
     "output_type": "stream",
     "text": [
      "[query.py:297 - calculate_microstate_pka_values()] Using dimorphite-dl to identify protonation sites.\n"
     ]
    },
    {
     "name": "stdout",
     "output_type": "stream",
     "text": [
      "Proposed mol at pH 7.4: O=C([O-])c1c2ccccc2cc2ccccc12\n"
     ]
    },
    {
     "name": "stderr",
     "output_type": "stream",
     "text": [
      "[query.py:297 - calculate_microstate_pka_values()] Using dimorphite-dl to identify protonation sites.\n"
     ]
    },
    {
     "name": "stdout",
     "output_type": "stream",
     "text": [
      "Proposed mol at pH 7.4: O=C([O-])c1ccc2ccccc2c1\n"
     ]
    },
    {
     "name": "stderr",
     "output_type": "stream",
     "text": [
      "[query.py:297 - calculate_microstate_pka_values()] Using dimorphite-dl to identify protonation sites.\n"
     ]
    },
    {
     "name": "stdout",
     "output_type": "stream",
     "text": [
      "Proposed mol at pH 7.4: O=C([O-])c1cccc2ccccc12\n"
     ]
    },
    {
     "name": "stderr",
     "output_type": "stream",
     "text": [
      "[query.py:297 - calculate_microstate_pka_values()] Using dimorphite-dl to identify protonation sites.\n"
     ]
    },
    {
     "name": "stdout",
     "output_type": "stream",
     "text": [
      "Proposed mol at pH 7.4: N\n",
      "#########################\n",
      "Could not identify any ionizable group. Aborting.\n",
      "#########################\n"
     ]
    },
    {
     "name": "stderr",
     "output_type": "stream",
     "text": [
      "[query.py:297 - calculate_microstate_pka_values()] Using dimorphite-dl to identify protonation sites.\n"
     ]
    },
    {
     "name": "stdout",
     "output_type": "stream",
     "text": [
      "Proposed mol at pH 7.4: [NH3+]CCCCCc1ccccc1\n"
     ]
    },
    {
     "name": "stderr",
     "output_type": "stream",
     "text": [
      "[query.py:297 - calculate_microstate_pka_values()] Using dimorphite-dl to identify protonation sites.\n"
     ]
    },
    {
     "name": "stdout",
     "output_type": "stream",
     "text": [
      "Proposed mol at pH 7.4: [NH3+]CCCCc1ccccc1\n"
     ]
    },
    {
     "name": "stderr",
     "output_type": "stream",
     "text": [
      "[query.py:297 - calculate_microstate_pka_values()] Using dimorphite-dl to identify protonation sites.\n"
     ]
    },
    {
     "name": "stdout",
     "output_type": "stream",
     "text": [
      "Proposed mol at pH 7.4: N\n",
      "#########################\n",
      "Could not identify any ionizable group. Aborting.\n",
      "#########################\n"
     ]
    },
    {
     "name": "stderr",
     "output_type": "stream",
     "text": [
      "[query.py:297 - calculate_microstate_pka_values()] Using dimorphite-dl to identify protonation sites.\n"
     ]
    },
    {
     "name": "stdout",
     "output_type": "stream",
     "text": [
      "Proposed mol at pH 7.4: NO\n",
      "#########################\n",
      "Could not identify any ionizable group. Aborting.\n",
      "#########################\n"
     ]
    },
    {
     "name": "stderr",
     "output_type": "stream",
     "text": [
      "[query.py:297 - calculate_microstate_pka_values()] Using dimorphite-dl to identify protonation sites.\n"
     ]
    },
    {
     "name": "stdout",
     "output_type": "stream",
     "text": [
      "Proposed mol at pH 7.4: Nc1ccccc1\n"
     ]
    },
    {
     "name": "stderr",
     "output_type": "stream",
     "text": [
      "[query.py:297 - calculate_microstate_pka_values()] Using dimorphite-dl to identify protonation sites.\n"
     ]
    },
    {
     "name": "stdout",
     "output_type": "stream",
     "text": [
      "Proposed mol at pH 7.4: NN\n",
      "#########################\n",
      "Could not identify any ionizable group. Aborting.\n",
      "#########################\n"
     ]
    },
    {
     "name": "stderr",
     "output_type": "stream",
     "text": [
      "[query.py:297 - calculate_microstate_pka_values()] Using dimorphite-dl to identify protonation sites.\n"
     ]
    },
    {
     "name": "stdout",
     "output_type": "stream",
     "text": [
      "Proposed mol at pH 7.4: C[NH3+]\n"
     ]
    },
    {
     "name": "stderr",
     "output_type": "stream",
     "text": [
      "[query.py:297 - calculate_microstate_pka_values()] Using dimorphite-dl to identify protonation sites.\n"
     ]
    },
    {
     "name": "stdout",
     "output_type": "stream",
     "text": [
      "Proposed mol at pH 7.4: [NH3+]C(F)F\n"
     ]
    },
    {
     "name": "stderr",
     "output_type": "stream",
     "text": [
      "[query.py:297 - calculate_microstate_pka_values()] Using dimorphite-dl to identify protonation sites.\n"
     ]
    },
    {
     "name": "stdout",
     "output_type": "stream",
     "text": [
      "Proposed mol at pH 7.4: [NH3+]Cc1ccccc1\n"
     ]
    },
    {
     "name": "stderr",
     "output_type": "stream",
     "text": [
      "[query.py:297 - calculate_microstate_pka_values()] Using dimorphite-dl to identify protonation sites.\n"
     ]
    },
    {
     "name": "stdout",
     "output_type": "stream",
     "text": [
      "Proposed mol at pH 7.4: C=CC[NH3+]\n"
     ]
    },
    {
     "name": "stderr",
     "output_type": "stream",
     "text": [
      "[query.py:297 - calculate_microstate_pka_values()] Using dimorphite-dl to identify protonation sites.\n"
     ]
    },
    {
     "name": "stdout",
     "output_type": "stream",
     "text": [
      "Proposed mol at pH 7.4: [NH3+]C[NH3+]\n"
     ]
    },
    {
     "name": "stderr",
     "output_type": "stream",
     "text": [
      "[query.py:297 - calculate_microstate_pka_values()] Using dimorphite-dl to identify protonation sites.\n"
     ]
    },
    {
     "name": "stdout",
     "output_type": "stream",
     "text": [
      "Proposed mol at pH 7.4: [NH3+]CCCO\n"
     ]
    },
    {
     "name": "stderr",
     "output_type": "stream",
     "text": [
      "[query.py:297 - calculate_microstate_pka_values()] Using dimorphite-dl to identify protonation sites.\n"
     ]
    },
    {
     "name": "stdout",
     "output_type": "stream",
     "text": [
      "Proposed mol at pH 7.4: [NH3+]CCc1ccccc1\n"
     ]
    },
    {
     "name": "stderr",
     "output_type": "stream",
     "text": [
      "[query.py:297 - calculate_microstate_pka_values()] Using dimorphite-dl to identify protonation sites.\n"
     ]
    },
    {
     "name": "stdout",
     "output_type": "stream",
     "text": [
      "Proposed mol at pH 7.4: [NH3+]CC[NH3+]\n"
     ]
    },
    {
     "name": "stderr",
     "output_type": "stream",
     "text": [
      "[query.py:297 - calculate_microstate_pka_values()] Using dimorphite-dl to identify protonation sites.\n"
     ]
    },
    {
     "name": "stdout",
     "output_type": "stream",
     "text": [
      "Proposed mol at pH 7.4: CCC[NH3+]\n"
     ]
    },
    {
     "name": "stderr",
     "output_type": "stream",
     "text": [
      "[query.py:297 - calculate_microstate_pka_values()] Using dimorphite-dl to identify protonation sites.\n"
     ]
    },
    {
     "name": "stdout",
     "output_type": "stream",
     "text": [
      "Proposed mol at pH 7.4: [NH3+]CCCc1ccccc1\n"
     ]
    },
    {
     "name": "stderr",
     "output_type": "stream",
     "text": [
      "[query.py:297 - calculate_microstate_pka_values()] Using dimorphite-dl to identify protonation sites.\n"
     ]
    },
    {
     "name": "stdout",
     "output_type": "stream",
     "text": [
      "Proposed mol at pH 7.4: [NH3+]CCC[NH3+]\n"
     ]
    },
    {
     "name": "stderr",
     "output_type": "stream",
     "text": [
      "[query.py:297 - calculate_microstate_pka_values()] Using dimorphite-dl to identify protonation sites.\n"
     ]
    },
    {
     "name": "stdout",
     "output_type": "stream",
     "text": [
      "Proposed mol at pH 7.4: CCCC[NH3+]\n"
     ]
    },
    {
     "name": "stderr",
     "output_type": "stream",
     "text": [
      "[query.py:297 - calculate_microstate_pka_values()] Using dimorphite-dl to identify protonation sites.\n"
     ]
    },
    {
     "name": "stdout",
     "output_type": "stream",
     "text": [
      "Proposed mol at pH 7.4: [NH3+]CCCc1ccccc1\n"
     ]
    },
    {
     "name": "stderr",
     "output_type": "stream",
     "text": [
      "[query.py:297 - calculate_microstate_pka_values()] Using dimorphite-dl to identify protonation sites.\n"
     ]
    },
    {
     "name": "stdout",
     "output_type": "stream",
     "text": [
      "Proposed mol at pH 7.4: [NH3+]CCC[NH3+]\n"
     ]
    },
    {
     "name": "stderr",
     "output_type": "stream",
     "text": [
      "[query.py:297 - calculate_microstate_pka_values()] Using dimorphite-dl to identify protonation sites.\n"
     ]
    },
    {
     "name": "stdout",
     "output_type": "stream",
     "text": [
      "Proposed mol at pH 7.4: CCCC[NH3+]\n"
     ]
    },
    {
     "name": "stderr",
     "output_type": "stream",
     "text": [
      "[query.py:297 - calculate_microstate_pka_values()] Using dimorphite-dl to identify protonation sites.\n"
     ]
    },
    {
     "name": "stdout",
     "output_type": "stream",
     "text": [
      "Proposed mol at pH 7.4: [NH3+]CCCCc1ccccc1\n"
     ]
    },
    {
     "name": "stderr",
     "output_type": "stream",
     "text": [
      "[query.py:297 - calculate_microstate_pka_values()] Using dimorphite-dl to identify protonation sites.\n"
     ]
    },
    {
     "name": "stdout",
     "output_type": "stream",
     "text": [
      "Proposed mol at pH 7.4: [NH3+]CCCC[NH3+]\n"
     ]
    },
    {
     "name": "stderr",
     "output_type": "stream",
     "text": [
      "[query.py:297 - calculate_microstate_pka_values()] Using dimorphite-dl to identify protonation sites.\n"
     ]
    },
    {
     "name": "stdout",
     "output_type": "stream",
     "text": [
      "Proposed mol at pH 7.4: CCCCC[NH3+]\n"
     ]
    },
    {
     "name": "stderr",
     "output_type": "stream",
     "text": [
      "[query.py:297 - calculate_microstate_pka_values()] Using dimorphite-dl to identify protonation sites.\n"
     ]
    },
    {
     "name": "stdout",
     "output_type": "stream",
     "text": [
      "Proposed mol at pH 7.4: [NH3+]CCCCCc1ccccc1\n"
     ]
    },
    {
     "name": "stderr",
     "output_type": "stream",
     "text": [
      "[query.py:297 - calculate_microstate_pka_values()] Using dimorphite-dl to identify protonation sites.\n"
     ]
    },
    {
     "name": "stdout",
     "output_type": "stream",
     "text": [
      "Proposed mol at pH 7.4: [NH3+]CCCCC[NH3+]\n"
     ]
    },
    {
     "name": "stderr",
     "output_type": "stream",
     "text": [
      "[query.py:297 - calculate_microstate_pka_values()] Using dimorphite-dl to identify protonation sites.\n"
     ]
    },
    {
     "name": "stdout",
     "output_type": "stream",
     "text": [
      "Proposed mol at pH 7.4: CCCCCC[NH3+]\n"
     ]
    },
    {
     "name": "stderr",
     "output_type": "stream",
     "text": [
      "[query.py:297 - calculate_microstate_pka_values()] Using dimorphite-dl to identify protonation sites.\n"
     ]
    },
    {
     "name": "stdout",
     "output_type": "stream",
     "text": [
      "Proposed mol at pH 7.4: N\n",
      "#########################\n",
      "Could not identify any ionizable group. Aborting.\n",
      "#########################\n"
     ]
    },
    {
     "name": "stderr",
     "output_type": "stream",
     "text": [
      "[query.py:297 - calculate_microstate_pka_values()] Using dimorphite-dl to identify protonation sites.\n"
     ]
    },
    {
     "name": "stdout",
     "output_type": "stream",
     "text": [
      "Proposed mol at pH 7.4: NS(=O)(=O)[O-]\n",
      "#########################\n",
      "Could not identify any ionizable group. Aborting.\n",
      "#########################\n"
     ]
    },
    {
     "name": "stderr",
     "output_type": "stream",
     "text": [
      "[query.py:297 - calculate_microstate_pka_values()] Using dimorphite-dl to identify protonation sites.\n"
     ]
    },
    {
     "name": "stdout",
     "output_type": "stream",
     "text": [
      "Proposed mol at pH 7.4: NP(=O)([O-])O\n"
     ]
    },
    {
     "name": "stderr",
     "output_type": "stream",
     "text": [
      "[query.py:297 - calculate_microstate_pka_values()] Using dimorphite-dl to identify protonation sites.\n"
     ]
    },
    {
     "name": "stdout",
     "output_type": "stream",
     "text": [
      "Proposed mol at pH 7.4: CC[NH3+]\n"
     ]
    },
    {
     "name": "stderr",
     "output_type": "stream",
     "text": [
      "[query.py:297 - calculate_microstate_pka_values()] Using dimorphite-dl to identify protonation sites.\n"
     ]
    },
    {
     "name": "stdout",
     "output_type": "stream",
     "text": [
      "Proposed mol at pH 7.4: [NH3+]CCC(=O)[O-]\n"
     ]
    },
    {
     "name": "stderr",
     "output_type": "stream",
     "text": [
      "[query.py:297 - calculate_microstate_pka_values()] Using dimorphite-dl to identify protonation sites.\n"
     ]
    },
    {
     "name": "stdout",
     "output_type": "stream",
     "text": [
      "Proposed mol at pH 7.4: [NH3+]CCS(=O)(=O)[O-]\n"
     ]
    },
    {
     "name": "stderr",
     "output_type": "stream",
     "text": [
      "[query.py:297 - calculate_microstate_pka_values()] Using dimorphite-dl to identify protonation sites.\n"
     ]
    },
    {
     "name": "stdout",
     "output_type": "stream",
     "text": [
      "Proposed mol at pH 7.4: [NH3+]CCP(=O)([O-])O\n"
     ]
    },
    {
     "name": "stderr",
     "output_type": "stream",
     "text": [
      "[query.py:297 - calculate_microstate_pka_values()] Using dimorphite-dl to identify protonation sites.\n"
     ]
    },
    {
     "name": "stdout",
     "output_type": "stream",
     "text": [
      "Proposed mol at pH 7.4: CCCC[NH3+]\n"
     ]
    },
    {
     "name": "stderr",
     "output_type": "stream",
     "text": [
      "[query.py:297 - calculate_microstate_pka_values()] Using dimorphite-dl to identify protonation sites.\n"
     ]
    },
    {
     "name": "stdout",
     "output_type": "stream",
     "text": [
      "Proposed mol at pH 7.4: [NH3+]CCCC[NH3+]\n"
     ]
    },
    {
     "name": "stderr",
     "output_type": "stream",
     "text": [
      "[query.py:297 - calculate_microstate_pka_values()] Using dimorphite-dl to identify protonation sites.\n"
     ]
    },
    {
     "name": "stdout",
     "output_type": "stream",
     "text": [
      "Proposed mol at pH 7.4: [NH3+]CCCCC(=O)[O-]\n"
     ]
    },
    {
     "name": "stderr",
     "output_type": "stream",
     "text": [
      "[query.py:297 - calculate_microstate_pka_values()] Using dimorphite-dl to identify protonation sites.\n"
     ]
    },
    {
     "name": "stdout",
     "output_type": "stream",
     "text": [
      "Proposed mol at pH 7.4: [NH3+]CCCCS(=O)(=O)[O-]\n"
     ]
    },
    {
     "name": "stderr",
     "output_type": "stream",
     "text": [
      "[query.py:297 - calculate_microstate_pka_values()] Using dimorphite-dl to identify protonation sites.\n"
     ]
    },
    {
     "name": "stdout",
     "output_type": "stream",
     "text": [
      "Proposed mol at pH 7.4: [NH3+]CCCCP(=O)([O-])O\n"
     ]
    },
    {
     "name": "stderr",
     "output_type": "stream",
     "text": [
      "[query.py:297 - calculate_microstate_pka_values()] Using dimorphite-dl to identify protonation sites.\n"
     ]
    },
    {
     "name": "stdout",
     "output_type": "stream",
     "text": [
      "Proposed mol at pH 7.4: CCCCC[NH3+]\n"
     ]
    },
    {
     "name": "stderr",
     "output_type": "stream",
     "text": [
      "[query.py:297 - calculate_microstate_pka_values()] Using dimorphite-dl to identify protonation sites.\n"
     ]
    },
    {
     "name": "stdout",
     "output_type": "stream",
     "text": [
      "Proposed mol at pH 7.4: [NH3+]CCCCC[NH3+]\n"
     ]
    },
    {
     "name": "stderr",
     "output_type": "stream",
     "text": [
      "[query.py:297 - calculate_microstate_pka_values()] Using dimorphite-dl to identify protonation sites.\n"
     ]
    },
    {
     "name": "stdout",
     "output_type": "stream",
     "text": [
      "Proposed mol at pH 7.4: [NH3+]CCCCCC(=O)[O-]\n"
     ]
    },
    {
     "name": "stderr",
     "output_type": "stream",
     "text": [
      "[query.py:297 - calculate_microstate_pka_values()] Using dimorphite-dl to identify protonation sites.\n"
     ]
    },
    {
     "name": "stdout",
     "output_type": "stream",
     "text": [
      "Proposed mol at pH 7.4: [NH3+]CCCCCS(=O)(=O)[O-]\n"
     ]
    },
    {
     "name": "stderr",
     "output_type": "stream",
     "text": [
      "[query.py:297 - calculate_microstate_pka_values()] Using dimorphite-dl to identify protonation sites.\n"
     ]
    },
    {
     "name": "stdout",
     "output_type": "stream",
     "text": [
      "Proposed mol at pH 7.4: [NH3+]CCCCCP(=O)([O-])O\n"
     ]
    },
    {
     "name": "stderr",
     "output_type": "stream",
     "text": [
      "[query.py:297 - calculate_microstate_pka_values()] Using dimorphite-dl to identify protonation sites.\n"
     ]
    },
    {
     "name": "stdout",
     "output_type": "stream",
     "text": [
      "Proposed mol at pH 7.4: CCCCCCCC[NH3+]\n"
     ]
    },
    {
     "name": "stderr",
     "output_type": "stream",
     "text": [
      "[query.py:297 - calculate_microstate_pka_values()] Using dimorphite-dl to identify protonation sites.\n"
     ]
    },
    {
     "name": "stdout",
     "output_type": "stream",
     "text": [
      "Proposed mol at pH 7.4: [NH3+]CCCCCCCC[NH3+]\n"
     ]
    },
    {
     "name": "stderr",
     "output_type": "stream",
     "text": [
      "[query.py:297 - calculate_microstate_pka_values()] Using dimorphite-dl to identify protonation sites.\n"
     ]
    },
    {
     "name": "stdout",
     "output_type": "stream",
     "text": [
      "Proposed mol at pH 7.4: CCCCCCCCCC[NH3+]\n"
     ]
    },
    {
     "name": "stderr",
     "output_type": "stream",
     "text": [
      "[query.py:297 - calculate_microstate_pka_values()] Using dimorphite-dl to identify protonation sites.\n"
     ]
    },
    {
     "name": "stdout",
     "output_type": "stream",
     "text": [
      "Proposed mol at pH 7.4: [NH3+]CCCCCCCCCCS(=O)(=O)[O-]\n"
     ]
    },
    {
     "name": "stderr",
     "output_type": "stream",
     "text": [
      "[query.py:297 - calculate_microstate_pka_values()] Using dimorphite-dl to identify protonation sites.\n"
     ]
    },
    {
     "name": "stdout",
     "output_type": "stream",
     "text": [
      "Proposed mol at pH 7.4: [NH3+]CCCCCCCCCCP(=O)([O-])O\n"
     ]
    },
    {
     "name": "stderr",
     "output_type": "stream",
     "text": [
      "[query.py:297 - calculate_microstate_pka_values()] Using dimorphite-dl to identify protonation sites.\n"
     ]
    },
    {
     "name": "stdout",
     "output_type": "stream",
     "text": [
      "Proposed mol at pH 7.4: CCC[NH3+]\n"
     ]
    },
    {
     "name": "stderr",
     "output_type": "stream",
     "text": [
      "[query.py:297 - calculate_microstate_pka_values()] Using dimorphite-dl to identify protonation sites.\n"
     ]
    },
    {
     "name": "stdout",
     "output_type": "stream",
     "text": [
      "Proposed mol at pH 7.4: [NH3+]CCC[NH3+]\n"
     ]
    },
    {
     "name": "stderr",
     "output_type": "stream",
     "text": [
      "[query.py:297 - calculate_microstate_pka_values()] Using dimorphite-dl to identify protonation sites.\n"
     ]
    },
    {
     "name": "stdout",
     "output_type": "stream",
     "text": [
      "Proposed mol at pH 7.4: [NH3+]CCCC(=O)[O-]\n"
     ]
    },
    {
     "name": "stderr",
     "output_type": "stream",
     "text": [
      "[query.py:297 - calculate_microstate_pka_values()] Using dimorphite-dl to identify protonation sites.\n"
     ]
    },
    {
     "name": "stdout",
     "output_type": "stream",
     "text": [
      "Proposed mol at pH 7.4: [NH3+]CCCS(=O)(=O)[O-]\n"
     ]
    },
    {
     "name": "stderr",
     "output_type": "stream",
     "text": [
      "[query.py:297 - calculate_microstate_pka_values()] Using dimorphite-dl to identify protonation sites.\n"
     ]
    },
    {
     "name": "stdout",
     "output_type": "stream",
     "text": [
      "Proposed mol at pH 7.4: CCCC[NH3+]\n"
     ]
    },
    {
     "data": {
      "text/html": [
       "<div>\n",
       "<style scoped>\n",
       "    .dataframe tbody tr th:only-of-type {\n",
       "        vertical-align: middle;\n",
       "    }\n",
       "\n",
       "    .dataframe tbody tr th {\n",
       "        vertical-align: top;\n",
       "    }\n",
       "\n",
       "    .dataframe thead th {\n",
       "        text-align: right;\n",
       "    }\n",
       "</style>\n",
       "<table border=\"1\" class=\"dataframe\">\n",
       "  <thead>\n",
       "    <tr style=\"text-align: right;\">\n",
       "      <th></th>\n",
       "      <th>Compound</th>\n",
       "      <th>DTXSID</th>\n",
       "      <th>SMILES</th>\n",
       "      <th>ps_sites</th>\n",
       "      <th>pka</th>\n",
       "    </tr>\n",
       "  </thead>\n",
       "  <tbody>\n",
       "    <tr>\n",
       "      <th>0</th>\n",
       "      <td>Acetic acid</td>\n",
       "      <td>DTXSID5024394</td>\n",
       "      <td>CC(O)=O</td>\n",
       "      <td>1</td>\n",
       "      <td>[4.19]</td>\n",
       "    </tr>\n",
       "    <tr>\n",
       "      <th>1</th>\n",
       "      <td>Phosphate</td>\n",
       "      <td>DTXSID5024263</td>\n",
       "      <td>OP(O)(O)=O</td>\n",
       "      <td>1</td>\n",
       "      <td>[2.83]</td>\n",
       "    </tr>\n",
       "    <tr>\n",
       "      <th>2</th>\n",
       "      <td>Methyl-Phosphate</td>\n",
       "      <td>DTXSID2025684</td>\n",
       "      <td>COP(O)(O)=O</td>\n",
       "      <td>1</td>\n",
       "      <td>[2.56]</td>\n",
       "    </tr>\n",
       "    <tr>\n",
       "      <th>3</th>\n",
       "      <td>Ethyl-Phosphate</td>\n",
       "      <td>DTXSID1044699</td>\n",
       "      <td>CCOP(O)(=O)OCC</td>\n",
       "      <td>1</td>\n",
       "      <td>[4.66]</td>\n",
       "    </tr>\n",
       "    <tr>\n",
       "      <th>4</th>\n",
       "      <td>Dimethyl-Phosphate</td>\n",
       "      <td>DTXSID5025150</td>\n",
       "      <td>COP(O)(=O)OC</td>\n",
       "      <td>1</td>\n",
       "      <td>[4.06]</td>\n",
       "    </tr>\n",
       "    <tr>\n",
       "      <th>...</th>\n",
       "      <td>...</td>\n",
       "      <td>...</td>\n",
       "      <td>...</td>\n",
       "      <td>...</td>\n",
       "      <td>...</td>\n",
       "    </tr>\n",
       "    <tr>\n",
       "      <th>128</th>\n",
       "      <td>propan-1-aminium</td>\n",
       "      <td>NaN</td>\n",
       "      <td>CCC[NH3+]</td>\n",
       "      <td>1</td>\n",
       "      <td>[10.77]</td>\n",
       "    </tr>\n",
       "    <tr>\n",
       "      <th>129</th>\n",
       "      <td>propane-1,3-bis(aminium)</td>\n",
       "      <td>NaN</td>\n",
       "      <td>[NH3+]CCC[NH3+]</td>\n",
       "      <td>1</td>\n",
       "      <td>[11.19]</td>\n",
       "    </tr>\n",
       "    <tr>\n",
       "      <th>130</th>\n",
       "      <td>3-carboxypropan-1-aminium</td>\n",
       "      <td>NaN</td>\n",
       "      <td>[NH3+]CCCC(O)=O</td>\n",
       "      <td>2</td>\n",
       "      <td>[5.07, 10.61]</td>\n",
       "    </tr>\n",
       "    <tr>\n",
       "      <th>131</th>\n",
       "      <td>3-sulfopropan-1-aminium</td>\n",
       "      <td>NaN</td>\n",
       "      <td>[NH3+]CCCS(O)(=O)=O</td>\n",
       "      <td>1</td>\n",
       "      <td>[9.65]</td>\n",
       "    </tr>\n",
       "    <tr>\n",
       "      <th>132</th>\n",
       "      <td>n-Butyl-amine</td>\n",
       "      <td>DTXSID1021904</td>\n",
       "      <td>CCCCN</td>\n",
       "      <td>1</td>\n",
       "      <td>[10.93]</td>\n",
       "    </tr>\n",
       "  </tbody>\n",
       "</table>\n",
       "<p>133 rows × 5 columns</p>\n",
       "</div>"
      ],
      "text/plain": [
       "                      Compound         DTXSID               SMILES ps_sites  \\\n",
       "0                  Acetic acid  DTXSID5024394              CC(O)=O        1   \n",
       "1                    Phosphate  DTXSID5024263           OP(O)(O)=O        1   \n",
       "2             Methyl-Phosphate  DTXSID2025684          COP(O)(O)=O        1   \n",
       "3              Ethyl-Phosphate  DTXSID1044699       CCOP(O)(=O)OCC        1   \n",
       "4           Dimethyl-Phosphate  DTXSID5025150         COP(O)(=O)OC        1   \n",
       "..                         ...            ...                  ...      ...   \n",
       "128           propan-1-aminium            NaN            CCC[NH3+]        1   \n",
       "129   propane-1,3-bis(aminium)            NaN      [NH3+]CCC[NH3+]        1   \n",
       "130  3-carboxypropan-1-aminium            NaN      [NH3+]CCCC(O)=O        2   \n",
       "131    3-sulfopropan-1-aminium            NaN  [NH3+]CCCS(O)(=O)=O        1   \n",
       "132              n-Butyl-amine  DTXSID1021904                CCCCN        1   \n",
       "\n",
       "               pka  \n",
       "0           [4.19]  \n",
       "1           [2.83]  \n",
       "2           [2.56]  \n",
       "3           [4.66]  \n",
       "4           [4.06]  \n",
       "..             ...  \n",
       "128        [10.77]  \n",
       "129        [11.19]  \n",
       "130  [5.07, 10.61]  \n",
       "131         [9.65]  \n",
       "132        [10.93]  \n",
       "\n",
       "[133 rows x 5 columns]"
      ]
     },
     "execution_count": 8,
     "metadata": {},
     "output_type": "execute_result"
    }
   ],
   "source": [
    "#loop through smiles input, calculate pka, and store in results table\n",
    "for i in results.index:\n",
    "    smi = inpt['SMILES'][i]\n",
    "    mol = Chem.MolFromSmiles(smi) #convert string into smile object (rdkit)\n",
    "    data = RunPkasolver(mol) # run smile object through generator function to get pka and num of ionionizable sites\n",
    "    \n",
    "    #sep out generator yield and save to results table\n",
    "    for n,p in data:\n",
    "        results['pka'][i]=p\n",
    "        results['ps_sites'][i]=n\n",
    "results"
   ]
  },
  {
   "cell_type": "markdown",
   "id": "afe6b0a4",
   "metadata": {},
   "source": [
    "### Format pka results"
   ]
  },
  {
   "cell_type": "code",
   "execution_count": 9,
   "id": "d5f6c715",
   "metadata": {},
   "outputs": [
    {
     "data": {
      "text/html": [
       "<div>\n",
       "<style scoped>\n",
       "    .dataframe tbody tr th:only-of-type {\n",
       "        vertical-align: middle;\n",
       "    }\n",
       "\n",
       "    .dataframe tbody tr th {\n",
       "        vertical-align: top;\n",
       "    }\n",
       "\n",
       "    .dataframe thead th {\n",
       "        text-align: right;\n",
       "    }\n",
       "</style>\n",
       "<table border=\"1\" class=\"dataframe\">\n",
       "  <thead>\n",
       "    <tr style=\"text-align: right;\">\n",
       "      <th></th>\n",
       "      <th>Compound</th>\n",
       "      <th>DTXSID</th>\n",
       "      <th>SMILES</th>\n",
       "      <th>ps_sites</th>\n",
       "      <th>pka</th>\n",
       "      <th>PS_pKa0</th>\n",
       "      <th>PS_pKa1</th>\n",
       "      <th>PS_pKa2</th>\n",
       "      <th>PS_pKa3</th>\n",
       "      <th>PS_pKa4</th>\n",
       "      <th>PS_pKa5</th>\n",
       "      <th>PS_pKa6</th>\n",
       "      <th>PS_pKa7</th>\n",
       "      <th>PS_pKa8</th>\n",
       "    </tr>\n",
       "  </thead>\n",
       "  <tbody>\n",
       "    <tr>\n",
       "      <th>0</th>\n",
       "      <td>Acetic acid</td>\n",
       "      <td>DTXSID5024394</td>\n",
       "      <td>CC(O)=O</td>\n",
       "      <td>1</td>\n",
       "      <td>[4.19]</td>\n",
       "      <td>4.19</td>\n",
       "      <td>NaN</td>\n",
       "      <td>NaN</td>\n",
       "      <td>NaN</td>\n",
       "      <td>NaN</td>\n",
       "      <td>NaN</td>\n",
       "      <td>NaN</td>\n",
       "      <td>NaN</td>\n",
       "      <td>NaN</td>\n",
       "    </tr>\n",
       "    <tr>\n",
       "      <th>1</th>\n",
       "      <td>Phosphate</td>\n",
       "      <td>DTXSID5024263</td>\n",
       "      <td>OP(O)(O)=O</td>\n",
       "      <td>1</td>\n",
       "      <td>[2.83]</td>\n",
       "      <td>2.83</td>\n",
       "      <td>NaN</td>\n",
       "      <td>NaN</td>\n",
       "      <td>NaN</td>\n",
       "      <td>NaN</td>\n",
       "      <td>NaN</td>\n",
       "      <td>NaN</td>\n",
       "      <td>NaN</td>\n",
       "      <td>NaN</td>\n",
       "    </tr>\n",
       "    <tr>\n",
       "      <th>2</th>\n",
       "      <td>Methyl-Phosphate</td>\n",
       "      <td>DTXSID2025684</td>\n",
       "      <td>COP(O)(O)=O</td>\n",
       "      <td>1</td>\n",
       "      <td>[2.56]</td>\n",
       "      <td>2.56</td>\n",
       "      <td>NaN</td>\n",
       "      <td>NaN</td>\n",
       "      <td>NaN</td>\n",
       "      <td>NaN</td>\n",
       "      <td>NaN</td>\n",
       "      <td>NaN</td>\n",
       "      <td>NaN</td>\n",
       "      <td>NaN</td>\n",
       "    </tr>\n",
       "    <tr>\n",
       "      <th>3</th>\n",
       "      <td>Ethyl-Phosphate</td>\n",
       "      <td>DTXSID1044699</td>\n",
       "      <td>CCOP(O)(=O)OCC</td>\n",
       "      <td>1</td>\n",
       "      <td>[4.66]</td>\n",
       "      <td>4.66</td>\n",
       "      <td>NaN</td>\n",
       "      <td>NaN</td>\n",
       "      <td>NaN</td>\n",
       "      <td>NaN</td>\n",
       "      <td>NaN</td>\n",
       "      <td>NaN</td>\n",
       "      <td>NaN</td>\n",
       "      <td>NaN</td>\n",
       "    </tr>\n",
       "    <tr>\n",
       "      <th>4</th>\n",
       "      <td>Dimethyl-Phosphate</td>\n",
       "      <td>DTXSID5025150</td>\n",
       "      <td>COP(O)(=O)OC</td>\n",
       "      <td>1</td>\n",
       "      <td>[4.06]</td>\n",
       "      <td>4.06</td>\n",
       "      <td>NaN</td>\n",
       "      <td>NaN</td>\n",
       "      <td>NaN</td>\n",
       "      <td>NaN</td>\n",
       "      <td>NaN</td>\n",
       "      <td>NaN</td>\n",
       "      <td>NaN</td>\n",
       "      <td>NaN</td>\n",
       "    </tr>\n",
       "    <tr>\n",
       "      <th>...</th>\n",
       "      <td>...</td>\n",
       "      <td>...</td>\n",
       "      <td>...</td>\n",
       "      <td>...</td>\n",
       "      <td>...</td>\n",
       "      <td>...</td>\n",
       "      <td>...</td>\n",
       "      <td>...</td>\n",
       "      <td>...</td>\n",
       "      <td>...</td>\n",
       "      <td>...</td>\n",
       "      <td>...</td>\n",
       "      <td>...</td>\n",
       "      <td>...</td>\n",
       "    </tr>\n",
       "    <tr>\n",
       "      <th>128</th>\n",
       "      <td>propan-1-aminium</td>\n",
       "      <td>NaN</td>\n",
       "      <td>CCC[NH3+]</td>\n",
       "      <td>1</td>\n",
       "      <td>[10.77]</td>\n",
       "      <td>10.77</td>\n",
       "      <td>NaN</td>\n",
       "      <td>NaN</td>\n",
       "      <td>NaN</td>\n",
       "      <td>NaN</td>\n",
       "      <td>NaN</td>\n",
       "      <td>NaN</td>\n",
       "      <td>NaN</td>\n",
       "      <td>NaN</td>\n",
       "    </tr>\n",
       "    <tr>\n",
       "      <th>129</th>\n",
       "      <td>propane-1,3-bis(aminium)</td>\n",
       "      <td>NaN</td>\n",
       "      <td>[NH3+]CCC[NH3+]</td>\n",
       "      <td>1</td>\n",
       "      <td>[11.19]</td>\n",
       "      <td>11.19</td>\n",
       "      <td>NaN</td>\n",
       "      <td>NaN</td>\n",
       "      <td>NaN</td>\n",
       "      <td>NaN</td>\n",
       "      <td>NaN</td>\n",
       "      <td>NaN</td>\n",
       "      <td>NaN</td>\n",
       "      <td>NaN</td>\n",
       "    </tr>\n",
       "    <tr>\n",
       "      <th>130</th>\n",
       "      <td>3-carboxypropan-1-aminium</td>\n",
       "      <td>NaN</td>\n",
       "      <td>[NH3+]CCCC(O)=O</td>\n",
       "      <td>2</td>\n",
       "      <td>[5.07, 10.61]</td>\n",
       "      <td>5.07</td>\n",
       "      <td>10.61</td>\n",
       "      <td>NaN</td>\n",
       "      <td>NaN</td>\n",
       "      <td>NaN</td>\n",
       "      <td>NaN</td>\n",
       "      <td>NaN</td>\n",
       "      <td>NaN</td>\n",
       "      <td>NaN</td>\n",
       "    </tr>\n",
       "    <tr>\n",
       "      <th>131</th>\n",
       "      <td>3-sulfopropan-1-aminium</td>\n",
       "      <td>NaN</td>\n",
       "      <td>[NH3+]CCCS(O)(=O)=O</td>\n",
       "      <td>1</td>\n",
       "      <td>[9.65]</td>\n",
       "      <td>9.65</td>\n",
       "      <td>NaN</td>\n",
       "      <td>NaN</td>\n",
       "      <td>NaN</td>\n",
       "      <td>NaN</td>\n",
       "      <td>NaN</td>\n",
       "      <td>NaN</td>\n",
       "      <td>NaN</td>\n",
       "      <td>NaN</td>\n",
       "    </tr>\n",
       "    <tr>\n",
       "      <th>132</th>\n",
       "      <td>n-Butyl-amine</td>\n",
       "      <td>DTXSID1021904</td>\n",
       "      <td>CCCCN</td>\n",
       "      <td>1</td>\n",
       "      <td>[10.93]</td>\n",
       "      <td>10.93</td>\n",
       "      <td>NaN</td>\n",
       "      <td>NaN</td>\n",
       "      <td>NaN</td>\n",
       "      <td>NaN</td>\n",
       "      <td>NaN</td>\n",
       "      <td>NaN</td>\n",
       "      <td>NaN</td>\n",
       "      <td>NaN</td>\n",
       "    </tr>\n",
       "  </tbody>\n",
       "</table>\n",
       "<p>133 rows × 14 columns</p>\n",
       "</div>"
      ],
      "text/plain": [
       "                      Compound         DTXSID               SMILES ps_sites  \\\n",
       "0                  Acetic acid  DTXSID5024394              CC(O)=O        1   \n",
       "1                    Phosphate  DTXSID5024263           OP(O)(O)=O        1   \n",
       "2             Methyl-Phosphate  DTXSID2025684          COP(O)(O)=O        1   \n",
       "3              Ethyl-Phosphate  DTXSID1044699       CCOP(O)(=O)OCC        1   \n",
       "4           Dimethyl-Phosphate  DTXSID5025150         COP(O)(=O)OC        1   \n",
       "..                         ...            ...                  ...      ...   \n",
       "128           propan-1-aminium            NaN            CCC[NH3+]        1   \n",
       "129   propane-1,3-bis(aminium)            NaN      [NH3+]CCC[NH3+]        1   \n",
       "130  3-carboxypropan-1-aminium            NaN      [NH3+]CCCC(O)=O        2   \n",
       "131    3-sulfopropan-1-aminium            NaN  [NH3+]CCCS(O)(=O)=O        1   \n",
       "132              n-Butyl-amine  DTXSID1021904                CCCCN        1   \n",
       "\n",
       "               pka  PS_pKa0  PS_pKa1  PS_pKa2  PS_pKa3  PS_pKa4  PS_pKa5  \\\n",
       "0           [4.19]     4.19      NaN      NaN      NaN      NaN      NaN   \n",
       "1           [2.83]     2.83      NaN      NaN      NaN      NaN      NaN   \n",
       "2           [2.56]     2.56      NaN      NaN      NaN      NaN      NaN   \n",
       "3           [4.66]     4.66      NaN      NaN      NaN      NaN      NaN   \n",
       "4           [4.06]     4.06      NaN      NaN      NaN      NaN      NaN   \n",
       "..             ...      ...      ...      ...      ...      ...      ...   \n",
       "128        [10.77]    10.77      NaN      NaN      NaN      NaN      NaN   \n",
       "129        [11.19]    11.19      NaN      NaN      NaN      NaN      NaN   \n",
       "130  [5.07, 10.61]     5.07    10.61      NaN      NaN      NaN      NaN   \n",
       "131         [9.65]     9.65      NaN      NaN      NaN      NaN      NaN   \n",
       "132        [10.93]    10.93      NaN      NaN      NaN      NaN      NaN   \n",
       "\n",
       "     PS_pKa6  PS_pKa7  PS_pKa8  \n",
       "0        NaN      NaN      NaN  \n",
       "1        NaN      NaN      NaN  \n",
       "2        NaN      NaN      NaN  \n",
       "3        NaN      NaN      NaN  \n",
       "4        NaN      NaN      NaN  \n",
       "..       ...      ...      ...  \n",
       "128      NaN      NaN      NaN  \n",
       "129      NaN      NaN      NaN  \n",
       "130      NaN      NaN      NaN  \n",
       "131      NaN      NaN      NaN  \n",
       "132      NaN      NaN      NaN  \n",
       "\n",
       "[133 rows x 14 columns]"
      ]
     },
     "execution_count": 9,
     "metadata": {},
     "output_type": "execute_result"
    }
   ],
   "source": [
    "#separate pka values from list to individual columns\n",
    "sep=pd.DataFrame(results.pka.tolist()).add_prefix('PS_pKa')\n",
    "\n",
    "#combine pka columns with rest of data\n",
    "psResults=pd.concat([results,sep],axis=1)\n",
    "psResults"
   ]
  },
  {
   "cell_type": "markdown",
   "id": "460b03bc",
   "metadata": {},
   "source": [
    "### Visual result options"
   ]
  },
  {
   "cell_type": "code",
   "execution_count": 10,
   "id": "89096083",
   "metadata": {},
   "outputs": [
    {
     "name": "stderr",
     "output_type": "stream",
     "text": [
      "[query.py:297 - calculate_microstate_pka_values()] Using dimorphite-dl to identify protonation sites.\n"
     ]
    },
    {
     "name": "stdout",
     "output_type": "stream",
     "text": [
      "Proposed mol at pH 7.4: Oc1ccncc1\n"
     ]
    }
   ],
   "source": [
    "example='OC1=CC=NC=C1'\n",
    "smi=Chem.MolFromSmiles(example)\n",
    "protonation_states=calculate_microstate_pka_values(smi)"
   ]
  },
  {
   "cell_type": "code",
   "execution_count": 11,
   "id": "394a2ebc",
   "metadata": {},
   "outputs": [
    {
     "data": {
      "image/svg+xml": [
       "<svg xmlns=\"http://www.w3.org/2000/svg\" xmlns:rdkit=\"http://www.rdkit.org/xml\" xmlns:xlink=\"http://www.w3.org/1999/xlink\" version=\"1.1\" baseProfile=\"full\" xml:space=\"preserve\" width=\"1000px\" height=\"500px\" viewBox=\"0 0 1000 500\">\n",
       "<!-- END OF HEADER -->\n",
       "<rect style=\"opacity:1.0;fill:#FFFFFF;stroke:none\" width=\"1000.0\" height=\"500.0\" x=\"0.0\" y=\"0.0\"> </rect>\n",
       "<ellipse cx=\"73.3\" cy=\"124.9\" rx=\"47.3\" ry=\"22.8\" class=\"atom-4\" style=\"fill:#FF7F7F;fill-rule:evenodd;stroke:#FF7F7F;stroke-width:1.0px;stroke-linecap:butt;stroke-linejoin:miter;stroke-opacity:1\"/>\n",
       "<path class=\"bond-0 atom-0 atom-1\" d=\"M 403.8,125.0 L 355.1,125.0\" style=\"fill:none;fill-rule:evenodd;stroke:#FF0000;stroke-width:2.0px;stroke-linecap:butt;stroke-linejoin:miter;stroke-opacity:1\"/>\n",
       "<path class=\"bond-0 atom-0 atom-1\" d=\"M 355.1,125.0 L 306.5,125.0\" style=\"fill:none;fill-rule:evenodd;stroke:#000000;stroke-width:2.0px;stroke-linecap:butt;stroke-linejoin:miter;stroke-opacity:1\"/>\n",
       "<path class=\"bond-1 atom-1 atom-2\" d=\"M 306.5,125.0 L 249.4,223.8\" style=\"fill:none;fill-rule:evenodd;stroke:#000000;stroke-width:2.0px;stroke-linecap:butt;stroke-linejoin:miter;stroke-opacity:1\"/>\n",
       "<path class=\"bond-1 atom-1 atom-2\" d=\"M 286.7,125.0 L 239.5,206.7\" style=\"fill:none;fill-rule:evenodd;stroke:#000000;stroke-width:2.0px;stroke-linecap:butt;stroke-linejoin:miter;stroke-opacity:1\"/>\n",
       "<path class=\"bond-2 atom-2 atom-3\" d=\"M 249.4,223.8 L 135.3,223.8\" style=\"fill:none;fill-rule:evenodd;stroke:#000000;stroke-width:2.0px;stroke-linecap:butt;stroke-linejoin:miter;stroke-opacity:1\"/>\n",
       "<path class=\"bond-3 atom-3 atom-4\" d=\"M 135.3,223.8 L 112.0,183.4\" style=\"fill:none;fill-rule:evenodd;stroke:#000000;stroke-width:2.0px;stroke-linecap:butt;stroke-linejoin:miter;stroke-opacity:1\"/>\n",
       "<path class=\"bond-3 atom-3 atom-4\" d=\"M 112.0,183.4 L 88.6,142.9\" style=\"fill:none;fill-rule:evenodd;stroke:#0000FF;stroke-width:2.0px;stroke-linecap:butt;stroke-linejoin:miter;stroke-opacity:1\"/>\n",
       "<path class=\"bond-3 atom-3 atom-4\" d=\"M 145.2,206.7 L 124.3,170.5\" style=\"fill:none;fill-rule:evenodd;stroke:#000000;stroke-width:2.0px;stroke-linecap:butt;stroke-linejoin:miter;stroke-opacity:1\"/>\n",
       "<path class=\"bond-3 atom-3 atom-4\" d=\"M 124.3,170.5 L 103.4,134.4\" style=\"fill:none;fill-rule:evenodd;stroke:#0000FF;stroke-width:2.0px;stroke-linecap:butt;stroke-linejoin:miter;stroke-opacity:1\"/>\n",
       "<path class=\"bond-4 atom-4 atom-5\" d=\"M 88.6,107.1 L 112.0,66.6\" style=\"fill:none;fill-rule:evenodd;stroke:#0000FF;stroke-width:2.0px;stroke-linecap:butt;stroke-linejoin:miter;stroke-opacity:1\"/>\n",
       "<path class=\"bond-4 atom-4 atom-5\" d=\"M 112.0,66.6 L 135.3,26.2\" style=\"fill:none;fill-rule:evenodd;stroke:#000000;stroke-width:2.0px;stroke-linecap:butt;stroke-linejoin:miter;stroke-opacity:1\"/>\n",
       "<path class=\"bond-5 atom-5 atom-6\" d=\"M 135.3,26.2 L 249.4,26.2\" style=\"fill:none;fill-rule:evenodd;stroke:#000000;stroke-width:2.0px;stroke-linecap:butt;stroke-linejoin:miter;stroke-opacity:1\"/>\n",
       "<path class=\"bond-5 atom-5 atom-6\" d=\"M 145.2,43.3 L 239.5,43.3\" style=\"fill:none;fill-rule:evenodd;stroke:#000000;stroke-width:2.0px;stroke-linecap:butt;stroke-linejoin:miter;stroke-opacity:1\"/>\n",
       "<path class=\"bond-6 atom-6 atom-1\" d=\"M 249.4,26.2 L 306.5,125.0\" style=\"fill:none;fill-rule:evenodd;stroke:#000000;stroke-width:2.0px;stroke-linecap:butt;stroke-linejoin:miter;stroke-opacity:1\"/>\n",
       "<path d=\"M 252.3,218.9 L 249.4,223.8 L 243.7,223.8\" style=\"fill:none;stroke:#000000;stroke-width:2.0px;stroke-linecap:butt;stroke-linejoin:miter;stroke-opacity:1;\"/>\n",
       "<path d=\"M 141.0,223.8 L 135.3,223.8 L 134.1,221.8\" style=\"fill:none;stroke:#000000;stroke-width:2.0px;stroke-linecap:butt;stroke-linejoin:miter;stroke-opacity:1;\"/>\n",
       "<path d=\"M 134.1,28.2 L 135.3,26.2 L 141.0,26.2\" style=\"fill:none;stroke:#000000;stroke-width:2.0px;stroke-linecap:butt;stroke-linejoin:miter;stroke-opacity:1;\"/>\n",
       "<path d=\"M 243.7,26.2 L 249.4,26.2 L 252.3,31.1\" style=\"fill:none;stroke:#000000;stroke-width:2.0px;stroke-linecap:butt;stroke-linejoin:miter;stroke-opacity:1;\"/>\n",
       "<path class=\"atom-0\" d=\"M 407.6 125.1 Q 407.6 118.3, 410.9 114.5 Q 414.3 110.7, 420.6 110.7 Q 426.8 110.7, 430.2 114.5 Q 433.6 118.3, 433.6 125.1 Q 433.6 132.0, 430.2 135.9 Q 426.8 139.8, 420.6 139.8 Q 414.3 139.8, 410.9 135.9 Q 407.6 132.0, 407.6 125.1 M 420.6 136.6 Q 424.9 136.6, 427.2 133.7 Q 429.6 130.8, 429.6 125.1 Q 429.6 119.5, 427.2 116.7 Q 424.9 113.9, 420.6 113.9 Q 416.2 113.9, 413.9 116.7 Q 411.6 119.5, 411.6 125.1 Q 411.6 130.8, 413.9 133.7 Q 416.2 136.6, 420.6 136.6 \" fill=\"#FF0000\"/>\n",
       "<path class=\"atom-0\" d=\"M 438.0 111.0 L 441.8 111.0 L 441.8 123.0 L 456.3 123.0 L 456.3 111.0 L 460.1 111.0 L 460.1 139.3 L 456.3 139.3 L 456.3 126.2 L 441.8 126.2 L 441.8 139.3 L 438.0 139.3 L 438.0 111.0 \" fill=\"#FF0000\"/>\n",
       "<path class=\"atom-4\" d=\"M 39.9 110.8 L 43.7 110.8 L 43.7 122.9 L 58.2 122.9 L 58.2 110.8 L 62.0 110.8 L 62.0 139.2 L 58.2 139.2 L 58.2 126.1 L 43.7 126.1 L 43.7 139.2 L 39.9 139.2 L 39.9 110.8 \" fill=\"#0000FF\"/>\n",
       "<path class=\"atom-4\" d=\"M 72.0 110.8 L 81.3 125.8 Q 82.2 127.3, 83.7 130.0 Q 85.2 132.7, 85.2 132.8 L 85.2 110.8 L 89.0 110.8 L 89.0 139.2 L 85.1 139.2 L 75.2 122.8 Q 74.0 120.8, 72.8 118.6 Q 71.6 116.4, 71.2 115.8 L 71.2 139.2 L 67.5 139.2 L 67.5 110.8 L 72.0 110.8 \" fill=\"#0000FF\"/>\n",
       "<path class=\"atom-4\" d=\"M 94.4 115.9 L 99.4 115.9 L 99.4 110.7 L 101.6 110.7 L 101.6 115.9 L 106.7 115.9 L 106.7 117.8 L 101.6 117.8 L 101.6 123.1 L 99.4 123.1 L 99.4 117.8 L 94.4 117.8 L 94.4 115.9 \" fill=\"#0000FF\"/>\n",
       "<ellipse cx=\"564.4\" cy=\"125.0\" rx=\"22.8\" ry=\"22.8\" class=\"atom-4\" style=\"fill:#FF7F7F;fill-rule:evenodd;stroke:#FF7F7F;stroke-width:1.0px;stroke-linecap:butt;stroke-linejoin:miter;stroke-opacity:1\"/>\n",
       "<path class=\"bond-0 atom-0 atom-1\" d=\"M 890.0,125.0 L 841.3,125.0\" style=\"fill:none;fill-rule:evenodd;stroke:#FF0000;stroke-width:2.0px;stroke-linecap:butt;stroke-linejoin:miter;stroke-opacity:1\"/>\n",
       "<path class=\"bond-0 atom-0 atom-1\" d=\"M 841.3,125.0 L 792.6,125.0\" style=\"fill:none;fill-rule:evenodd;stroke:#000000;stroke-width:2.0px;stroke-linecap:butt;stroke-linejoin:miter;stroke-opacity:1\"/>\n",
       "<path class=\"bond-1 atom-1 atom-2\" d=\"M 792.6,125.0 L 735.6,223.8\" style=\"fill:none;fill-rule:evenodd;stroke:#000000;stroke-width:2.0px;stroke-linecap:butt;stroke-linejoin:miter;stroke-opacity:1\"/>\n",
       "<path class=\"bond-1 atom-1 atom-2\" d=\"M 772.9,125.0 L 725.7,206.7\" style=\"fill:none;fill-rule:evenodd;stroke:#000000;stroke-width:2.0px;stroke-linecap:butt;stroke-linejoin:miter;stroke-opacity:1\"/>\n",
       "<path class=\"bond-2 atom-2 atom-3\" d=\"M 735.6,223.8 L 621.5,223.8\" style=\"fill:none;fill-rule:evenodd;stroke:#000000;stroke-width:2.0px;stroke-linecap:butt;stroke-linejoin:miter;stroke-opacity:1\"/>\n",
       "<path class=\"bond-3 atom-3 atom-4\" d=\"M 621.5,223.8 L 598.1,183.4\" style=\"fill:none;fill-rule:evenodd;stroke:#000000;stroke-width:2.0px;stroke-linecap:butt;stroke-linejoin:miter;stroke-opacity:1\"/>\n",
       "<path class=\"bond-3 atom-3 atom-4\" d=\"M 598.1,183.4 L 574.8,142.9\" style=\"fill:none;fill-rule:evenodd;stroke:#0000FF;stroke-width:2.0px;stroke-linecap:butt;stroke-linejoin:miter;stroke-opacity:1\"/>\n",
       "<path class=\"bond-3 atom-3 atom-4\" d=\"M 631.4,206.7 L 610.5,170.5\" style=\"fill:none;fill-rule:evenodd;stroke:#000000;stroke-width:2.0px;stroke-linecap:butt;stroke-linejoin:miter;stroke-opacity:1\"/>\n",
       "<path class=\"bond-3 atom-3 atom-4\" d=\"M 610.5,170.5 L 589.6,134.4\" style=\"fill:none;fill-rule:evenodd;stroke:#0000FF;stroke-width:2.0px;stroke-linecap:butt;stroke-linejoin:miter;stroke-opacity:1\"/>\n",
       "<path class=\"bond-4 atom-4 atom-5\" d=\"M 574.8,107.1 L 598.1,66.6\" style=\"fill:none;fill-rule:evenodd;stroke:#0000FF;stroke-width:2.0px;stroke-linecap:butt;stroke-linejoin:miter;stroke-opacity:1\"/>\n",
       "<path class=\"bond-4 atom-4 atom-5\" d=\"M 598.1,66.6 L 621.5,26.2\" style=\"fill:none;fill-rule:evenodd;stroke:#000000;stroke-width:2.0px;stroke-linecap:butt;stroke-linejoin:miter;stroke-opacity:1\"/>\n",
       "<path class=\"bond-5 atom-5 atom-6\" d=\"M 621.5,26.2 L 735.6,26.2\" style=\"fill:none;fill-rule:evenodd;stroke:#000000;stroke-width:2.0px;stroke-linecap:butt;stroke-linejoin:miter;stroke-opacity:1\"/>\n",
       "<path class=\"bond-5 atom-5 atom-6\" d=\"M 631.4,43.3 L 725.7,43.3\" style=\"fill:none;fill-rule:evenodd;stroke:#000000;stroke-width:2.0px;stroke-linecap:butt;stroke-linejoin:miter;stroke-opacity:1\"/>\n",
       "<path class=\"bond-6 atom-6 atom-1\" d=\"M 735.6,26.2 L 792.6,125.0\" style=\"fill:none;fill-rule:evenodd;stroke:#000000;stroke-width:2.0px;stroke-linecap:butt;stroke-linejoin:miter;stroke-opacity:1\"/>\n",
       "<path d=\"M 738.4,218.9 L 735.6,223.8 L 729.9,223.8\" style=\"fill:none;stroke:#000000;stroke-width:2.0px;stroke-linecap:butt;stroke-linejoin:miter;stroke-opacity:1;\"/>\n",
       "<path d=\"M 627.2,223.8 L 621.5,223.8 L 620.3,221.8\" style=\"fill:none;stroke:#000000;stroke-width:2.0px;stroke-linecap:butt;stroke-linejoin:miter;stroke-opacity:1;\"/>\n",
       "<path d=\"M 620.3,28.2 L 621.5,26.2 L 627.2,26.2\" style=\"fill:none;stroke:#000000;stroke-width:2.0px;stroke-linecap:butt;stroke-linejoin:miter;stroke-opacity:1;\"/>\n",
       "<path d=\"M 729.9,26.2 L 735.6,26.2 L 738.4,31.1\" style=\"fill:none;stroke:#000000;stroke-width:2.0px;stroke-linecap:butt;stroke-linejoin:miter;stroke-opacity:1;\"/>\n",
       "<path class=\"atom-0\" d=\"M 893.7 125.1 Q 893.7 118.3, 897.1 114.5 Q 900.5 110.7, 906.7 110.7 Q 913.0 110.7, 916.4 114.5 Q 919.7 118.3, 919.7 125.1 Q 919.7 132.0, 916.3 135.9 Q 912.9 139.8, 906.7 139.8 Q 900.5 139.8, 897.1 135.9 Q 893.7 132.0, 893.7 125.1 M 906.7 136.6 Q 911.1 136.6, 913.4 133.7 Q 915.7 130.8, 915.7 125.1 Q 915.7 119.5, 913.4 116.7 Q 911.1 113.9, 906.7 113.9 Q 902.4 113.9, 900.1 116.7 Q 897.7 119.5, 897.7 125.1 Q 897.7 130.8, 900.1 133.7 Q 902.4 136.6, 906.7 136.6 \" fill=\"#FF0000\"/>\n",
       "<path class=\"atom-0\" d=\"M 924.1 111.0 L 928.0 111.0 L 928.0 123.0 L 942.5 123.0 L 942.5 111.0 L 946.3 111.0 L 946.3 139.3 L 942.5 139.3 L 942.5 126.2 L 928.0 126.2 L 928.0 139.3 L 924.1 139.3 L 924.1 111.0 \" fill=\"#FF0000\"/>\n",
       "<path class=\"atom-4\" d=\"M 558.2 110.8 L 567.5 125.8 Q 568.4 127.3, 569.9 130.0 Q 571.3 132.7, 571.4 132.8 L 571.4 110.8 L 575.2 110.8 L 575.2 139.2 L 571.3 139.2 L 561.3 122.8 Q 560.2 120.8, 558.9 118.6 Q 557.7 116.4, 557.4 115.8 L 557.4 139.2 L 553.7 139.2 L 553.7 110.8 L 558.2 110.8 \" fill=\"#0000FF\"/>\n",
       "<ellipse cx=\"396.0\" cy=\"375.2\" rx=\"37.2\" ry=\"22.8\" class=\"atom-0\" style=\"fill:#FF7F7F;fill-rule:evenodd;stroke:#FF7F7F;stroke-width:1.0px;stroke-linecap:butt;stroke-linejoin:miter;stroke-opacity:1\"/>\n",
       "<path class=\"bond-0 atom-0 atom-1\" d=\"M 365.9,375.0 L 317.3,375.0\" style=\"fill:none;fill-rule:evenodd;stroke:#FF0000;stroke-width:2.0px;stroke-linecap:butt;stroke-linejoin:miter;stroke-opacity:1\"/>\n",
       "<path class=\"bond-0 atom-0 atom-1\" d=\"M 317.3,375.0 L 268.6,375.0\" style=\"fill:none;fill-rule:evenodd;stroke:#000000;stroke-width:2.0px;stroke-linecap:butt;stroke-linejoin:miter;stroke-opacity:1\"/>\n",
       "<path class=\"bond-1 atom-1 atom-2\" d=\"M 268.6,375.0 L 211.6,473.8\" style=\"fill:none;fill-rule:evenodd;stroke:#000000;stroke-width:2.0px;stroke-linecap:butt;stroke-linejoin:miter;stroke-opacity:1\"/>\n",
       "<path class=\"bond-1 atom-1 atom-2\" d=\"M 248.8,375.0 L 201.7,456.7\" style=\"fill:none;fill-rule:evenodd;stroke:#000000;stroke-width:2.0px;stroke-linecap:butt;stroke-linejoin:miter;stroke-opacity:1\"/>\n",
       "<path class=\"bond-2 atom-2 atom-3\" d=\"M 211.6,473.8 L 97.5,473.8\" style=\"fill:none;fill-rule:evenodd;stroke:#000000;stroke-width:2.0px;stroke-linecap:butt;stroke-linejoin:miter;stroke-opacity:1\"/>\n",
       "<path class=\"bond-3 atom-3 atom-4\" d=\"M 97.5,473.8 L 74.1,433.4\" style=\"fill:none;fill-rule:evenodd;stroke:#000000;stroke-width:2.0px;stroke-linecap:butt;stroke-linejoin:miter;stroke-opacity:1\"/>\n",
       "<path class=\"bond-3 atom-3 atom-4\" d=\"M 74.1,433.4 L 50.8,392.9\" style=\"fill:none;fill-rule:evenodd;stroke:#0000FF;stroke-width:2.0px;stroke-linecap:butt;stroke-linejoin:miter;stroke-opacity:1\"/>\n",
       "<path class=\"bond-3 atom-3 atom-4\" d=\"M 107.3,456.7 L 86.5,420.5\" style=\"fill:none;fill-rule:evenodd;stroke:#000000;stroke-width:2.0px;stroke-linecap:butt;stroke-linejoin:miter;stroke-opacity:1\"/>\n",
       "<path class=\"bond-3 atom-3 atom-4\" d=\"M 86.5,420.5 L 65.6,384.4\" style=\"fill:none;fill-rule:evenodd;stroke:#0000FF;stroke-width:2.0px;stroke-linecap:butt;stroke-linejoin:miter;stroke-opacity:1\"/>\n",
       "<path class=\"bond-4 atom-4 atom-5\" d=\"M 50.8,357.1 L 74.1,316.6\" style=\"fill:none;fill-rule:evenodd;stroke:#0000FF;stroke-width:2.0px;stroke-linecap:butt;stroke-linejoin:miter;stroke-opacity:1\"/>\n",
       "<path class=\"bond-4 atom-4 atom-5\" d=\"M 74.1,316.6 L 97.5,276.2\" style=\"fill:none;fill-rule:evenodd;stroke:#000000;stroke-width:2.0px;stroke-linecap:butt;stroke-linejoin:miter;stroke-opacity:1\"/>\n",
       "<path class=\"bond-5 atom-5 atom-6\" d=\"M 97.5,276.2 L 211.6,276.2\" style=\"fill:none;fill-rule:evenodd;stroke:#000000;stroke-width:2.0px;stroke-linecap:butt;stroke-linejoin:miter;stroke-opacity:1\"/>\n",
       "<path class=\"bond-5 atom-5 atom-6\" d=\"M 107.3,293.3 L 201.7,293.3\" style=\"fill:none;fill-rule:evenodd;stroke:#000000;stroke-width:2.0px;stroke-linecap:butt;stroke-linejoin:miter;stroke-opacity:1\"/>\n",
       "<path class=\"bond-6 atom-6 atom-1\" d=\"M 211.6,276.2 L 268.6,375.0\" style=\"fill:none;fill-rule:evenodd;stroke:#000000;stroke-width:2.0px;stroke-linecap:butt;stroke-linejoin:miter;stroke-opacity:1\"/>\n",
       "<path d=\"M 214.4,468.9 L 211.6,473.8 L 205.9,473.8\" style=\"fill:none;stroke:#000000;stroke-width:2.0px;stroke-linecap:butt;stroke-linejoin:miter;stroke-opacity:1;\"/>\n",
       "<path d=\"M 103.2,473.8 L 97.5,473.8 L 96.3,471.8\" style=\"fill:none;stroke:#000000;stroke-width:2.0px;stroke-linecap:butt;stroke-linejoin:miter;stroke-opacity:1;\"/>\n",
       "<path d=\"M 96.3,278.2 L 97.5,276.2 L 103.2,276.2\" style=\"fill:none;stroke:#000000;stroke-width:2.0px;stroke-linecap:butt;stroke-linejoin:miter;stroke-opacity:1;\"/>\n",
       "<path d=\"M 205.9,276.2 L 211.6,276.2 L 214.4,281.1\" style=\"fill:none;stroke:#000000;stroke-width:2.0px;stroke-linecap:butt;stroke-linejoin:miter;stroke-opacity:1;\"/>\n",
       "<path class=\"atom-0\" d=\"M 369.7 375.1 Q 369.7 368.3, 373.1 364.5 Q 376.4 360.7, 382.7 360.7 Q 389.0 360.7, 392.4 364.5 Q 395.7 368.3, 395.7 375.1 Q 395.7 382.0, 392.3 385.9 Q 388.9 389.8, 382.7 389.8 Q 376.5 389.8, 373.1 385.9 Q 369.7 382.0, 369.7 375.1 M 382.7 386.6 Q 387.0 386.6, 389.4 383.7 Q 391.7 380.8, 391.7 375.1 Q 391.7 369.5, 389.4 366.7 Q 387.0 363.9, 382.7 363.9 Q 378.4 363.9, 376.0 366.7 Q 373.7 369.5, 373.7 375.1 Q 373.7 380.8, 376.0 383.7 Q 378.4 386.6, 382.7 386.6 \" fill=\"#FF0000\"/>\n",
       "<path class=\"atom-0\" d=\"M 400.1 361.0 L 404.0 361.0 L 404.0 373.0 L 418.4 373.0 L 418.4 361.0 L 422.3 361.0 L 422.3 389.3 L 418.4 389.3 L 418.4 376.2 L 404.0 376.2 L 404.0 389.3 L 400.1 389.3 L 400.1 361.0 \" fill=\"#FF0000\"/>\n",
       "<path class=\"atom-4\" d=\"M 34.1 360.8 L 43.4 375.8 Q 44.3 377.3, 45.8 380.0 Q 47.3 382.7, 47.4 382.8 L 47.4 360.8 L 51.1 360.8 L 51.1 389.2 L 47.3 389.2 L 37.3 372.8 Q 36.1 370.8, 34.9 368.6 Q 33.7 366.4, 33.3 365.8 L 33.3 389.2 L 29.7 389.2 L 29.7 360.8 L 34.1 360.8 \" fill=\"#0000FF\"/>\n",
       "<ellipse cx=\"901.9\" cy=\"375.2\" rx=\"28.1\" ry=\"22.8\" class=\"atom-0\" style=\"fill:#FF7F7F;fill-rule:evenodd;stroke:#FF7F7F;stroke-width:1.0px;stroke-linecap:butt;stroke-linejoin:miter;stroke-opacity:1\"/>\n",
       "<path class=\"bond-0 atom-0 atom-1\" d=\"M 878.2,375.0 L 829.6,375.0\" style=\"fill:none;fill-rule:evenodd;stroke:#FF0000;stroke-width:2.0px;stroke-linecap:butt;stroke-linejoin:miter;stroke-opacity:1\"/>\n",
       "<path class=\"bond-0 atom-0 atom-1\" d=\"M 829.6,375.0 L 780.9,375.0\" style=\"fill:none;fill-rule:evenodd;stroke:#000000;stroke-width:2.0px;stroke-linecap:butt;stroke-linejoin:miter;stroke-opacity:1\"/>\n",
       "<path class=\"bond-1 atom-1 atom-2\" d=\"M 780.9,375.0 L 723.9,473.8\" style=\"fill:none;fill-rule:evenodd;stroke:#000000;stroke-width:2.0px;stroke-linecap:butt;stroke-linejoin:miter;stroke-opacity:1\"/>\n",
       "<path class=\"bond-1 atom-1 atom-2\" d=\"M 761.1,375.0 L 714.0,456.7\" style=\"fill:none;fill-rule:evenodd;stroke:#000000;stroke-width:2.0px;stroke-linecap:butt;stroke-linejoin:miter;stroke-opacity:1\"/>\n",
       "<path class=\"bond-2 atom-2 atom-3\" d=\"M 723.9,473.8 L 609.7,473.8\" style=\"fill:none;fill-rule:evenodd;stroke:#000000;stroke-width:2.0px;stroke-linecap:butt;stroke-linejoin:miter;stroke-opacity:1\"/>\n",
       "<path class=\"bond-3 atom-3 atom-4\" d=\"M 609.7,473.8 L 586.4,433.4\" style=\"fill:none;fill-rule:evenodd;stroke:#000000;stroke-width:2.0px;stroke-linecap:butt;stroke-linejoin:miter;stroke-opacity:1\"/>\n",
       "<path class=\"bond-3 atom-3 atom-4\" d=\"M 586.4,433.4 L 563.0,392.9\" style=\"fill:none;fill-rule:evenodd;stroke:#0000FF;stroke-width:2.0px;stroke-linecap:butt;stroke-linejoin:miter;stroke-opacity:1\"/>\n",
       "<path class=\"bond-3 atom-3 atom-4\" d=\"M 619.6,456.7 L 598.7,420.5\" style=\"fill:none;fill-rule:evenodd;stroke:#000000;stroke-width:2.0px;stroke-linecap:butt;stroke-linejoin:miter;stroke-opacity:1\"/>\n",
       "<path class=\"bond-3 atom-3 atom-4\" d=\"M 598.7,420.5 L 577.9,384.4\" style=\"fill:none;fill-rule:evenodd;stroke:#0000FF;stroke-width:2.0px;stroke-linecap:butt;stroke-linejoin:miter;stroke-opacity:1\"/>\n",
       "<path class=\"bond-4 atom-4 atom-5\" d=\"M 563.0,357.1 L 586.4,316.6\" style=\"fill:none;fill-rule:evenodd;stroke:#0000FF;stroke-width:2.0px;stroke-linecap:butt;stroke-linejoin:miter;stroke-opacity:1\"/>\n",
       "<path class=\"bond-4 atom-4 atom-5\" d=\"M 586.4,316.6 L 609.7,276.2\" style=\"fill:none;fill-rule:evenodd;stroke:#000000;stroke-width:2.0px;stroke-linecap:butt;stroke-linejoin:miter;stroke-opacity:1\"/>\n",
       "<path class=\"bond-5 atom-5 atom-6\" d=\"M 609.7,276.2 L 723.9,276.2\" style=\"fill:none;fill-rule:evenodd;stroke:#000000;stroke-width:2.0px;stroke-linecap:butt;stroke-linejoin:miter;stroke-opacity:1\"/>\n",
       "<path class=\"bond-5 atom-5 atom-6\" d=\"M 619.6,293.3 L 714.0,293.3\" style=\"fill:none;fill-rule:evenodd;stroke:#000000;stroke-width:2.0px;stroke-linecap:butt;stroke-linejoin:miter;stroke-opacity:1\"/>\n",
       "<path class=\"bond-6 atom-6 atom-1\" d=\"M 723.9,276.2 L 780.9,375.0\" style=\"fill:none;fill-rule:evenodd;stroke:#000000;stroke-width:2.0px;stroke-linecap:butt;stroke-linejoin:miter;stroke-opacity:1\"/>\n",
       "<path d=\"M 726.7,468.9 L 723.9,473.8 L 718.1,473.8\" style=\"fill:none;stroke:#000000;stroke-width:2.0px;stroke-linecap:butt;stroke-linejoin:miter;stroke-opacity:1;\"/>\n",
       "<path d=\"M 615.5,473.8 L 609.7,473.8 L 608.6,471.8\" style=\"fill:none;stroke:#000000;stroke-width:2.0px;stroke-linecap:butt;stroke-linejoin:miter;stroke-opacity:1;\"/>\n",
       "<path d=\"M 608.6,278.2 L 609.7,276.2 L 615.5,276.2\" style=\"fill:none;stroke:#000000;stroke-width:2.0px;stroke-linecap:butt;stroke-linejoin:miter;stroke-opacity:1;\"/>\n",
       "<path d=\"M 718.1,276.2 L 723.9,276.2 L 726.7,281.1\" style=\"fill:none;stroke:#000000;stroke-width:2.0px;stroke-linecap:butt;stroke-linejoin:miter;stroke-opacity:1;\"/>\n",
       "<path class=\"atom-0\" d=\"M 882.0 375.1 Q 882.0 368.3, 885.4 364.5 Q 888.7 360.7, 895.0 360.7 Q 901.3 360.7, 904.6 364.5 Q 908.0 368.3, 908.0 375.1 Q 908.0 382.0, 904.6 385.9 Q 901.2 389.8, 895.0 389.8 Q 888.8 389.8, 885.4 385.9 Q 882.0 382.0, 882.0 375.1 M 895.0 386.6 Q 899.3 386.6, 901.6 383.7 Q 904.0 380.8, 904.0 375.1 Q 904.0 369.5, 901.6 366.7 Q 899.3 363.9, 895.0 363.9 Q 890.7 363.9, 888.3 366.7 Q 886.0 369.5, 886.0 375.1 Q 886.0 380.8, 888.3 383.7 Q 890.7 386.6, 895.0 386.6 \" fill=\"#FF0000\"/>\n",
       "<path class=\"atom-0\" d=\"M 912.0 365.3 L 921.7 365.3 L 921.7 367.4 L 912.0 367.4 L 912.0 365.3 \" fill=\"#FF0000\"/>\n",
       "<path class=\"atom-4\" d=\"M 546.4 360.8 L 555.7 375.8 Q 556.6 377.3, 558.1 380.0 Q 559.6 382.7, 559.7 382.8 L 559.7 360.8 L 563.4 360.8 L 563.4 389.2 L 559.6 389.2 L 549.6 372.8 Q 548.4 370.8, 547.2 368.6 Q 546.0 366.4, 545.6 365.8 L 545.6 389.2 L 542.0 389.2 L 542.0 360.8 L 546.4 360.8 \" fill=\"#0000FF\"/>\n",
       "<text x=\"500\" y=\"240\" font-size=\"14\" font-family=\"sans-serif\" font-weight=\"normal\" letter-spacing=\"0\" text-anchor=\"middle\" fill=\"black\">pka_0 = 7.42 (stddev: 0.85)</text><path d=\"M450.0 120.0 L550.0 120.0\" stroke-width=\"2\" stroke=\"black\"/><path d=\"M550.0 120.0 L535.0 115.0\" stroke-width=\"2\" stroke=\"black\"/><path d=\"M450.0 130.0 L550.0 130.0\" stroke-width=\"2\" stroke=\"black\"/><path d=\"M450.0 130.0 L465.0 135.0\" stroke-width=\"2\" stroke=\"black\"/><text x=\"500\" y=\"490\" font-size=\"14\" font-family=\"sans-serif\" font-weight=\"normal\" letter-spacing=\"0\" text-anchor=\"middle\" fill=\"black\">pka_1 = 8.56 (stddev: 0.34)</text><path d=\"M450.0 370.0 L550.0 370.0\" stroke-width=\"2\" stroke=\"black\"/><path d=\"M550.0 370.0 L535.0 365.0\" stroke-width=\"2\" stroke=\"black\"/><path d=\"M450.0 380.0 L550.0 380.0\" stroke-width=\"2\" stroke=\"black\"/><path d=\"M450.0 380.0 L465.0 385.0\" stroke-width=\"2\" stroke=\"black\"/></svg>"
      ],
      "text/plain": [
       "<IPython.core.display.SVG object>"
      ]
     },
     "metadata": {},
     "output_type": "display_data"
    }
   ],
   "source": [
    "#draw the micostate pka values\n",
    "calc = draw_pka_reactions(protonation_states)\n",
    "display(calc)"
   ]
  },
  {
   "cell_type": "code",
   "execution_count": 9,
   "id": "3ae68771",
   "metadata": {},
   "outputs": [
    {
     "data": {
      "image/png": "[encoded data removed]",
      "text/plain": [
       "<PIL.PngImagePlugin.PngImageFile image mode=RGB size=450x450>"
      ]
     },
     "execution_count": 9,
     "metadata": {},
     "output_type": "execute_result"
    }
   ],
   "source": [
    "# visualize them on the molecule at pH=7.0\n",
    "draw_pka_map(protonation_states)"
   ]
  }
 ],
 "metadata": {
  "kernelspec": {
   "display_name": "Python 3 (ipykernel)",
   "language": "python",
   "name": "python3"
  },
  "language_info": {
   "codemirror_mode": {
    "name": "ipython",
    "version": 3
   },
   "file_extension": ".py",
   "mimetype": "text/x-python",
   "name": "python",
   "nbconvert_exporter": "python",
   "pygments_lexer": "ipython3",
   "version": "3.10.6"
  }
 },
 "nbformat": 4,
 "nbformat_minor": 5
}
