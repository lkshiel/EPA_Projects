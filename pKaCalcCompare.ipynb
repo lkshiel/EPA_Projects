{
 "cells": [
  {
   "cell_type": "code",
   "execution_count": 1,
   "id": "c4764eea-105b-4994-bc46-00a58616ff72",
   "metadata": {},
   "outputs": [],
   "source": [
    "import warnings\n",
    "warnings.filterwarnings('ignore')\n",
    "\n",
    "#import dependancies \n",
    "import pickle\n",
    "import pandas as pd\n",
    "from rdkit import Chem\n",
    "import torch\n",
    "from os import path\n",
    "import matplotlib.pyplot as plt\n",
    "\n",
    "#import pkasolver\n",
    "import pkasolver\n",
    "from pkasolver.query import QueryModel\n",
    "from pkasolver.ml_architecture import GINPairV1\n",
    "from pkasolver.query import draw_pka_map \n",
    "from pkasolver.query import calculate_microstate_pka_values, draw_pka_reactions\n",
    "from IPython.display import display\n",
    "from IPython.display import HTML\n",
    "\n",
    "#load trained model\n",
    "base_path=path.dirname(pkasolver.__file__)\n",
    "##from pKaFunctions import RunPkasolver\n",
    "#from ipynb.fs.full.pKaFunctions import *\n",
    "\n",
    "#import MolGpKa\n",
    "from predict_pka import *\n",
    "from protonate import *\n",
    "\n",
    "#import vizualizing modules\n",
    "from rdkit.Chem import Draw\n",
    "from rdkit.Chem.Draw import rdMolDraw2D\n",
    "from rdkit.Chem import rdDepictor\n",
    "rdDepictor.SetPreferCoordGen(True)\n",
    "from rdkit.Chem.Draw import IPythonConsole\n",
    "from IPython.display import SVG\n",
    "import rdkit"
   ]
  },
  {
   "cell_type": "markdown",
   "id": "de286d8e-ef40-43b4-8292-de4814493bac",
   "metadata": {},
   "source": [
    "## Functions"
   ]
  },
  {
   "cell_type": "code",
   "execution_count": 2,
   "id": "15590945-e22e-40f2-9c0c-96f4f4b42cc1",
   "metadata": {},
   "outputs": [],
   "source": [
    "def RunPkasolver(x):#takes input of smile object\n",
    "    mol=Chem.MolFromSmiles(x)\n",
    "    protonation_states = calculate_microstate_pka_values(mol) #performs internal calculations and stores as object\n",
    "    sites=len(protonation_states) #get the number of ionization sites \n",
    "    \n",
    "    lst=[]\n",
    "    depSmi=[]\n",
    "    proSmi=[]\n",
    "    idx=[]\n",
    "    for j in range(len(protonation_states)):\n",
    "        state=protonation_states[j]\n",
    "        depSmi.append(Chem.MolToSmiles(state.deprotonated_mol))\n",
    "        proSmi.append(Chem.MolToSmiles(state.protonated_mol))\n",
    "        idx.append(state.reaction_center_idx)\n",
    "        lst.append(round(state.pka,2)) #get pka values for all sites for a given molecule store in a list\n",
    "    yield sites,lst,proSmi,depSmi,idx"
   ]
  },
  {
   "cell_type": "code",
   "execution_count": 3,
   "id": "71ebec02-d418-4c70-b19f-c583428ea5f7",
   "metadata": {},
   "outputs": [],
   "source": [
    "def RunMolGpKa(x):\n",
    "    mol = Chem.MolFromSmiles(x)\n",
    "    base_dict, acid_dict, m = predict(mol)\n",
    "    smi=Chem.MolToSmiles(Chem.MolFromSmiles(Chem.MolToSmiles(m))) #ammended to return smile string to be used as input for chem axon\n",
    "    atom_idx = list(base_dict.keys()) + list(acid_dict.keys())\n",
    "    pkas = list(base_dict.values()) + list(acid_dict.values())\n",
    "    sites=len(pkas)\n",
    "    yield sites, pkas, atom_idx,smi"
   ]
  },
  {
   "cell_type": "markdown",
   "id": "b35a530e-edb7-4023-a711-02098efe943c",
   "metadata": {},
   "source": [
    "#### To generate chem axon calculation\n",
    "in command line:\n",
    ">> cxcalc pka -i 1 -x 14 .\\ComparisonTableEx.txt > .\\ComparisonTableEx_CaResults.txt\n",
    "\n",
    "Where flag -i represents minimum pH and flag -x represents maximum pH\n",
    "\n",
    "File 'ComparisonTableEx.txt' contain the smile string from RunMolGpKa() \n"
   ]
  },
  {
   "cell_type": "markdown",
   "id": "644be9cf-b478-45c7-86b5-a08cc410dc01",
   "metadata": {},
   "source": [
    "#### Difference in Indexing\n",
    "\n",
    "Importantly, Chem axon uses a 1-start indexing where as pKaSolver and MolGpKa use a 0-start indexing\n",
    "\n",
    "Therefore all atoms from Chem axon need to be -1 in order to match the 0-start indexing\n"
   ]
  },
  {
   "cell_type": "code",
   "execution_count": 9,
   "id": "8a5b8b1a-1e97-412e-b905-8b40e4c2b663",
   "metadata": {},
   "outputs": [],
   "source": [
    "def OneToZeroStart(atomList):\n",
    "    atoms=[]\n",
    "    if len(atomList)== 1:\n",
    "        new=(atomList[0] -1)\n",
    "        atoms.append(new)\n",
    "    else:\n",
    "        for i in atomList:\n",
    "            new=(i-1)\n",
    "            atoms.append(new)\n",
    "    return(atoms)"
   ]
  },
  {
   "cell_type": "code",
   "execution_count": 10,
   "id": "2d26f389-81a4-4092-bc1c-fc11cedb7387",
   "metadata": {},
   "outputs": [],
   "source": [
    "#this part will be different for Nick,\n",
    "##the import think here is to change the atom index to a Zero start\n",
    "##Smiles MUST be the one MolGpKa output to ensure smiles numbering is the same\n",
    "\n",
    "def GetChemAxon(file):\n",
    "    #format chem axon output file into table\n",
    "    axon=pd.read_table(file)\n",
    "    axon['atoms']=axon['atoms'].astype(str)\n",
    "    temp=axon['atoms'].str.split(',',expand=True).astype(int)\n",
    "    idx=temp.values.flatten().tolist()\n",
    "    \n",
    "    #convert atom index to 0 start\n",
    "    new_idx=OneToZeroStart(idx)\n",
    "    \n",
    "    ##extract pka values\n",
    "    #isolate columns with only pka values\n",
    "    axon=axon.iloc[:,1:-1]\n",
    "    \n",
    "    #remove empty columns\n",
    "    axon.dropna(axis=1,inplace=True)\n",
    "    \n",
    "    #store pka values in a list\n",
    "    pka=list(axon.loc[0])\n",
    "    \n",
    "    #make a dictionary with pka as key and atom index as value\n",
    "    ca_dict=dict(zip(pka,new_idx))\n",
    "    return ca_dict"
   ]
  },
  {
   "cell_type": "code",
   "execution_count": 11,
   "id": "72270f4f-05f4-4428-b59b-c694173b2e30",
   "metadata": {},
   "outputs": [],
   "source": [
    "#draws molecule, highlights and lables pKa sites that match the table\n",
    "def DrawDiagram(std_smi,atom_idx):\n",
    "    mol=Chem.MolFromSmiles(std_smi)\n",
    "    cp=Chem.Mol(mol)\n",
    "\n",
    "    for i in atom_idx:\n",
    "        label= \"atom#_\" + str(i) \n",
    "        cp.GetAtomWithIdx(i).SetProp(\"atomNote\",label)\n",
    "\n",
    "    d2d = rdMolDraw2D.MolDraw2DSVG(350,300)\n",
    "    d2d.drawOptions().setHighlightColour((0.8,0.8,0.8))\n",
    "    d2d.DrawMolecule(cp,highlightAtoms=solver_idx)\n",
    "    d2d.FinishDrawing()\n",
    "    return d2d"
   ]
  },
  {
   "cell_type": "code",
   "execution_count": 12,
   "id": "979993a0-ef79-4e4e-9605-73bf6ec2a238",
   "metadata": {},
   "outputs": [],
   "source": [
    "#merge columns with same names together\n",
    "def MergeValues(x):\n",
    "    return ', '.join(x[x.notnull()].astype(str))"
   ]
  },
  {
   "cell_type": "code",
   "execution_count": 13,
   "id": "9fd19edb-7a20-4724-81cc-fba2444b6a12",
   "metadata": {},
   "outputs": [],
   "source": [
    "#makes dataframes from pka/atom index dictionaries\n",
    "def DictToDF(pka_dict):\n",
    "    #make a dataframe from dictionary-- will result in multiple columns for same atoms (i.e atom_idx=[0,0,5] there will be three columns\n",
    "    df=pd.DataFrame([pka_dict.keys()],columns=pka_dict.values()).add_prefix('atom#_')\n",
    "\n",
    "    #group columns with the same name (in this case, atom index) and merge the values of those columns using function MergeValues\n",
    "    df=df.groupby(level=0,axis=1).apply(lambda x:x.apply(MergeValues,axis=1))\n",
    "\n",
    "    return df"
   ]
  },
  {
   "cell_type": "code",
   "execution_count": 14,
   "id": "fd363e0e-4e5f-450f-ba3c-b391e94d21d5",
   "metadata": {},
   "outputs": [],
   "source": [
    "#round pka values from MolGpKa, convert to float first because they are stored as a string from groupby\n",
    "def RoundMolg(df):\n",
    "    for c in df:\n",
    "        for i in df.index:\n",
    "            tmp=df[c][i].split(', ')\n",
    "            if tmp != ['']:\n",
    "                new=[]\n",
    "                for l in tmp:\n",
    "                    n=round(float(l),2)\n",
    "                    n=str(n)\n",
    "                    n.replace(\"[\",\"\")\n",
    "                    new.append(n)\n",
    "                df[c][i]=str(new).replace('[','').replace(']','').replace(\"'\",\"\")\n",
    "            else:\n",
    "                df[c][i]=tmp\n",
    "    return df"
   ]
  },
  {
   "cell_type": "markdown",
   "id": "e94580af-b755-46b4-a10f-ff9bbd987646",
   "metadata": {},
   "source": [
    "## Demo\n",
    "### Example 1"
   ]
  },
  {
   "cell_type": "code",
   "execution_count": 15,
   "id": "81929f3e-54ee-4998-9090-42ec8930e738",
   "metadata": {},
   "outputs": [],
   "source": [
    "parent=\"CN(C)CCCN1C2=CC=CC=C2SC2=C1C=C(C=C2)C(C)=O\"\n",
    "\n",
    "#get pka from calculators\n",
    "molg=RunMolGpKa(parent)\n",
    "solver=RunPkasolver(parent)"
   ]
  },
  {
   "cell_type": "code",
   "execution_count": 16,
   "id": "5b6a77b8-1e1c-4a26-b0f1-dd5d4fc932c1",
   "metadata": {},
   "outputs": [
    {
     "name": "stderr",
     "output_type": "stream",
     "text": [
      "[query.py:297 - calculate_microstate_pka_values()] Using dimorphite-dl to identify protonation sites.\n"
     ]
    },
    {
     "name": "stdout",
     "output_type": "stream",
     "text": [
      "Proposed mol at pH 7.4: CC(=O)c1ccc2c(c1)N(CCC[NH+](C)C)c1ccccc1S2\n",
      "CC(=O)c1ccc2c(c1)N(CCCN(C)C)c1ccccc1S2\n"
     ]
    }
   ],
   "source": [
    "#extract values from pkasolver output\n",
    "for n,p,ds,ps,i in solver:\n",
    "    solver_pka=p\n",
    "    solver_idx=i\n",
    "solver_dict=dict(zip(solver_pka,solver_idx)) #make dictionary with atom index and pkas\n",
    "\n",
    "#extract values from molgpka output\n",
    "for s,p,i,smiles in molg:\n",
    "    molg_pka=p\n",
    "    molg_smi=smiles\n",
    "    molg_idx=i\n",
    "molg_dict=dict(zip(molg_pka,molg_idx))#make dictionary with atom index and pkas\n",
    "print(molg_smi) #uses as input for chem axon"
   ]
  },
  {
   "cell_type": "code",
   "execution_count": 17,
   "id": "ceaecfd3-c001-4685-bd7d-6e3c409f7b95",
   "metadata": {},
   "outputs": [
    {
     "data": {
      "text/html": [
       "<div>\n",
       "<style scoped>\n",
       "    .dataframe tbody tr th:only-of-type {\n",
       "        vertical-align: middle;\n",
       "    }\n",
       "\n",
       "    .dataframe tbody tr th {\n",
       "        vertical-align: top;\n",
       "    }\n",
       "\n",
       "    .dataframe thead th {\n",
       "        text-align: right;\n",
       "    }\n",
       "</style>\n",
       "<table border=\"1\" class=\"dataframe\">\n",
       "  <thead>\n",
       "    <tr style=\"text-align: right;\">\n",
       "      <th></th>\n",
       "      <th>Calculator</th>\n",
       "      <th>atom#_13</th>\n",
       "      <th>atom#_9</th>\n",
       "    </tr>\n",
       "  </thead>\n",
       "  <tbody>\n",
       "    <tr>\n",
       "      <th>0</th>\n",
       "      <td>pKaSolver</td>\n",
       "      <td>8.71</td>\n",
       "      <td>4.2</td>\n",
       "    </tr>\n",
       "    <tr>\n",
       "      <th>1</th>\n",
       "      <td>MolGpKa</td>\n",
       "      <td>9.48</td>\n",
       "      <td>5.57</td>\n",
       "    </tr>\n",
       "    <tr>\n",
       "      <th>2</th>\n",
       "      <td>Chem Axon</td>\n",
       "      <td>8.5</td>\n",
       "      <td>NaN</td>\n",
       "    </tr>\n",
       "  </tbody>\n",
       "</table>\n",
       "</div>"
      ],
      "text/plain": [
       "  Calculator atom#_13 atom#_9\n",
       "0  pKaSolver     8.71     4.2\n",
       "1    MolGpKa     9.48    5.57\n",
       "2  Chem Axon      8.5     NaN"
      ]
     },
     "execution_count": 17,
     "metadata": {},
     "output_type": "execute_result"
    }
   ],
   "source": [
    "#format chem axon output \n",
    "ca_dict=GetChemAxon('E1_output.txt')\n",
    "\n",
    "#chem Axon dataframe\n",
    "ca_df=DictToDF(ca_dict)\n",
    "\n",
    "#pkasolver dataframe\n",
    "solver_df=DictToDF(solver_dict)\n",
    "\n",
    "#MolGpKa -- addional formatting because MolGpKa does not round pka values\n",
    "molg_df=DictToDF(molg_dict)\n",
    "RoundMolg(molg_df)\n",
    "\n",
    "#combine all dataframes\n",
    "all=pd.concat([solver_df,molg_df,ca_df],ignore_index=True)\n",
    "all.insert(0,'Calculator',['pKaSolver','MolGpKa','Chem Axon'])\n",
    "all"
   ]
  },
  {
   "cell_type": "code",
   "execution_count": 18,
   "id": "638b78f8-3a00-4ece-8440-cc2b2cb86b20",
   "metadata": {},
   "outputs": [
    {
     "data": {
      "image/svg+xml": [
       "<svg xmlns=\"http://www.w3.org/2000/svg\" xmlns:rdkit=\"http://www.rdkit.org/xml\" xmlns:xlink=\"http://www.w3.org/1999/xlink\" version=\"1.1\" baseProfile=\"full\" xml:space=\"preserve\" width=\"350px\" height=\"300px\" viewBox=\"0 0 350 300\">\n",
       "<!-- END OF HEADER -->\n",
       "<rect style=\"opacity:1.0;fill:#FFFFFF;stroke:none\" width=\"350.0\" height=\"300.0\" x=\"0.0\" y=\"0.0\"> </rect>\n",
       "<ellipse cx=\"210.0\" cy=\"164.5\" rx=\"12.2\" ry=\"12.2\" class=\"atom-9\" style=\"fill:#CCCCCC;fill-rule:evenodd;stroke:#CCCCCC;stroke-width:1.0px;stroke-linecap:butt;stroke-linejoin:miter;stroke-opacity:1\"/>\n",
       "<ellipse cx=\"69.3\" cy=\"164.2\" rx=\"12.2\" ry=\"12.2\" class=\"atom-13\" style=\"fill:#CCCCCC;fill-rule:evenodd;stroke:#CCCCCC;stroke-width:1.0px;stroke-linecap:butt;stroke-linejoin:miter;stroke-opacity:1\"/>\n",
       "<path class=\"bond-0 atom-0 atom-1\" d=\"M 315.9,22.5 L 280.6,42.7\" style=\"fill:none;fill-rule:evenodd;stroke:#000000;stroke-width:2.0px;stroke-linecap:butt;stroke-linejoin:miter;stroke-opacity:1\"/>\n",
       "<path class=\"bond-1 atom-1 atom-2\" d=\"M 283.7,41.0 L 270.0,33.0\" style=\"fill:none;fill-rule:evenodd;stroke:#000000;stroke-width:2.0px;stroke-linecap:butt;stroke-linejoin:miter;stroke-opacity:1\"/>\n",
       "<path class=\"bond-1 atom-1 atom-2\" d=\"M 270.0,33.0 L 256.3,25.1\" style=\"fill:none;fill-rule:evenodd;stroke:#FF0000;stroke-width:2.0px;stroke-linecap:butt;stroke-linejoin:miter;stroke-opacity:1\"/>\n",
       "<path class=\"bond-1 atom-1 atom-2\" d=\"M 280.6,46.3 L 266.9,38.3\" style=\"fill:none;fill-rule:evenodd;stroke:#000000;stroke-width:2.0px;stroke-linecap:butt;stroke-linejoin:miter;stroke-opacity:1\"/>\n",
       "<path class=\"bond-1 atom-1 atom-2\" d=\"M 266.9,38.3 L 253.2,30.4\" style=\"fill:none;fill-rule:evenodd;stroke:#FF0000;stroke-width:2.0px;stroke-linecap:butt;stroke-linejoin:miter;stroke-opacity:1\"/>\n",
       "<path class=\"bond-2 atom-1 atom-3\" d=\"M 280.6,42.7 L 280.6,83.4\" style=\"fill:none;fill-rule:evenodd;stroke:#000000;stroke-width:2.0px;stroke-linecap:butt;stroke-linejoin:miter;stroke-opacity:1\"/>\n",
       "<path class=\"bond-3 atom-3 atom-4\" d=\"M 280.6,83.4 L 315.7,103.8\" style=\"fill:none;fill-rule:evenodd;stroke:#000000;stroke-width:2.0px;stroke-linecap:butt;stroke-linejoin:miter;stroke-opacity:1\"/>\n",
       "<path class=\"bond-3 atom-3 atom-4\" d=\"M 280.5,90.4 L 309.6,107.3\" style=\"fill:none;fill-rule:evenodd;stroke:#000000;stroke-width:2.0px;stroke-linecap:butt;stroke-linejoin:miter;stroke-opacity:1\"/>\n",
       "<path class=\"bond-4 atom-4 atom-5\" d=\"M 315.7,103.8 L 315.6,144.4\" style=\"fill:none;fill-rule:evenodd;stroke:#000000;stroke-width:2.0px;stroke-linecap:butt;stroke-linejoin:miter;stroke-opacity:1\"/>\n",
       "<path class=\"bond-5 atom-5 atom-6\" d=\"M 315.6,144.4 L 280.4,164.6\" style=\"fill:none;fill-rule:evenodd;stroke:#000000;stroke-width:2.0px;stroke-linecap:butt;stroke-linejoin:miter;stroke-opacity:1\"/>\n",
       "<path class=\"bond-5 atom-5 atom-6\" d=\"M 309.5,140.9 L 280.4,157.6\" style=\"fill:none;fill-rule:evenodd;stroke:#000000;stroke-width:2.0px;stroke-linecap:butt;stroke-linejoin:miter;stroke-opacity:1\"/>\n",
       "<path class=\"bond-6 atom-6 atom-7\" d=\"M 280.4,164.6 L 245.2,144.2\" style=\"fill:none;fill-rule:evenodd;stroke:#000000;stroke-width:2.0px;stroke-linecap:butt;stroke-linejoin:miter;stroke-opacity:1\"/>\n",
       "<path class=\"bond-7 atom-7 atom-8\" d=\"M 245.2,144.2 L 245.3,103.6\" style=\"fill:none;fill-rule:evenodd;stroke:#000000;stroke-width:2.0px;stroke-linecap:butt;stroke-linejoin:miter;stroke-opacity:1\"/>\n",
       "<path class=\"bond-7 atom-7 atom-8\" d=\"M 251.3,140.7 L 251.4,107.1\" style=\"fill:none;fill-rule:evenodd;stroke:#000000;stroke-width:2.0px;stroke-linecap:butt;stroke-linejoin:miter;stroke-opacity:1\"/>\n",
       "<path class=\"bond-8 atom-7 atom-9\" d=\"M 245.2,144.2 L 231.6,152.1\" style=\"fill:none;fill-rule:evenodd;stroke:#000000;stroke-width:2.0px;stroke-linecap:butt;stroke-linejoin:miter;stroke-opacity:1\"/>\n",
       "<path class=\"bond-8 atom-7 atom-9\" d=\"M 231.6,152.1 L 217.9,160.0\" style=\"fill:none;fill-rule:evenodd;stroke:#0000FF;stroke-width:2.0px;stroke-linecap:butt;stroke-linejoin:miter;stroke-opacity:1\"/>\n",
       "<path class=\"bond-9 atom-9 atom-10\" d=\"M 202.1,159.9 L 188.5,152.0\" style=\"fill:none;fill-rule:evenodd;stroke:#0000FF;stroke-width:2.0px;stroke-linecap:butt;stroke-linejoin:miter;stroke-opacity:1\"/>\n",
       "<path class=\"bond-9 atom-9 atom-10\" d=\"M 188.5,152.0 L 174.9,144.1\" style=\"fill:none;fill-rule:evenodd;stroke:#000000;stroke-width:2.0px;stroke-linecap:butt;stroke-linejoin:miter;stroke-opacity:1\"/>\n",
       "<path class=\"bond-10 atom-10 atom-11\" d=\"M 174.9,144.1 L 139.7,164.3\" style=\"fill:none;fill-rule:evenodd;stroke:#000000;stroke-width:2.0px;stroke-linecap:butt;stroke-linejoin:miter;stroke-opacity:1\"/>\n",
       "<path class=\"bond-11 atom-11 atom-12\" d=\"M 139.7,164.3 L 104.5,144.0\" style=\"fill:none;fill-rule:evenodd;stroke:#000000;stroke-width:2.0px;stroke-linecap:butt;stroke-linejoin:miter;stroke-opacity:1\"/>\n",
       "<path class=\"bond-12 atom-12 atom-13\" d=\"M 104.5,144.0 L 90.8,151.8\" style=\"fill:none;fill-rule:evenodd;stroke:#000000;stroke-width:2.0px;stroke-linecap:butt;stroke-linejoin:miter;stroke-opacity:1\"/>\n",
       "<path class=\"bond-12 atom-12 atom-13\" d=\"M 90.8,151.8 L 77.2,159.7\" style=\"fill:none;fill-rule:evenodd;stroke:#0000FF;stroke-width:2.0px;stroke-linecap:butt;stroke-linejoin:miter;stroke-opacity:1\"/>\n",
       "<path class=\"bond-13 atom-13 atom-14\" d=\"M 61.4,159.6 L 47.8,151.7\" style=\"fill:none;fill-rule:evenodd;stroke:#0000FF;stroke-width:2.0px;stroke-linecap:butt;stroke-linejoin:miter;stroke-opacity:1\"/>\n",
       "<path class=\"bond-13 atom-13 atom-14\" d=\"M 47.8,151.7 L 34.1,143.8\" style=\"fill:none;fill-rule:evenodd;stroke:#000000;stroke-width:2.0px;stroke-linecap:butt;stroke-linejoin:miter;stroke-opacity:1\"/>\n",
       "<path class=\"bond-14 atom-13 atom-15\" d=\"M 69.3,174.2 L 69.2,189.5\" style=\"fill:none;fill-rule:evenodd;stroke:#0000FF;stroke-width:2.0px;stroke-linecap:butt;stroke-linejoin:miter;stroke-opacity:1\"/>\n",
       "<path class=\"bond-14 atom-13 atom-15\" d=\"M 69.2,189.5 L 69.2,204.8\" style=\"fill:none;fill-rule:evenodd;stroke:#000000;stroke-width:2.0px;stroke-linecap:butt;stroke-linejoin:miter;stroke-opacity:1\"/>\n",
       "<path class=\"bond-15 atom-9 atom-16\" d=\"M 210.0,174.5 L 210.0,189.8\" style=\"fill:none;fill-rule:evenodd;stroke:#0000FF;stroke-width:2.0px;stroke-linecap:butt;stroke-linejoin:miter;stroke-opacity:1\"/>\n",
       "<path class=\"bond-15 atom-9 atom-16\" d=\"M 210.0,189.8 L 209.9,205.1\" style=\"fill:none;fill-rule:evenodd;stroke:#000000;stroke-width:2.0px;stroke-linecap:butt;stroke-linejoin:miter;stroke-opacity:1\"/>\n",
       "<path class=\"bond-16 atom-16 atom-17\" d=\"M 209.9,205.1 L 174.7,225.4\" style=\"fill:none;fill-rule:evenodd;stroke:#000000;stroke-width:2.0px;stroke-linecap:butt;stroke-linejoin:miter;stroke-opacity:1\"/>\n",
       "<path class=\"bond-16 atom-16 atom-17\" d=\"M 209.9,212.1 L 180.8,228.9\" style=\"fill:none;fill-rule:evenodd;stroke:#000000;stroke-width:2.0px;stroke-linecap:butt;stroke-linejoin:miter;stroke-opacity:1\"/>\n",
       "<path class=\"bond-17 atom-17 atom-18\" d=\"M 174.7,225.4 L 174.6,266.0\" style=\"fill:none;fill-rule:evenodd;stroke:#000000;stroke-width:2.0px;stroke-linecap:butt;stroke-linejoin:miter;stroke-opacity:1\"/>\n",
       "<path class=\"bond-18 atom-18 atom-19\" d=\"M 174.6,266.0 L 209.8,286.4\" style=\"fill:none;fill-rule:evenodd;stroke:#000000;stroke-width:2.0px;stroke-linecap:butt;stroke-linejoin:miter;stroke-opacity:1\"/>\n",
       "<path class=\"bond-18 atom-18 atom-19\" d=\"M 180.7,262.5 L 209.8,279.3\" style=\"fill:none;fill-rule:evenodd;stroke:#000000;stroke-width:2.0px;stroke-linecap:butt;stroke-linejoin:miter;stroke-opacity:1\"/>\n",
       "<path class=\"bond-19 atom-19 atom-20\" d=\"M 209.8,286.4 L 245.0,266.1\" style=\"fill:none;fill-rule:evenodd;stroke:#000000;stroke-width:2.0px;stroke-linecap:butt;stroke-linejoin:miter;stroke-opacity:1\"/>\n",
       "<path class=\"bond-20 atom-20 atom-21\" d=\"M 245.0,266.1 L 245.1,225.5\" style=\"fill:none;fill-rule:evenodd;stroke:#000000;stroke-width:2.0px;stroke-linecap:butt;stroke-linejoin:miter;stroke-opacity:1\"/>\n",
       "<path class=\"bond-20 atom-20 atom-21\" d=\"M 238.9,262.6 L 239.0,229.0\" style=\"fill:none;fill-rule:evenodd;stroke:#000000;stroke-width:2.0px;stroke-linecap:butt;stroke-linejoin:miter;stroke-opacity:1\"/>\n",
       "<path class=\"bond-21 atom-21 atom-22\" d=\"M 245.1,225.5 L 259.3,217.4\" style=\"fill:none;fill-rule:evenodd;stroke:#000000;stroke-width:2.0px;stroke-linecap:butt;stroke-linejoin:miter;stroke-opacity:1\"/>\n",
       "<path class=\"bond-21 atom-21 atom-22\" d=\"M 259.3,217.4 L 273.4,209.2\" style=\"fill:none;fill-rule:evenodd;stroke:#CCCC00;stroke-width:2.0px;stroke-linecap:butt;stroke-linejoin:miter;stroke-opacity:1\"/>\n",
       "<path class=\"bond-22 atom-8 atom-3\" d=\"M 245.3,103.6 L 280.6,83.4\" style=\"fill:none;fill-rule:evenodd;stroke:#000000;stroke-width:2.0px;stroke-linecap:butt;stroke-linejoin:miter;stroke-opacity:1\"/>\n",
       "<path class=\"bond-23 atom-21 atom-16\" d=\"M 245.1,225.5 L 209.9,205.1\" style=\"fill:none;fill-rule:evenodd;stroke:#000000;stroke-width:2.0px;stroke-linecap:butt;stroke-linejoin:miter;stroke-opacity:1\"/>\n",
       "<path class=\"bond-24 atom-22 atom-6\" d=\"M 280.3,195.3 L 280.4,180.0\" style=\"fill:none;fill-rule:evenodd;stroke:#CCCC00;stroke-width:2.0px;stroke-linecap:butt;stroke-linejoin:miter;stroke-opacity:1\"/>\n",
       "<path class=\"bond-24 atom-22 atom-6\" d=\"M 280.4,180.0 L 280.4,164.6\" style=\"fill:none;fill-rule:evenodd;stroke:#000000;stroke-width:2.0px;stroke-linecap:butt;stroke-linejoin:miter;stroke-opacity:1\"/>\n",
       "<path d=\"M 282.4,41.7 L 280.6,42.7 L 280.6,44.8\" style=\"fill:none;stroke:#000000;stroke-width:2.0px;stroke-linecap:butt;stroke-linejoin:miter;stroke-opacity:1;\"/>\n",
       "<path d=\"M 313.9,102.7 L 315.7,103.8 L 315.7,105.8\" style=\"fill:none;stroke:#000000;stroke-width:2.0px;stroke-linecap:butt;stroke-linejoin:miter;stroke-opacity:1;\"/>\n",
       "<path d=\"M 315.6,142.4 L 315.6,144.4 L 313.9,145.4\" style=\"fill:none;stroke:#000000;stroke-width:2.0px;stroke-linecap:butt;stroke-linejoin:miter;stroke-opacity:1;\"/>\n",
       "<path d=\"M 245.3,105.6 L 245.3,103.6 L 247.1,102.6\" style=\"fill:none;stroke:#000000;stroke-width:2.0px;stroke-linecap:butt;stroke-linejoin:miter;stroke-opacity:1;\"/>\n",
       "<path d=\"M 175.6,144.5 L 174.9,144.1 L 173.1,145.1\" style=\"fill:none;stroke:#000000;stroke-width:2.0px;stroke-linecap:butt;stroke-linejoin:miter;stroke-opacity:1;\"/>\n",
       "<path d=\"M 141.4,163.3 L 139.7,164.3 L 137.9,163.3\" style=\"fill:none;stroke:#000000;stroke-width:2.0px;stroke-linecap:butt;stroke-linejoin:miter;stroke-opacity:1;\"/>\n",
       "<path d=\"M 106.3,145.0 L 104.5,144.0 L 103.8,144.4\" style=\"fill:none;stroke:#000000;stroke-width:2.0px;stroke-linecap:butt;stroke-linejoin:miter;stroke-opacity:1;\"/>\n",
       "<path d=\"M 176.5,224.3 L 174.7,225.4 L 174.7,227.4\" style=\"fill:none;stroke:#000000;stroke-width:2.0px;stroke-linecap:butt;stroke-linejoin:miter;stroke-opacity:1;\"/>\n",
       "<path d=\"M 174.6,263.9 L 174.6,266.0 L 176.4,267.0\" style=\"fill:none;stroke:#000000;stroke-width:2.0px;stroke-linecap:butt;stroke-linejoin:miter;stroke-opacity:1;\"/>\n",
       "<path d=\"M 208.0,285.3 L 209.8,286.4 L 211.5,285.4\" style=\"fill:none;stroke:#000000;stroke-width:2.0px;stroke-linecap:butt;stroke-linejoin:miter;stroke-opacity:1;\"/>\n",
       "<path d=\"M 243.2,267.1 L 245.0,266.1 L 245.0,264.1\" style=\"fill:none;stroke:#000000;stroke-width:2.0px;stroke-linecap:butt;stroke-linejoin:miter;stroke-opacity:1;\"/>\n",
       "<path class=\"atom-2\" d=\"M 237.6 22.4 Q 237.6 18.3, 239.6 16.0 Q 241.7 13.6, 245.5 13.6 Q 249.3 13.6, 251.4 16.0 Q 253.4 18.3, 253.4 22.4 Q 253.4 26.6, 251.3 29.0 Q 249.3 31.4, 245.5 31.4 Q 241.7 31.4, 239.6 29.0 Q 237.6 26.6, 237.6 22.4 M 245.5 29.4 Q 248.1 29.4, 249.5 27.7 Q 251.0 25.9, 251.0 22.4 Q 251.0 19.0, 249.5 17.3 Q 248.1 15.6, 245.5 15.6 Q 242.9 15.6, 241.4 17.3 Q 240.0 19.0, 240.0 22.4 Q 240.0 25.9, 241.4 27.7 Q 242.9 29.4, 245.5 29.4 \" fill=\"#FF0000\"/>\n",
       "<path class=\"atom-9\" d=\"M 206.2 155.9 L 211.9 165.0 Q 212.4 165.9, 213.3 167.5 Q 214.2 169.2, 214.3 169.3 L 214.3 155.9 L 216.6 155.9 L 216.6 173.1 L 214.2 173.1 L 208.1 163.1 Q 207.4 161.9, 206.7 160.6 Q 205.9 159.3, 205.7 158.9 L 205.7 173.1 L 203.5 173.1 L 203.5 155.9 L 206.2 155.9 \" fill=\"#0000FF\"/>\n",
       "<path class=\"atom-13\" d=\"M 65.5 155.6 L 71.1 164.7 Q 71.7 165.6, 72.6 167.3 Q 73.5 168.9, 73.5 169.0 L 73.5 155.6 L 75.8 155.6 L 75.8 172.8 L 73.5 172.8 L 67.4 162.8 Q 66.7 161.7, 65.9 160.3 Q 65.2 159.0, 65.0 158.6 L 65.0 172.8 L 62.7 172.8 L 62.7 155.6 L 65.5 155.6 \" fill=\"#0000FF\"/>\n",
       "<path class=\"atom-22\" d=\"M 275.4 211.2 Q 275.6 211.3, 276.4 211.6 Q 277.2 211.9, 278.1 212.2 Q 279.0 212.3, 279.9 212.3 Q 281.5 212.3, 282.5 211.6 Q 283.4 210.8, 283.4 209.4 Q 283.4 208.4, 282.9 207.8 Q 282.5 207.3, 281.7 206.9 Q 281.0 206.6, 279.8 206.3 Q 278.3 205.8, 277.3 205.4 Q 276.4 204.9, 275.8 204.0 Q 275.1 203.1, 275.1 201.5 Q 275.1 199.3, 276.6 198.0 Q 278.1 196.7, 281.0 196.7 Q 283.0 196.7, 285.3 197.6 L 284.7 199.5 Q 282.6 198.6, 281.1 198.6 Q 279.4 198.6, 278.5 199.3 Q 277.6 200.0, 277.6 201.2 Q 277.6 202.1, 278.0 202.7 Q 278.5 203.3, 279.2 203.6 Q 279.9 203.9, 281.1 204.3 Q 282.6 204.7, 283.6 205.2 Q 284.5 205.7, 285.2 206.7 Q 285.8 207.7, 285.8 209.4 Q 285.8 211.8, 284.2 213.1 Q 282.6 214.3, 280.0 214.3 Q 278.5 214.3, 277.3 214.0 Q 276.1 213.7, 274.8 213.1 L 275.4 211.2 \" fill=\"#CCCC00\"/>\n",
       "<path class=\"note\" d=\"M 184.2 136.7 Q 184.2 135.7, 185.0 135.1 Q 185.8 134.6, 187.2 134.6 L 188.2 134.6 L 188.2 134.3 Q 188.2 133.6, 187.8 133.2 Q 187.5 132.9, 186.7 132.9 Q 186.2 132.9, 185.9 133.0 Q 185.5 133.1, 184.9 133.4 L 184.5 132.6 Q 185.7 132.0, 186.8 132.0 Q 188.1 132.0, 188.7 132.6 Q 189.3 133.1, 189.3 134.4 L 189.3 138.4 L 188.4 138.4 Q 188.4 138.3, 188.4 138.1 Q 188.3 138.0, 188.3 137.6 Q 187.4 138.5, 186.2 138.5 Q 185.3 138.5, 184.7 138.0 Q 184.2 137.5, 184.2 136.7 M 185.3 136.7 Q 185.3 137.1, 185.6 137.4 Q 185.9 137.6, 186.4 137.6 Q 186.9 137.6, 187.4 137.4 Q 187.9 137.2, 188.2 136.8 L 188.2 135.4 L 187.3 135.4 Q 186.3 135.4, 185.8 135.7 Q 185.3 136.0, 185.3 136.7 \" fill=\"#000000\"/>\n",
       "<path class=\"note\" d=\"M 190.9 133.0 L 190.9 132.1 L 192.1 132.1 L 192.3 130.3 L 193.1 130.3 L 193.1 132.1 L 195.0 132.1 L 195.0 133.0 L 193.1 133.0 L 193.1 136.5 Q 193.1 137.5, 194.1 137.5 Q 194.4 137.5, 195.0 137.4 L 195.1 138.2 Q 194.5 138.4, 193.8 138.4 Q 193.0 138.4, 192.5 138.0 Q 192.0 137.5, 192.0 136.5 L 192.0 133.0 L 190.9 133.0 \" fill=\"#000000\"/>\n",
       "<path class=\"note\" d=\"M 196.1 135.2 Q 196.1 133.7, 196.9 132.9 Q 197.6 132.0, 199.1 132.0 Q 200.5 132.0, 201.3 132.9 Q 202.0 133.7, 202.0 135.2 Q 202.0 136.8, 201.3 137.6 Q 200.5 138.5, 199.1 138.5 Q 197.6 138.5, 196.9 137.6 Q 196.1 136.8, 196.1 135.2 M 197.3 135.2 Q 197.3 136.4, 197.7 137.0 Q 198.2 137.6, 199.1 137.6 Q 199.9 137.6, 200.4 137.0 Q 200.9 136.4, 200.9 135.2 Q 200.9 134.1, 200.4 133.5 Q 199.9 132.9, 199.1 132.9 Q 198.2 132.9, 197.7 133.5 Q 197.3 134.1, 197.3 135.2 \" fill=\"#000000\"/>\n",
       "<path class=\"note\" d=\"M 210.5 132.0 Q 211.5 132.0, 212.1 132.6 Q 212.6 133.1, 212.6 134.2 L 212.6 138.4 L 211.5 138.4 L 211.5 134.3 Q 211.5 133.6, 211.2 133.2 Q 210.9 132.9, 210.3 132.9 Q 209.7 132.9, 209.2 133.2 Q 208.8 133.4, 208.5 133.9 Q 208.5 134.0, 208.5 134.2 L 208.5 138.4 L 207.4 138.4 L 207.4 134.3 Q 207.4 133.6, 207.1 133.2 Q 206.8 132.9, 206.2 132.9 Q 205.6 132.9, 205.1 133.2 Q 204.7 133.4, 204.4 133.9 L 204.4 138.4 L 203.2 138.4 L 203.2 132.1 L 204.2 132.1 L 204.3 133.0 Q 205.1 132.0, 206.4 132.0 Q 207.9 132.0, 208.3 133.1 Q 209.1 132.0, 210.5 132.0 \" fill=\"#000000\"/>\n",
       "<path class=\"note\" d=\"M 222.1 133.0 L 220.4 133.0 L 220.0 135.2 L 221.7 135.2 L 221.5 136.1 L 219.9 136.1 L 219.5 138.4 L 218.5 138.4 L 218.9 136.1 L 216.9 136.1 L 216.5 138.4 L 215.5 138.4 L 215.9 136.1 L 214.2 136.1 L 214.3 135.2 L 216.1 135.2 L 216.4 133.0 L 214.7 133.0 L 214.9 132.1 L 216.6 132.1 L 217.0 129.7 L 217.9 129.7 L 217.5 132.1 L 219.6 132.1 L 220.0 129.7 L 221.0 129.7 L 220.6 132.1 L 222.2 132.1 L 222.1 133.0 M 219.1 135.2 L 219.4 133.0 L 217.4 133.0 L 217.0 135.2 L 219.1 135.2 \" fill=\"#000000\"/>\n",
       "<path class=\"note\" d=\"M 229.4 139.0 L 229.4 140.0 L 223.2 140.0 L 223.2 139.0 L 229.4 139.0 \" fill=\"#000000\"/>\n",
       "<path class=\"note\" d=\"M 232.9 129.7 Q 234.4 129.7, 235.2 130.7 Q 236.0 131.7, 236.0 133.8 Q 236.0 136.1, 235.0 137.3 Q 234.1 138.5, 232.2 138.5 Q 231.7 138.5, 231.2 138.4 Q 230.8 138.2, 230.4 138.0 L 230.8 137.2 Q 231.5 137.5, 232.2 137.5 Q 233.4 137.5, 234.1 136.7 Q 234.7 135.9, 234.8 134.3 Q 234.3 134.7, 233.8 134.9 Q 233.2 135.1, 232.6 135.1 Q 231.9 135.1, 231.3 134.8 Q 230.7 134.5, 230.3 133.9 Q 230.0 133.3, 230.0 132.5 Q 230.0 131.7, 230.4 131.0 Q 230.8 130.4, 231.4 130.0 Q 232.1 129.7, 232.9 129.7 M 231.2 132.5 Q 231.2 133.3, 231.7 133.7 Q 232.1 134.2, 232.8 134.2 Q 233.4 134.2, 233.9 134.0 Q 234.4 133.7, 234.8 133.4 Q 234.7 131.9, 234.3 131.3 Q 233.8 130.6, 232.9 130.6 Q 232.4 130.6, 232.0 130.9 Q 231.7 131.1, 231.5 131.6 Q 231.2 132.0, 231.2 132.5 \" fill=\"#000000\"/>\n",
       "<path class=\"note\" d=\"M 40.4 136.4 Q 40.4 135.4, 41.2 134.9 Q 42.0 134.3, 43.5 134.3 L 44.4 134.3 L 44.4 134.1 Q 44.4 133.3, 44.1 133.0 Q 43.8 132.6, 43.0 132.6 Q 42.5 132.6, 42.1 132.7 Q 41.7 132.8, 41.1 133.1 L 40.8 132.3 Q 41.9 131.7, 43.0 131.7 Q 44.3 131.7, 44.9 132.3 Q 45.6 132.9, 45.6 134.1 L 45.6 138.1 L 44.7 138.1 Q 44.7 138.1, 44.6 137.9 Q 44.6 137.7, 44.5 137.4 Q 43.6 138.2, 42.5 138.2 Q 41.5 138.2, 41.0 137.7 Q 40.4 137.2, 40.4 136.4 M 41.5 136.4 Q 41.5 136.8, 41.8 137.1 Q 42.1 137.3, 42.7 137.3 Q 43.2 137.3, 43.6 137.1 Q 44.1 136.9, 44.4 136.5 L 44.4 135.2 L 43.6 135.2 Q 42.6 135.2, 42.0 135.5 Q 41.5 135.8, 41.5 136.4 \" fill=\"#000000\"/>\n",
       "<path class=\"note\" d=\"M 47.1 132.7 L 47.1 131.8 L 48.3 131.8 L 48.5 130.0 L 49.4 130.0 L 49.4 131.8 L 51.3 131.8 L 51.3 132.7 L 49.4 132.7 L 49.4 136.2 Q 49.4 137.3, 50.3 137.3 Q 50.6 137.3, 51.2 137.1 L 51.4 137.9 Q 50.7 138.2, 50.1 138.2 Q 49.3 138.2, 48.7 137.7 Q 48.2 137.2, 48.2 136.2 L 48.2 132.7 L 47.1 132.7 \" fill=\"#000000\"/>\n",
       "<path class=\"note\" d=\"M 52.3 135.0 Q 52.3 133.4, 53.1 132.6 Q 53.9 131.7, 55.3 131.7 Q 56.7 131.7, 57.5 132.6 Q 58.3 133.4, 58.3 135.0 Q 58.3 136.5, 57.5 137.3 Q 56.7 138.2, 55.3 138.2 Q 53.9 138.2, 53.1 137.3 Q 52.3 136.5, 52.3 135.0 M 53.5 135.0 Q 53.5 136.1, 53.9 136.7 Q 54.4 137.3, 55.3 137.3 Q 56.1 137.3, 56.6 136.7 Q 57.1 136.1, 57.1 135.0 Q 57.1 133.8, 56.6 133.2 Q 56.1 132.6, 55.3 132.6 Q 54.4 132.6, 53.9 133.2 Q 53.5 133.8, 53.5 135.0 \" fill=\"#000000\"/>\n",
       "<path class=\"note\" d=\"M 66.7 131.7 Q 67.7 131.7, 68.3 132.3 Q 68.8 132.9, 68.8 134.0 L 68.8 138.1 L 67.7 138.1 L 67.7 134.0 Q 67.7 133.3, 67.4 133.0 Q 67.1 132.6, 66.5 132.6 Q 65.9 132.6, 65.4 132.9 Q 65.0 133.2, 64.7 133.6 Q 64.7 133.7, 64.7 134.0 L 64.7 138.1 L 63.6 138.1 L 63.6 134.0 Q 63.6 133.3, 63.3 133.0 Q 63.0 132.6, 62.3 132.6 Q 61.8 132.6, 61.3 132.9 Q 60.9 133.2, 60.6 133.6 L 60.6 138.1 L 59.4 138.1 L 59.4 131.8 L 60.4 131.8 L 60.5 132.7 Q 61.3 131.7, 62.6 131.7 Q 64.0 131.7, 64.5 132.8 Q 65.3 131.7, 66.7 131.7 \" fill=\"#000000\"/>\n",
       "<path class=\"note\" d=\"M 78.3 132.7 L 76.6 132.7 L 76.2 134.9 L 77.9 134.9 L 77.7 135.8 L 76.1 135.8 L 75.7 138.1 L 74.7 138.1 L 75.1 135.8 L 73.0 135.8 L 72.7 138.1 L 71.7 138.1 L 72.1 135.8 L 70.4 135.8 L 70.5 134.9 L 72.2 134.9 L 72.6 132.7 L 70.9 132.7 L 71.1 131.9 L 72.8 131.9 L 73.2 129.5 L 74.1 129.5 L 73.7 131.9 L 75.8 131.9 L 76.2 129.5 L 77.1 129.5 L 76.7 131.9 L 78.4 131.9 L 78.3 132.7 M 75.2 134.9 L 75.6 132.7 L 73.6 132.7 L 73.2 134.9 L 75.2 134.9 \" fill=\"#000000\"/>\n",
       "<path class=\"note\" d=\"M 85.5 138.7 L 85.5 139.7 L 79.3 139.7 L 79.3 138.7 L 85.5 138.7 \" fill=\"#000000\"/>\n",
       "<path class=\"note\" d=\"M 86.6 137.1 L 88.5 137.1 L 88.5 130.7 L 86.4 131.3 L 86.2 130.6 L 88.8 129.4 L 89.7 129.6 L 89.7 137.1 L 91.4 137.1 L 91.4 138.1 L 86.6 138.1 L 86.6 137.1 \" fill=\"#000000\"/>\n",
       "<path class=\"note\" d=\"M 96.6 133.6 Q 97.5 133.8, 97.9 134.3 Q 98.3 134.9, 98.3 135.7 Q 98.3 136.5, 97.9 137.0 Q 97.6 137.6, 96.9 137.9 Q 96.2 138.2, 95.3 138.2 Q 94.4 138.2, 93.7 137.9 Q 93.0 137.6, 92.5 136.9 L 93.2 136.2 Q 93.7 136.8, 94.2 137.0 Q 94.6 137.2, 95.3 137.2 Q 96.1 137.2, 96.6 136.8 Q 97.1 136.4, 97.1 135.7 Q 97.1 134.8, 96.6 134.5 Q 96.1 134.1, 95.0 134.1 L 94.4 134.1 L 94.4 133.2 L 95.0 133.2 Q 95.9 133.2, 96.4 132.8 Q 96.9 132.3, 96.9 131.6 Q 96.9 131.0, 96.5 130.7 Q 96.1 130.3, 95.4 130.3 Q 94.6 130.3, 94.2 130.6 Q 93.7 130.9, 93.4 131.5 L 92.6 131.1 Q 92.9 130.3, 93.6 129.9 Q 94.3 129.4, 95.4 129.4 Q 96.6 129.4, 97.4 130.0 Q 98.1 130.6, 98.1 131.6 Q 98.1 132.3, 97.7 132.8 Q 97.4 133.3, 96.6 133.6 \" fill=\"#000000\"/>\n",
       "</svg>"
      ],
      "text/plain": [
       "<IPython.core.display.SVG object>"
      ]
     },
     "execution_count": 18,
     "metadata": {},
     "output_type": "execute_result"
    }
   ],
   "source": [
    "pic=DrawDiagram(molg_smi,molg_idx)\n",
    "SVG(pic.GetDrawingText())"
   ]
  },
  {
   "cell_type": "markdown",
   "id": "21764e6e-f29a-44fe-8fe6-26073df6fa9f",
   "metadata": {},
   "source": [
    "### Example 2"
   ]
  },
  {
   "cell_type": "code",
   "execution_count": 19,
   "id": "072badba-5626-410b-bbe7-d304c30b4d14",
   "metadata": {},
   "outputs": [],
   "source": [
    "parent_2='O=C(O)CC(O)(CC(=O)O)C(=O)O'\n",
    "molg=RunMolGpKa(parent_2)\n",
    "solver=RunPkasolver(parent_2)"
   ]
  },
  {
   "cell_type": "code",
   "execution_count": 20,
   "id": "5281ebd2-6f6c-497e-a440-1135dcf4fc0f",
   "metadata": {},
   "outputs": [
    {
     "name": "stderr",
     "output_type": "stream",
     "text": [
      "[query.py:297 - calculate_microstate_pka_values()] Using dimorphite-dl to identify protonation sites.\n"
     ]
    },
    {
     "name": "stdout",
     "output_type": "stream",
     "text": [
      "Proposed mol at pH 7.4: O=C([O-])CC(O)(CC(=O)[O-])C(=O)[O-]\n",
      "O=C(O)CC(O)(CC(=O)O)C(=O)O\n"
     ]
    }
   ],
   "source": [
    "#extract values from pkasolver output\n",
    "for n,p,ds,ps,i in solver:\n",
    "    solver_pka=p\n",
    "    solver_idx=i\n",
    "solver_dict=dict(zip(solver_pka,solver_idx)) #make dictionary with atom index and pkas\n",
    "\n",
    "#extract values from molgpka output\n",
    "for s,p,i,smiles in molg:\n",
    "    molg_pka=p\n",
    "    molg_smi=smiles\n",
    "    molg_idx=i\n",
    "molg_dict=dict(zip(molg_pka,molg_idx))#make dictionary with atom index and pkas\n",
    "print(molg_smi) #uses as input for chem axon"
   ]
  },
  {
   "cell_type": "code",
   "execution_count": 21,
   "id": "98bf9d8b-7a02-4142-a6e9-0ba052b9ad7d",
   "metadata": {},
   "outputs": [],
   "source": [
    "ca_dict=GetChemAxon('E2_output.txt')"
   ]
  },
  {
   "cell_type": "code",
   "execution_count": 22,
   "id": "fd0c9ea1-c7a6-4c9c-9f2d-55b709a60b4a",
   "metadata": {},
   "outputs": [
    {
     "data": {
      "text/html": [
       "<div>\n",
       "<style scoped>\n",
       "    .dataframe tbody tr th:only-of-type {\n",
       "        vertical-align: middle;\n",
       "    }\n",
       "\n",
       "    .dataframe tbody tr th {\n",
       "        vertical-align: top;\n",
       "    }\n",
       "\n",
       "    .dataframe thead th {\n",
       "        text-align: right;\n",
       "    }\n",
       "</style>\n",
       "<table border=\"1\" class=\"dataframe\">\n",
       "  <thead>\n",
       "    <tr style=\"text-align: right;\">\n",
       "      <th></th>\n",
       "      <th>Calculator</th>\n",
       "      <th>atom#_12</th>\n",
       "      <th>atom#_2</th>\n",
       "      <th>atom#_5</th>\n",
       "      <th>atom#_9</th>\n",
       "    </tr>\n",
       "  </thead>\n",
       "  <tbody>\n",
       "    <tr>\n",
       "      <th>0</th>\n",
       "      <td>pKaSolver</td>\n",
       "      <td>3.98</td>\n",
       "      <td>2.95</td>\n",
       "      <td>7.49</td>\n",
       "      <td>3.43</td>\n",
       "    </tr>\n",
       "    <tr>\n",
       "      <th>1</th>\n",
       "      <td>MolGpKa</td>\n",
       "      <td>7.72</td>\n",
       "      <td>7.41</td>\n",
       "      <td>10.92</td>\n",
       "      <td>7.41</td>\n",
       "    </tr>\n",
       "    <tr>\n",
       "      <th>2</th>\n",
       "      <td>Chem Axon</td>\n",
       "      <td>3.05</td>\n",
       "      <td>4.67</td>\n",
       "      <td>NaN</td>\n",
       "      <td>NaN</td>\n",
       "    </tr>\n",
       "  </tbody>\n",
       "</table>\n",
       "</div>"
      ],
      "text/plain": [
       "  Calculator atom#_12 atom#_2 atom#_5 atom#_9\n",
       "0  pKaSolver     3.98    2.95    7.49    3.43\n",
       "1    MolGpKa     7.72    7.41   10.92    7.41\n",
       "2  Chem Axon     3.05    4.67     NaN     NaN"
      ]
     },
     "execution_count": 22,
     "metadata": {},
     "output_type": "execute_result"
    }
   ],
   "source": [
    "\n",
    "#chem Axon dataframe\n",
    "ca_df=DictToDF(ca_dict)\n",
    "\n",
    "#pkasolver dataframe\n",
    "solver_df=DictToDF(solver_dict)\n",
    "\n",
    "#MolGpKa -- addional formatting because MolGpKa does not round pka values\n",
    "molg_df=DictToDF(molg_dict)\n",
    "RoundMolg(molg_df)\n",
    "\n",
    "#combine all dataframes\n",
    "all=pd.concat([solver_df,molg_df,ca_df],ignore_index=True)\n",
    "all.insert(0,'Calculator',['pKaSolver','MolGpKa','Chem Axon'])\n",
    "all"
   ]
  },
  {
   "cell_type": "code",
   "execution_count": 23,
   "id": "a7948d0d-de31-4000-b853-208bed02df1a",
   "metadata": {},
   "outputs": [
    {
     "data": {
      "image/svg+xml": [
       "<svg xmlns=\"http://www.w3.org/2000/svg\" xmlns:rdkit=\"http://www.rdkit.org/xml\" xmlns:xlink=\"http://www.w3.org/1999/xlink\" version=\"1.1\" baseProfile=\"full\" xml:space=\"preserve\" width=\"350px\" height=\"300px\" viewBox=\"0 0 350 300\">\n",
       "<!-- END OF HEADER -->\n",
       "<rect style=\"opacity:1.0;fill:#FFFFFF;stroke:none\" width=\"350.0\" height=\"300.0\" x=\"0.0\" y=\"0.0\"> </rect>\n",
       "<ellipse cx=\"155.8\" cy=\"53.0\" rx=\"30.0\" ry=\"16.2\" class=\"atom-2\" style=\"fill:#CCCCCC;fill-rule:evenodd;stroke:#CCCCCC;stroke-width:1.0px;stroke-linecap:butt;stroke-linejoin:miter;stroke-opacity:1\"/>\n",
       "<ellipse cx=\"229.6\" cy=\"143.7\" rx=\"29.2\" ry=\"16.2\" class=\"atom-5\" style=\"fill:#CCCCCC;fill-rule:evenodd;stroke:#CCCCCC;stroke-width:1.0px;stroke-linecap:butt;stroke-linejoin:miter;stroke-opacity:1\"/>\n",
       "<ellipse cx=\"45.9\" cy=\"215.2\" rx=\"30.0\" ry=\"16.2\" class=\"atom-9\" style=\"fill:#CCCCCC;fill-rule:evenodd;stroke:#CCCCCC;stroke-width:1.0px;stroke-linecap:butt;stroke-linejoin:miter;stroke-opacity:1\"/>\n",
       "<ellipse cx=\"294.1\" cy=\"189.0\" rx=\"29.2\" ry=\"16.2\" class=\"atom-12\" style=\"fill:#CCCCCC;fill-rule:evenodd;stroke:#CCCCCC;stroke-width:1.0px;stroke-linecap:butt;stroke-linejoin:miter;stroke-opacity:1\"/>\n",
       "<path class=\"bond-0 atom-0 atom-1\" d=\"M 233.4,102.1 L 212.0,102.1\" style=\"fill:none;fill-rule:evenodd;stroke:#FF0000;stroke-width:2.0px;stroke-linecap:butt;stroke-linejoin:miter;stroke-opacity:1\"/>\n",
       "<path class=\"bond-0 atom-0 atom-1\" d=\"M 212.0,102.1 L 190.7,102.1\" style=\"fill:none;fill-rule:evenodd;stroke:#000000;stroke-width:2.0px;stroke-linecap:butt;stroke-linejoin:miter;stroke-opacity:1\"/>\n",
       "<path class=\"bond-0 atom-0 atom-1\" d=\"M 233.4,94.2 L 212.0,94.2\" style=\"fill:none;fill-rule:evenodd;stroke:#FF0000;stroke-width:2.0px;stroke-linecap:butt;stroke-linejoin:miter;stroke-opacity:1\"/>\n",
       "<path class=\"bond-0 atom-0 atom-1\" d=\"M 212.0,94.2 L 190.7,94.2\" style=\"fill:none;fill-rule:evenodd;stroke:#000000;stroke-width:2.0px;stroke-linecap:butt;stroke-linejoin:miter;stroke-opacity:1\"/>\n",
       "<path class=\"bond-1 atom-1 atom-2\" d=\"M 193.0,98.1 L 183.7,82.1\" style=\"fill:none;fill-rule:evenodd;stroke:#000000;stroke-width:2.0px;stroke-linecap:butt;stroke-linejoin:miter;stroke-opacity:1\"/>\n",
       "<path class=\"bond-1 atom-1 atom-2\" d=\"M 183.7,82.1 L 174.5,66.1\" style=\"fill:none;fill-rule:evenodd;stroke:#FF0000;stroke-width:2.0px;stroke-linecap:butt;stroke-linejoin:miter;stroke-opacity:1\"/>\n",
       "<path class=\"bond-2 atom-1 atom-3\" d=\"M 193.0,98.1 L 166.8,143.5\" style=\"fill:none;fill-rule:evenodd;stroke:#000000;stroke-width:2.0px;stroke-linecap:butt;stroke-linejoin:miter;stroke-opacity:1\"/>\n",
       "<path class=\"bond-3 atom-3 atom-4\" d=\"M 166.8,143.5 L 193.0,188.9\" style=\"fill:none;fill-rule:evenodd;stroke:#000000;stroke-width:2.0px;stroke-linecap:butt;stroke-linejoin:miter;stroke-opacity:1\"/>\n",
       "<path class=\"bond-4 atom-4 atom-5\" d=\"M 193.0,188.9 L 202.2,172.8\" style=\"fill:none;fill-rule:evenodd;stroke:#000000;stroke-width:2.0px;stroke-linecap:butt;stroke-linejoin:miter;stroke-opacity:1\"/>\n",
       "<path class=\"bond-4 atom-4 atom-5\" d=\"M 202.2,172.8 L 211.4,156.8\" style=\"fill:none;fill-rule:evenodd;stroke:#FF0000;stroke-width:2.0px;stroke-linecap:butt;stroke-linejoin:miter;stroke-opacity:1\"/>\n",
       "<path class=\"bond-5 atom-4 atom-6\" d=\"M 193.0,188.9 L 147.6,215.1\" style=\"fill:none;fill-rule:evenodd;stroke:#000000;stroke-width:2.0px;stroke-linecap:butt;stroke-linejoin:miter;stroke-opacity:1\"/>\n",
       "<path class=\"bond-6 atom-6 atom-7\" d=\"M 147.6,215.1 L 102.2,188.9\" style=\"fill:none;fill-rule:evenodd;stroke:#000000;stroke-width:2.0px;stroke-linecap:butt;stroke-linejoin:miter;stroke-opacity:1\"/>\n",
       "<path class=\"bond-7 atom-7 atom-8\" d=\"M 106.2,191.1 L 106.2,170.5\" style=\"fill:none;fill-rule:evenodd;stroke:#000000;stroke-width:2.0px;stroke-linecap:butt;stroke-linejoin:miter;stroke-opacity:1\"/>\n",
       "<path class=\"bond-7 atom-7 atom-8\" d=\"M 106.2,170.5 L 106.2,149.8\" style=\"fill:none;fill-rule:evenodd;stroke:#FF0000;stroke-width:2.0px;stroke-linecap:butt;stroke-linejoin:miter;stroke-opacity:1\"/>\n",
       "<path class=\"bond-7 atom-7 atom-8\" d=\"M 98.3,191.1 L 98.3,170.5\" style=\"fill:none;fill-rule:evenodd;stroke:#000000;stroke-width:2.0px;stroke-linecap:butt;stroke-linejoin:miter;stroke-opacity:1\"/>\n",
       "<path class=\"bond-7 atom-7 atom-8\" d=\"M 98.3,170.5 L 98.3,149.8\" style=\"fill:none;fill-rule:evenodd;stroke:#FF0000;stroke-width:2.0px;stroke-linecap:butt;stroke-linejoin:miter;stroke-opacity:1\"/>\n",
       "<path class=\"bond-8 atom-7 atom-9\" d=\"M 102.2,188.9 L 85.5,198.5\" style=\"fill:none;fill-rule:evenodd;stroke:#000000;stroke-width:2.0px;stroke-linecap:butt;stroke-linejoin:miter;stroke-opacity:1\"/>\n",
       "<path class=\"bond-8 atom-7 atom-9\" d=\"M 85.5,198.5 L 68.8,208.2\" style=\"fill:none;fill-rule:evenodd;stroke:#FF0000;stroke-width:2.0px;stroke-linecap:butt;stroke-linejoin:miter;stroke-opacity:1\"/>\n",
       "<path class=\"bond-9 atom-4 atom-10\" d=\"M 193.0,188.9 L 238.3,215.1\" style=\"fill:none;fill-rule:evenodd;stroke:#000000;stroke-width:2.0px;stroke-linecap:butt;stroke-linejoin:miter;stroke-opacity:1\"/>\n",
       "<path class=\"bond-10 atom-10 atom-11\" d=\"M 234.4,212.8 L 234.4,233.6\" style=\"fill:none;fill-rule:evenodd;stroke:#000000;stroke-width:2.0px;stroke-linecap:butt;stroke-linejoin:miter;stroke-opacity:1\"/>\n",
       "<path class=\"bond-10 atom-10 atom-11\" d=\"M 234.4,233.6 L 234.4,254.5\" style=\"fill:none;fill-rule:evenodd;stroke:#FF0000;stroke-width:2.0px;stroke-linecap:butt;stroke-linejoin:miter;stroke-opacity:1\"/>\n",
       "<path class=\"bond-10 atom-10 atom-11\" d=\"M 242.2,212.8 L 242.2,233.6\" style=\"fill:none;fill-rule:evenodd;stroke:#000000;stroke-width:2.0px;stroke-linecap:butt;stroke-linejoin:miter;stroke-opacity:1\"/>\n",
       "<path class=\"bond-10 atom-10 atom-11\" d=\"M 242.2,233.6 L 242.2,254.5\" style=\"fill:none;fill-rule:evenodd;stroke:#FF0000;stroke-width:2.0px;stroke-linecap:butt;stroke-linejoin:miter;stroke-opacity:1\"/>\n",
       "<path class=\"bond-11 atom-10 atom-12\" d=\"M 238.3,215.1 L 255.0,205.4\" style=\"fill:none;fill-rule:evenodd;stroke:#000000;stroke-width:2.0px;stroke-linecap:butt;stroke-linejoin:miter;stroke-opacity:1\"/>\n",
       "<path class=\"bond-11 atom-10 atom-12\" d=\"M 255.0,205.4 L 271.7,195.8\" style=\"fill:none;fill-rule:evenodd;stroke:#FF0000;stroke-width:2.0px;stroke-linecap:butt;stroke-linejoin:miter;stroke-opacity:1\"/>\n",
       "<path d=\"M 192.5,97.3 L 193.0,98.1 L 191.6,100.4\" style=\"fill:none;stroke:#000000;stroke-width:2.0px;stroke-linecap:butt;stroke-linejoin:miter;stroke-opacity:1;\"/>\n",
       "<path d=\"M 168.1,141.2 L 166.8,143.5 L 168.1,145.8\" style=\"fill:none;stroke:#000000;stroke-width:2.0px;stroke-linecap:butt;stroke-linejoin:miter;stroke-opacity:1;\"/>\n",
       "<path d=\"M 149.9,213.7 L 147.6,215.1 L 145.3,213.7\" style=\"fill:none;stroke:#000000;stroke-width:2.0px;stroke-linecap:butt;stroke-linejoin:miter;stroke-opacity:1;\"/>\n",
       "<path d=\"M 104.5,190.2 L 102.2,188.9 L 101.4,189.3\" style=\"fill:none;stroke:#000000;stroke-width:2.0px;stroke-linecap:butt;stroke-linejoin:miter;stroke-opacity:1;\"/>\n",
       "<path d=\"M 236.0,213.7 L 238.3,215.1 L 239.1,214.6\" style=\"fill:none;stroke:#000000;stroke-width:2.0px;stroke-linecap:butt;stroke-linejoin:miter;stroke-opacity:1;\"/>\n",
       "<path class=\"atom-0\" d=\"M 235.1 98.2 Q 235.1 92.9, 237.8 89.9 Q 240.4 86.9, 245.3 86.9 Q 250.3 86.9, 252.9 89.9 Q 255.5 92.9, 255.5 98.2 Q 255.5 103.6, 252.9 106.7 Q 250.2 109.7, 245.3 109.7 Q 240.4 109.7, 237.8 106.7 Q 235.1 103.6, 235.1 98.2 M 245.3 107.2 Q 248.7 107.2, 250.5 105.0 Q 252.4 102.7, 252.4 98.2 Q 252.4 93.8, 250.5 91.6 Q 248.7 89.4, 245.3 89.4 Q 241.9 89.4, 240.1 91.6 Q 238.3 93.8, 238.3 98.2 Q 238.3 102.7, 240.1 105.0 Q 241.9 107.2, 245.3 107.2 \" fill=\"#FF0000\"/>\n",
       "<path class=\"atom-2\" d=\"M 134.6 41.8 L 137.6 41.8 L 137.6 51.2 L 149.0 51.2 L 149.0 41.8 L 152.0 41.8 L 152.0 64.0 L 149.0 64.0 L 149.0 53.8 L 137.6 53.8 L 137.6 64.0 L 134.6 64.0 L 134.6 41.8 \" fill=\"#FF0000\"/>\n",
       "<path class=\"atom-2\" d=\"M 156.6 52.9 Q 156.6 47.5, 159.2 44.5 Q 161.8 41.5, 166.8 41.5 Q 171.7 41.5, 174.3 44.5 Q 177.0 47.5, 177.0 52.9 Q 177.0 58.3, 174.3 61.3 Q 171.6 64.4, 166.8 64.4 Q 161.9 64.4, 159.2 61.3 Q 156.6 58.3, 156.6 52.9 M 166.8 61.9 Q 170.2 61.9, 172.0 59.6 Q 173.8 57.3, 173.8 52.9 Q 173.8 48.5, 172.0 46.3 Q 170.2 44.1, 166.8 44.1 Q 163.4 44.1, 161.5 46.3 Q 159.7 48.5, 159.7 52.9 Q 159.7 57.3, 161.5 59.6 Q 163.4 61.9, 166.8 61.9 \" fill=\"#FF0000\"/>\n",
       "<path class=\"atom-5\" d=\"M 208.9 143.6 Q 208.9 138.2, 211.6 135.2 Q 214.2 132.3, 219.1 132.3 Q 224.1 132.3, 226.7 135.2 Q 229.4 138.2, 229.4 143.6 Q 229.4 149.0, 226.7 152.1 Q 224.0 155.1, 219.1 155.1 Q 214.2 155.1, 211.6 152.1 Q 208.9 149.0, 208.9 143.6 M 219.1 152.6 Q 222.5 152.6, 224.4 150.3 Q 226.2 148.0, 226.2 143.6 Q 226.2 139.2, 224.4 137.0 Q 222.5 134.8, 219.1 134.8 Q 215.7 134.8, 213.9 137.0 Q 212.1 139.2, 212.1 143.6 Q 212.1 148.1, 213.9 150.3 Q 215.7 152.6, 219.1 152.6 \" fill=\"#FF0000\"/>\n",
       "<path class=\"atom-5\" d=\"M 232.8 132.5 L 235.8 132.5 L 235.8 142.0 L 247.2 142.0 L 247.2 132.5 L 250.2 132.5 L 250.2 154.8 L 247.2 154.8 L 247.2 144.5 L 235.8 144.5 L 235.8 154.8 L 232.8 154.8 L 232.8 132.5 \" fill=\"#FF0000\"/>\n",
       "<path class=\"atom-8\" d=\"M 92.0 136.5 Q 92.0 131.2, 94.7 128.2 Q 97.3 125.2, 102.2 125.2 Q 107.2 125.2, 109.8 128.2 Q 112.4 131.2, 112.4 136.5 Q 112.4 142.0, 109.8 145.0 Q 107.1 148.1, 102.2 148.1 Q 97.3 148.1, 94.7 145.0 Q 92.0 142.0, 92.0 136.5 M 102.2 145.6 Q 105.6 145.6, 107.5 143.3 Q 109.3 141.0, 109.3 136.5 Q 109.3 132.2, 107.5 130.0 Q 105.6 127.8, 102.2 127.8 Q 98.8 127.8, 97.0 130.0 Q 95.2 132.1, 95.2 136.5 Q 95.2 141.0, 97.0 143.3 Q 98.8 145.6, 102.2 145.6 \" fill=\"#FF0000\"/>\n",
       "<path class=\"atom-9\" d=\"M 24.7 204.1 L 27.7 204.1 L 27.7 213.5 L 39.1 213.5 L 39.1 204.1 L 42.1 204.1 L 42.1 226.3 L 39.1 226.3 L 39.1 216.0 L 27.7 216.0 L 27.7 226.3 L 24.7 226.3 L 24.7 204.1 \" fill=\"#FF0000\"/>\n",
       "<path class=\"atom-9\" d=\"M 46.7 215.1 Q 46.7 209.8, 49.3 206.8 Q 51.9 203.8, 56.9 203.8 Q 61.8 203.8, 64.5 206.8 Q 67.1 209.8, 67.1 215.1 Q 67.1 220.5, 64.4 223.6 Q 61.7 226.6, 56.9 226.6 Q 52.0 226.6, 49.3 223.6 Q 46.7 220.6, 46.7 215.1 M 56.9 224.1 Q 60.3 224.1, 62.1 221.9 Q 63.9 219.6, 63.9 215.1 Q 63.9 210.7, 62.1 208.5 Q 60.3 206.3, 56.9 206.3 Q 53.5 206.3, 51.6 208.5 Q 49.8 210.7, 49.8 215.1 Q 49.8 219.6, 51.6 221.9 Q 53.5 224.1, 56.9 224.1 \" fill=\"#FF0000\"/>\n",
       "<path class=\"atom-11\" d=\"M 228.1 267.5 Q 228.1 262.1, 230.7 259.2 Q 233.4 256.2, 238.3 256.2 Q 243.2 256.2, 245.9 259.2 Q 248.5 262.1, 248.5 267.5 Q 248.5 272.9, 245.9 276.0 Q 243.2 279.0, 238.3 279.0 Q 233.4 279.0, 230.7 276.0 Q 228.1 272.9, 228.1 267.5 M 238.3 276.5 Q 241.7 276.5, 243.5 274.2 Q 245.4 272.0, 245.4 267.5 Q 245.4 263.1, 243.5 260.9 Q 241.7 258.7, 238.3 258.7 Q 234.9 258.7, 233.1 260.9 Q 231.2 263.1, 231.2 267.5 Q 231.2 272.0, 233.1 274.2 Q 234.9 276.5, 238.3 276.5 \" fill=\"#FF0000\"/>\n",
       "<path class=\"atom-12\" d=\"M 273.5 188.9 Q 273.5 183.6, 276.1 180.6 Q 278.7 177.6, 283.7 177.6 Q 288.6 177.6, 291.2 180.6 Q 293.9 183.6, 293.9 188.9 Q 293.9 194.3, 291.2 197.4 Q 288.5 200.5, 283.7 200.5 Q 278.8 200.5, 276.1 197.4 Q 273.5 194.4, 273.5 188.9 M 283.7 197.9 Q 287.1 197.9, 288.9 195.7 Q 290.7 193.4, 290.7 188.9 Q 290.7 184.6, 288.9 182.4 Q 287.1 180.1, 283.7 180.1 Q 280.3 180.1, 278.4 182.3 Q 276.6 184.5, 276.6 188.9 Q 276.6 193.4, 278.4 195.7 Q 280.3 197.9, 283.7 197.9 \" fill=\"#FF0000\"/>\n",
       "<path class=\"atom-12\" d=\"M 297.3 177.9 L 300.4 177.9 L 300.4 187.3 L 311.7 187.3 L 311.7 177.9 L 314.8 177.9 L 314.8 200.1 L 311.7 200.1 L 311.7 189.8 L 300.4 189.8 L 300.4 200.1 L 297.3 200.1 L 297.3 177.9 \" fill=\"#FF0000\"/>\n",
       "<path class=\"note\" d=\"M 133.5 30.0 Q 133.5 28.8, 134.5 28.0 Q 135.5 27.3, 137.4 27.3 L 138.6 27.3 L 138.6 27.0 Q 138.6 26.0, 138.2 25.6 Q 137.8 25.2, 136.8 25.2 Q 136.2 25.2, 135.7 25.3 Q 135.1 25.4, 134.4 25.8 L 133.9 24.7 Q 135.4 24.0, 136.8 24.0 Q 138.5 24.0, 139.3 24.7 Q 140.1 25.5, 140.1 27.1 L 140.1 32.2 L 139.0 32.2 Q 139.0 32.2, 138.9 31.9 Q 138.9 31.7, 138.8 31.3 Q 137.6 32.4, 136.1 32.4 Q 134.9 32.4, 134.2 31.8 Q 133.5 31.1, 133.5 30.0 M 134.9 30.0 Q 134.9 30.6, 135.3 30.9 Q 135.7 31.3, 136.4 31.3 Q 137.0 31.3, 137.6 31.0 Q 138.2 30.7, 138.6 30.2 L 138.6 28.4 L 137.5 28.4 Q 136.2 28.4, 135.6 28.8 Q 134.9 29.2, 134.9 30.0 \" fill=\"#000000\"/>\n",
       "<path class=\"note\" d=\"M 142.1 25.3 L 142.1 24.1 L 143.7 24.1 L 143.9 21.8 L 145.0 21.8 L 145.0 24.1 L 147.5 24.1 L 147.5 25.3 L 145.0 25.3 L 145.0 29.7 Q 145.0 31.1, 146.2 31.1 Q 146.7 31.1, 147.4 30.9 L 147.6 32.0 Q 146.8 32.3, 146.0 32.3 Q 144.9 32.3, 144.2 31.7 Q 143.6 31.1, 143.6 29.8 L 143.6 25.3 L 142.1 25.3 \" fill=\"#000000\"/>\n",
       "<path class=\"note\" d=\"M 148.9 28.2 Q 148.9 26.2, 149.8 25.1 Q 150.8 24.0, 152.7 24.0 Q 154.5 24.0, 155.5 25.1 Q 156.5 26.2, 156.5 28.2 Q 156.5 30.1, 155.5 31.3 Q 154.5 32.4, 152.7 32.4 Q 150.8 32.4, 149.8 31.3 Q 148.9 30.1, 148.9 28.2 M 150.4 28.2 Q 150.4 29.6, 151.0 30.4 Q 151.6 31.2, 152.7 31.2 Q 153.8 31.2, 154.4 30.4 Q 155.0 29.6, 155.0 28.2 Q 155.0 26.7, 154.4 25.9 Q 153.8 25.2, 152.7 25.2 Q 151.6 25.2, 151.0 25.9 Q 150.4 26.7, 150.4 28.2 \" fill=\"#000000\"/>\n",
       "<path class=\"note\" d=\"M 167.4 24.0 Q 168.8 24.0, 169.5 24.7 Q 170.2 25.5, 170.2 26.9 L 170.2 32.2 L 168.7 32.2 L 168.7 27.0 Q 168.7 26.0, 168.3 25.6 Q 167.9 25.2, 167.1 25.2 Q 166.4 25.2, 165.8 25.5 Q 165.2 25.8, 164.8 26.4 Q 164.9 26.6, 164.9 26.9 L 164.9 32.2 L 163.4 32.2 L 163.4 27.0 Q 163.4 26.0, 163.0 25.6 Q 162.6 25.2, 161.8 25.2 Q 161.1 25.2, 160.5 25.5 Q 159.9 25.8, 159.5 26.4 L 159.5 32.2 L 158.1 32.2 L 158.1 24.1 L 159.3 24.1 L 159.4 25.2 Q 160.5 24.0, 162.1 24.0 Q 164.0 24.0, 164.6 25.4 Q 165.7 24.0, 167.4 24.0 \" fill=\"#000000\"/>\n",
       "<path class=\"note\" d=\"M 182.4 25.3 L 180.2 25.3 L 179.7 28.2 L 181.8 28.2 L 181.7 29.3 L 179.5 29.3 L 179.0 32.2 L 177.8 32.2 L 178.3 29.3 L 175.6 29.3 L 175.1 32.2 L 173.9 32.2 L 174.4 29.3 L 172.2 29.3 L 172.4 28.2 L 174.6 28.2 L 175.1 25.3 L 172.9 25.3 L 173.1 24.2 L 175.3 24.2 L 175.8 21.1 L 177.0 21.1 L 176.5 24.2 L 179.1 24.2 L 179.7 21.1 L 180.9 21.1 L 180.4 24.2 L 182.6 24.2 L 182.4 25.3 M 178.5 28.2 L 178.9 25.3 L 176.3 25.3 L 175.8 28.2 L 178.5 28.2 \" fill=\"#000000\"/>\n",
       "<path class=\"note\" d=\"M 191.7 33.0 L 191.7 34.3 L 183.7 34.3 L 183.7 33.0 L 191.7 33.0 \" fill=\"#000000\"/>\n",
       "<path class=\"note\" d=\"M 192.6 23.2 Q 193.0 22.2, 194.0 21.6 Q 195.0 21.0, 196.3 21.0 Q 198.0 21.0, 198.9 21.9 Q 199.9 22.8, 199.9 24.4 Q 199.9 26.1, 198.6 27.6 Q 197.4 29.1, 194.9 31.0 L 200.1 31.0 L 200.1 32.2 L 192.6 32.2 L 192.6 31.2 Q 194.6 29.7, 195.9 28.6 Q 197.1 27.5, 197.7 26.5 Q 198.3 25.5, 198.3 24.5 Q 198.3 23.4, 197.8 22.8 Q 197.2 22.2, 196.3 22.2 Q 195.4 22.2, 194.8 22.6 Q 194.2 23.0, 193.8 23.8 L 192.6 23.2 \" fill=\"#000000\"/>\n",
       "<path class=\"note\" d=\"M 208.5 160.0 Q 208.5 158.7, 209.5 158.0 Q 210.6 157.3, 212.5 157.3 L 213.7 157.3 L 213.7 157.0 Q 213.7 156.0, 213.3 155.5 Q 212.8 155.1, 211.8 155.1 Q 211.2 155.1, 210.7 155.2 Q 210.2 155.3, 209.4 155.7 L 209.0 154.7 Q 210.4 153.9, 211.9 153.9 Q 213.6 153.9, 214.4 154.7 Q 215.2 155.4, 215.2 157.0 L 215.2 162.2 L 214.0 162.2 Q 214.0 162.1, 213.9 161.9 Q 213.9 161.6, 213.8 161.2 Q 212.7 162.4, 211.2 162.4 Q 210.0 162.4, 209.2 161.7 Q 208.5 161.1, 208.5 160.0 M 210.0 159.9 Q 210.0 160.5, 210.4 160.9 Q 210.7 161.2, 211.4 161.2 Q 212.1 161.2, 212.7 160.9 Q 213.3 160.6, 213.7 160.1 L 213.7 158.4 L 212.6 158.4 Q 211.3 158.4, 210.6 158.8 Q 210.0 159.2, 210.0 159.9 \" fill=\"#000000\"/>\n",
       "<path class=\"note\" d=\"M 217.2 155.2 L 217.2 154.1 L 218.7 154.1 L 219.0 151.7 L 220.1 151.7 L 220.1 154.1 L 222.5 154.1 L 222.5 155.2 L 220.1 155.2 L 220.1 159.7 Q 220.1 161.1, 221.3 161.1 Q 221.7 161.1, 222.4 160.9 L 222.7 161.9 Q 221.8 162.3, 221.0 162.3 Q 219.9 162.3, 219.3 161.6 Q 218.6 161.0, 218.6 159.8 L 218.6 155.2 L 217.2 155.2 \" fill=\"#000000\"/>\n",
       "<path class=\"note\" d=\"M 223.9 158.1 Q 223.9 156.1, 224.9 155.0 Q 225.9 153.9, 227.7 153.9 Q 229.6 153.9, 230.6 155.0 Q 231.6 156.1, 231.6 158.1 Q 231.6 160.1, 230.6 161.2 Q 229.6 162.3, 227.7 162.3 Q 225.9 162.3, 224.9 161.2 Q 223.9 160.1, 223.9 158.1 M 225.4 158.1 Q 225.4 159.6, 226.0 160.4 Q 226.6 161.1, 227.7 161.1 Q 228.8 161.1, 229.4 160.4 Q 230.1 159.6, 230.1 158.1 Q 230.1 156.6, 229.4 155.9 Q 228.8 155.1, 227.7 155.1 Q 226.6 155.1, 226.0 155.9 Q 225.4 156.6, 225.4 158.1 \" fill=\"#000000\"/>\n",
       "<path class=\"note\" d=\"M 242.4 153.9 Q 243.8 153.9, 244.5 154.7 Q 245.2 155.4, 245.2 156.8 L 245.2 162.2 L 243.7 162.2 L 243.7 156.9 Q 243.7 156.0, 243.3 155.5 Q 243.0 155.1, 242.2 155.1 Q 241.5 155.1, 240.8 155.5 Q 240.2 155.8, 239.9 156.4 Q 239.9 156.5, 239.9 156.8 L 239.9 162.2 L 238.4 162.2 L 238.4 156.9 Q 238.4 156.0, 238.0 155.5 Q 237.7 155.1, 236.9 155.1 Q 236.2 155.1, 235.6 155.5 Q 235.0 155.8, 234.6 156.4 L 234.6 162.2 L 233.1 162.2 L 233.1 154.1 L 234.3 154.1 L 234.5 155.2 Q 235.5 153.9, 237.1 153.9 Q 239.0 153.9, 239.6 155.4 Q 240.7 153.9, 242.4 153.9 \" fill=\"#000000\"/>\n",
       "<path class=\"note\" d=\"M 257.4 155.2 L 255.2 155.2 L 254.8 158.1 L 256.9 158.1 L 256.7 159.2 L 254.6 159.2 L 254.1 162.2 L 252.8 162.2 L 253.3 159.2 L 250.7 159.2 L 250.2 162.2 L 248.9 162.2 L 249.4 159.2 L 247.2 159.2 L 247.4 158.1 L 249.6 158.1 L 250.1 155.2 L 247.9 155.2 L 248.1 154.1 L 250.3 154.1 L 250.8 151.0 L 252.1 151.0 L 251.5 154.1 L 254.2 154.1 L 254.7 151.0 L 255.9 151.0 L 255.4 154.1 L 257.6 154.1 L 257.4 155.2 M 253.5 158.1 L 254.0 155.2 L 251.3 155.2 L 250.9 158.1 L 253.5 158.1 \" fill=\"#000000\"/>\n",
       "<path class=\"note\" d=\"M 266.8 162.9 L 266.8 164.2 L 258.8 164.2 L 258.8 162.9 L 266.8 162.9 \" fill=\"#000000\"/>\n",
       "<path class=\"note\" d=\"M 271.6 155.2 Q 272.6 155.2, 273.4 155.6 Q 274.2 156.0, 274.7 156.8 Q 275.1 157.6, 275.1 158.6 Q 275.1 159.8, 274.6 160.6 Q 274.0 161.4, 273.1 161.9 Q 272.2 162.3, 271.2 162.3 Q 270.1 162.3, 269.2 161.9 Q 268.3 161.5, 267.6 160.8 L 268.6 159.8 Q 269.1 160.4, 269.8 160.7 Q 270.5 161.0, 271.2 161.0 Q 272.2 161.0, 272.9 160.4 Q 273.6 159.8, 273.6 158.7 Q 273.6 157.5, 272.9 156.9 Q 272.2 156.4, 271.1 156.4 Q 270.1 156.4, 269.1 156.8 L 268.2 156.4 L 268.7 151.0 L 274.4 151.0 L 274.3 152.3 L 270.0 152.3 L 269.7 155.6 Q 270.7 155.2, 271.6 155.2 \" fill=\"#000000\"/>\n",
       "<path class=\"note\" d=\"M 36.6 241.2 Q 36.6 239.9, 37.6 239.2 Q 38.6 238.5, 40.5 238.5 L 41.7 238.5 L 41.7 238.2 Q 41.7 237.2, 41.3 236.7 Q 40.9 236.3, 39.9 236.3 Q 39.2 236.3, 38.7 236.4 Q 38.2 236.5, 37.5 236.9 L 37.0 235.9 Q 38.5 235.1, 39.9 235.1 Q 41.6 235.1, 42.4 235.9 Q 43.2 236.6, 43.2 238.2 L 43.2 243.4 L 42.1 243.4 Q 42.0 243.3, 42.0 243.1 Q 41.9 242.8, 41.9 242.4 Q 40.7 243.5, 39.2 243.5 Q 38.0 243.5, 37.3 242.9 Q 36.6 242.3, 36.6 241.2 M 38.0 241.1 Q 38.0 241.7, 38.4 242.1 Q 38.8 242.4, 39.5 242.4 Q 40.1 242.4, 40.7 242.1 Q 41.3 241.8, 41.7 241.3 L 41.7 239.6 L 40.6 239.6 Q 39.3 239.6, 38.7 240.0 Q 38.0 240.4, 38.0 241.1 \" fill=\"#000000\"/>\n",
       "<path class=\"note\" d=\"M 45.2 236.4 L 45.2 235.3 L 46.8 235.3 L 47.0 232.9 L 48.1 232.9 L 48.1 235.3 L 50.6 235.3 L 50.6 236.4 L 48.1 236.4 L 48.1 240.9 Q 48.1 242.3, 49.3 242.3 Q 49.8 242.3, 50.5 242.1 L 50.7 243.1 Q 49.9 243.5, 49.0 243.5 Q 48.0 243.5, 47.3 242.8 Q 46.7 242.2, 46.7 241.0 L 46.7 236.4 L 45.2 236.4 \" fill=\"#000000\"/>\n",
       "<path class=\"note\" d=\"M 51.9 239.3 Q 51.9 237.3, 52.9 236.2 Q 53.9 235.1, 55.8 235.1 Q 57.6 235.1, 58.6 236.2 Q 59.6 237.3, 59.6 239.3 Q 59.6 241.3, 58.6 242.4 Q 57.6 243.5, 55.8 243.5 Q 53.9 243.5, 52.9 242.4 Q 51.9 241.3, 51.9 239.3 M 53.5 239.3 Q 53.5 240.8, 54.1 241.6 Q 54.7 242.3, 55.8 242.3 Q 56.9 242.3, 57.5 241.6 Q 58.1 240.8, 58.1 239.3 Q 58.1 237.8, 57.5 237.1 Q 56.9 236.3, 55.8 236.3 Q 54.7 236.3, 54.1 237.1 Q 53.5 237.8, 53.5 239.3 \" fill=\"#000000\"/>\n",
       "<path class=\"note\" d=\"M 70.5 235.1 Q 71.9 235.1, 72.6 235.9 Q 73.2 236.6, 73.2 238.0 L 73.2 243.4 L 71.8 243.4 L 71.8 238.1 Q 71.8 237.2, 71.4 236.7 Q 71.0 236.3, 70.2 236.3 Q 69.5 236.3, 68.9 236.6 Q 68.3 237.0, 67.9 237.6 Q 68.0 237.7, 68.0 238.0 L 68.0 243.4 L 66.5 243.4 L 66.5 238.1 Q 66.5 237.2, 66.1 236.7 Q 65.7 236.3, 64.9 236.3 Q 64.2 236.3, 63.6 236.6 Q 63.0 237.0, 62.6 237.6 L 62.6 243.4 L 61.2 243.4 L 61.2 235.3 L 62.4 235.3 L 62.5 236.4 Q 63.6 235.1, 65.2 235.1 Q 67.1 235.1, 67.7 236.6 Q 68.8 235.1, 70.5 235.1 \" fill=\"#000000\"/>\n",
       "<path class=\"note\" d=\"M 85.5 236.4 L 83.3 236.4 L 82.8 239.3 L 84.9 239.3 L 84.8 240.4 L 82.6 240.4 L 82.1 243.4 L 80.9 243.4 L 81.4 240.4 L 78.7 240.4 L 78.2 243.4 L 77.0 243.4 L 77.5 240.4 L 75.3 240.4 L 75.5 239.3 L 77.7 239.3 L 78.2 236.4 L 76.0 236.4 L 76.2 235.3 L 78.4 235.3 L 78.9 232.2 L 80.1 232.2 L 79.6 235.3 L 82.2 235.3 L 82.8 232.2 L 84.0 232.2 L 83.5 235.3 L 85.7 235.3 L 85.5 236.4 M 81.6 239.3 L 82.0 236.4 L 79.4 236.4 L 78.9 239.3 L 81.6 239.3 \" fill=\"#000000\"/>\n",
       "<path class=\"note\" d=\"M 94.8 244.1 L 94.8 245.4 L 86.8 245.4 L 86.8 244.1 L 94.8 244.1 \" fill=\"#000000\"/>\n",
       "<path class=\"note\" d=\"M 99.4 232.1 Q 101.4 232.1, 102.4 233.5 Q 103.4 234.8, 103.4 237.5 Q 103.4 240.4, 102.1 242.0 Q 100.9 243.5, 98.5 243.5 Q 97.9 243.5, 97.3 243.3 Q 96.7 243.2, 96.1 242.8 L 96.7 241.8 Q 97.5 242.2, 98.5 242.2 Q 100.1 242.2, 100.9 241.2 Q 101.7 240.2, 101.8 238.1 Q 101.2 238.6, 100.5 238.9 Q 99.8 239.2, 99.0 239.2 Q 98.1 239.2, 97.3 238.8 Q 96.5 238.3, 96.1 237.6 Q 95.7 236.8, 95.7 235.8 Q 95.7 234.7, 96.1 233.9 Q 96.6 233.0, 97.5 232.6 Q 98.3 232.1, 99.4 232.1 M 97.2 235.8 Q 97.2 236.8, 97.8 237.4 Q 98.3 237.9, 99.3 237.9 Q 100.0 237.9, 100.7 237.7 Q 101.3 237.4, 101.8 236.9 Q 101.7 235.1, 101.2 234.2 Q 100.6 233.4, 99.4 233.4 Q 98.8 233.4, 98.3 233.7 Q 97.8 234.0, 97.5 234.6 Q 97.2 235.1, 97.2 235.8 \" fill=\"#000000\"/>\n",
       "<path class=\"note\" d=\"M 259.4 215.0 Q 259.4 213.7, 260.5 213.0 Q 261.5 212.3, 263.4 212.3 L 264.6 212.3 L 264.6 212.0 Q 264.6 211.0, 264.2 210.5 Q 263.8 210.1, 262.8 210.1 Q 262.1 210.1, 261.6 210.2 Q 261.1 210.3, 260.3 210.7 L 259.9 209.7 Q 261.4 209.0, 262.8 209.0 Q 264.5 209.0, 265.3 209.7 Q 266.1 210.4, 266.1 212.0 L 266.1 217.2 L 264.9 217.2 Q 264.9 217.1, 264.9 216.9 Q 264.8 216.6, 264.7 216.2 Q 263.6 217.4, 262.1 217.4 Q 260.9 217.4, 260.2 216.7 Q 259.4 216.1, 259.4 215.0 M 260.9 215.0 Q 260.9 215.6, 261.3 215.9 Q 261.7 216.2, 262.4 216.2 Q 263.0 216.2, 263.6 215.9 Q 264.2 215.6, 264.6 215.1 L 264.6 213.4 L 263.5 213.4 Q 262.2 213.4, 261.6 213.8 Q 260.9 214.2, 260.9 215.0 \" fill=\"#000000\"/>\n",
       "<path class=\"note\" d=\"M 268.1 210.2 L 268.1 209.1 L 269.6 209.1 L 269.9 206.7 L 271.0 206.7 L 271.0 209.1 L 273.5 209.1 L 273.5 210.2 L 271.0 210.2 L 271.0 214.7 Q 271.0 216.1, 272.2 216.1 Q 272.6 216.1, 273.3 215.9 L 273.6 216.9 Q 272.7 217.3, 271.9 217.3 Q 270.8 217.3, 270.2 216.6 Q 269.5 216.0, 269.5 214.8 L 269.5 210.2 L 268.1 210.2 \" fill=\"#000000\"/>\n",
       "<path class=\"note\" d=\"M 274.8 213.1 Q 274.8 211.2, 275.8 210.1 Q 276.8 209.0, 278.6 209.0 Q 280.5 209.0, 281.4 210.1 Q 282.5 211.2, 282.5 213.1 Q 282.5 215.1, 281.4 216.2 Q 280.5 217.3, 278.6 217.3 Q 276.8 217.3, 275.8 216.2 Q 274.8 215.1, 274.8 213.1 M 276.3 213.1 Q 276.3 214.6, 276.9 215.4 Q 277.5 216.1, 278.6 216.1 Q 279.7 216.1, 280.3 215.4 Q 280.9 214.6, 280.9 213.1 Q 280.9 211.6, 280.3 210.9 Q 279.7 210.1, 278.6 210.1 Q 277.5 210.1, 276.9 210.9 Q 276.3 211.6, 276.3 213.1 \" fill=\"#000000\"/>\n",
       "<path class=\"note\" d=\"M 293.3 209.0 Q 294.7 209.0, 295.4 209.7 Q 296.1 210.4, 296.1 211.8 L 296.1 217.2 L 294.6 217.2 L 294.6 211.9 Q 294.6 211.0, 294.2 210.6 Q 293.8 210.1, 293.0 210.1 Q 292.3 210.1, 291.7 210.5 Q 291.1 210.8, 290.8 211.4 Q 290.8 211.5, 290.8 211.8 L 290.8 217.2 L 289.3 217.2 L 289.3 211.9 Q 289.3 211.0, 288.9 210.6 Q 288.6 210.1, 287.7 210.1 Q 287.0 210.1, 286.4 210.5 Q 285.8 210.8, 285.5 211.4 L 285.5 217.2 L 284.0 217.2 L 284.0 209.1 L 285.2 209.1 L 285.3 210.2 Q 286.4 209.0, 288.0 209.0 Q 289.9 209.0, 290.5 210.4 Q 291.6 209.0, 293.3 209.0 \" fill=\"#000000\"/>\n",
       "<path class=\"note\" d=\"M 308.3 210.3 L 306.1 210.3 L 305.6 213.1 L 307.7 213.1 L 307.6 214.2 L 305.4 214.2 L 304.9 217.2 L 303.7 217.2 L 304.2 214.2 L 301.5 214.2 L 301.0 217.2 L 299.8 217.2 L 300.3 214.2 L 298.1 214.2 L 298.3 213.1 L 300.5 213.1 L 301.0 210.3 L 298.8 210.3 L 299.0 209.1 L 301.2 209.1 L 301.7 206.0 L 302.9 206.0 L 302.4 209.1 L 305.0 209.1 L 305.6 206.0 L 306.8 206.0 L 306.3 209.1 L 308.4 209.1 L 308.3 210.3 M 304.3 213.1 L 304.8 210.3 L 302.2 210.3 L 301.7 213.1 L 304.3 213.1 \" fill=\"#000000\"/>\n",
       "<path class=\"note\" d=\"M 317.6 218.0 L 317.6 219.2 L 309.6 219.2 L 309.6 218.0 L 317.6 218.0 \" fill=\"#000000\"/>\n",
       "<path class=\"note\" d=\"M 319.0 215.9 L 321.5 215.9 L 321.5 207.6 L 318.8 208.4 L 318.4 207.5 L 321.8 206.0 L 322.9 206.2 L 322.9 215.9 L 325.1 215.9 L 325.1 217.2 L 319.0 217.2 L 319.0 215.9 \" fill=\"#000000\"/>\n",
       "<path class=\"note\" d=\"M 326.6 208.1 Q 327.0 207.1, 328.0 206.5 Q 329.0 205.9, 330.3 205.9 Q 332.0 205.9, 333.0 206.8 Q 333.9 207.7, 333.9 209.4 Q 333.9 211.0, 332.7 212.5 Q 331.5 214.1, 329.0 215.9 L 334.1 215.9 L 334.1 217.2 L 326.6 217.2 L 326.6 216.1 Q 328.7 214.6, 329.9 213.5 Q 331.1 212.4, 331.7 211.4 Q 332.3 210.5, 332.3 209.4 Q 332.3 208.4, 331.8 207.8 Q 331.3 207.2, 330.3 207.2 Q 329.4 207.2, 328.8 207.5 Q 328.2 207.9, 327.8 208.7 L 326.6 208.1 \" fill=\"#000000\"/>\n",
       "</svg>"
      ],
      "text/plain": [
       "<IPython.core.display.SVG object>"
      ]
     },
     "execution_count": 23,
     "metadata": {},
     "output_type": "execute_result"
    }
   ],
   "source": [
    "pic=DrawDiagram(molg_smi,molg_idx)\n",
    "SVG(pic.GetDrawingText())"
   ]
  },
  {
   "cell_type": "markdown",
   "id": "576d6547-f35f-4d62-84b0-f6edad8ea4fd",
   "metadata": {},
   "source": [
    "### Example 3"
   ]
  },
  {
   "cell_type": "code",
   "execution_count": 24,
   "id": "b9e13688-fcde-40ee-9e5c-6755ee2dcc05",
   "metadata": {},
   "outputs": [],
   "source": [
    "parent_3='CC(O)=O'\n",
    "molg=RunMolGpKa(parent_3)\n",
    "solver=RunPkasolver(parent_3)"
   ]
  },
  {
   "cell_type": "code",
   "execution_count": 25,
   "id": "4ece41a3-530d-4b09-a930-ddf5fefd17d2",
   "metadata": {},
   "outputs": [
    {
     "name": "stderr",
     "output_type": "stream",
     "text": [
      "[query.py:297 - calculate_microstate_pka_values()] Using dimorphite-dl to identify protonation sites.\n"
     ]
    },
    {
     "name": "stdout",
     "output_type": "stream",
     "text": [
      "Proposed mol at pH 7.4: CC(=O)[O-]\n",
      "CC(=O)O\n"
     ]
    }
   ],
   "source": [
    "## Make dictionaries for pka and atom indices for each calculator\n",
    "#extract values from pkasolver output\n",
    "for n,p,ds,ps,i in solver:\n",
    "    solver_pka=p\n",
    "    solver_idx=i\n",
    "solver_dict=dict(zip(solver_pka,solver_idx)) #make dictionary with atom index and pkas\n",
    "\n",
    "#extract values from molgpka output\n",
    "for s,p,i,smiles in molg:\n",
    "    molg_pka=p\n",
    "    molg_smi=smiles\n",
    "    molg_idx=i\n",
    "molg_dict=dict(zip(molg_pka,molg_idx))#make dictionary with atom index and pkas\n",
    "print(molg_smi) #uses as input for chem axon"
   ]
  },
  {
   "cell_type": "code",
   "execution_count": 26,
   "id": "9545ed0e-12d1-46cb-854a-923941a0b391",
   "metadata": {},
   "outputs": [
    {
     "data": {
      "text/html": [
       "<div>\n",
       "<style scoped>\n",
       "    .dataframe tbody tr th:only-of-type {\n",
       "        vertical-align: middle;\n",
       "    }\n",
       "\n",
       "    .dataframe tbody tr th {\n",
       "        vertical-align: top;\n",
       "    }\n",
       "\n",
       "    .dataframe thead th {\n",
       "        text-align: right;\n",
       "    }\n",
       "</style>\n",
       "<table border=\"1\" class=\"dataframe\">\n",
       "  <thead>\n",
       "    <tr style=\"text-align: right;\">\n",
       "      <th></th>\n",
       "      <th>Calculator</th>\n",
       "      <th>atom#_3</th>\n",
       "    </tr>\n",
       "  </thead>\n",
       "  <tbody>\n",
       "    <tr>\n",
       "      <th>0</th>\n",
       "      <td>pKaSolver</td>\n",
       "      <td>4.19</td>\n",
       "    </tr>\n",
       "    <tr>\n",
       "      <th>1</th>\n",
       "      <td>MolGpKa</td>\n",
       "      <td>8.34</td>\n",
       "    </tr>\n",
       "    <tr>\n",
       "      <th>2</th>\n",
       "      <td>Chem Axon</td>\n",
       "      <td>4.54</td>\n",
       "    </tr>\n",
       "  </tbody>\n",
       "</table>\n",
       "</div>"
      ],
      "text/plain": [
       "  Calculator atom#_3\n",
       "0  pKaSolver    4.19\n",
       "1    MolGpKa    8.34\n",
       "2  Chem Axon    4.54"
      ]
     },
     "execution_count": 26,
     "metadata": {},
     "output_type": "execute_result"
    }
   ],
   "source": [
    "#format chem axon output \n",
    "ca_dict=GetChemAxon('E3_output.txt')\n",
    "\n",
    "#chem Axon dataframe\n",
    "ca_df=DictToDF(ca_dict)\n",
    "\n",
    "#pkasolver dataframe\n",
    "solver_df=DictToDF(solver_dict)\n",
    "\n",
    "#MolGpKa -- addional formatting because MolGpKa does not round pka values\n",
    "molg_df=DictToDF(molg_dict)\n",
    "RoundMolg(molg_df)\n",
    "\n",
    "#combine all dataframes\n",
    "all=pd.concat([solver_df,molg_df,ca_df],ignore_index=True)\n",
    "all.insert(0,'Calculator',['pKaSolver','MolGpKa','Chem Axon'])\n",
    "all"
   ]
  },
  {
   "cell_type": "code",
   "execution_count": 27,
   "id": "d7a5f761-0450-4873-9a9f-2e271e589a00",
   "metadata": {},
   "outputs": [
    {
     "data": {
      "image/svg+xml": [
       "<svg xmlns=\"http://www.w3.org/2000/svg\" xmlns:rdkit=\"http://www.rdkit.org/xml\" xmlns:xlink=\"http://www.w3.org/1999/xlink\" version=\"1.1\" baseProfile=\"full\" xml:space=\"preserve\" width=\"350px\" height=\"300px\" viewBox=\"0 0 350 300\">\n",
       "<!-- END OF HEADER -->\n",
       "<rect style=\"opacity:1.0;fill:#FFFFFF;stroke:none\" width=\"350.0\" height=\"300.0\" x=\"0.0\" y=\"0.0\"> </rect>\n",
       "<ellipse cx=\"255.1\" cy=\"215.9\" rx=\"37.2\" ry=\"35.6\" class=\"atom-3\" style=\"fill:#CCCCCC;fill-rule:evenodd;stroke:#CCCCCC;stroke-width:1.0px;stroke-linecap:butt;stroke-linejoin:miter;stroke-opacity:1\"/>\n",
       "<path class=\"bond-0 atom-0 atom-1\" d=\"M 36.3,214.9 L 139.3,156.0\" style=\"fill:none;fill-rule:evenodd;stroke:#000000;stroke-width:2.0px;stroke-linecap:butt;stroke-linejoin:miter;stroke-opacity:1\"/>\n",
       "<path class=\"bond-1 atom-1 atom-2\" d=\"M 148.2,161.2 L 148.4,108.6\" style=\"fill:none;fill-rule:evenodd;stroke:#000000;stroke-width:2.0px;stroke-linecap:butt;stroke-linejoin:miter;stroke-opacity:1\"/>\n",
       "<path class=\"bond-1 atom-1 atom-2\" d=\"M 148.4,108.6 L 148.5,56.1\" style=\"fill:none;fill-rule:evenodd;stroke:#FF0000;stroke-width:2.0px;stroke-linecap:butt;stroke-linejoin:miter;stroke-opacity:1\"/>\n",
       "<path class=\"bond-1 atom-1 atom-2\" d=\"M 130.4,161.1 L 130.6,108.6\" style=\"fill:none;fill-rule:evenodd;stroke:#000000;stroke-width:2.0px;stroke-linecap:butt;stroke-linejoin:miter;stroke-opacity:1\"/>\n",
       "<path class=\"bond-1 atom-1 atom-2\" d=\"M 130.6,108.6 L 130.8,56.0\" style=\"fill:none;fill-rule:evenodd;stroke:#FF0000;stroke-width:2.0px;stroke-linecap:butt;stroke-linejoin:miter;stroke-opacity:1\"/>\n",
       "<path class=\"bond-2 atom-1 atom-3\" d=\"M 139.3,156.0 L 182.1,180.9\" style=\"fill:none;fill-rule:evenodd;stroke:#000000;stroke-width:2.0px;stroke-linecap:butt;stroke-linejoin:miter;stroke-opacity:1\"/>\n",
       "<path class=\"bond-2 atom-1 atom-3\" d=\"M 182.1,180.9 L 224.9,205.8\" style=\"fill:none;fill-rule:evenodd;stroke:#FF0000;stroke-width:2.0px;stroke-linecap:butt;stroke-linejoin:miter;stroke-opacity:1\"/>\n",
       "<path d=\"M 134.1,159.0 L 139.3,156.0 L 141.4,157.2\" style=\"fill:none;stroke:#000000;stroke-width:2.0px;stroke-linecap:butt;stroke-linejoin:miter;stroke-opacity:1;\"/>\n",
       "<path class=\"atom-2\" d=\"M 126.7 37.4 Q 126.7 30.6, 130.1 26.8 Q 133.4 23.0, 139.7 23.0 Q 146.0 23.0, 149.4 26.8 Q 152.7 30.6, 152.7 37.4 Q 152.7 44.3, 149.3 48.2 Q 145.9 52.1, 139.7 52.1 Q 133.5 52.1, 130.1 48.2 Q 126.7 44.4, 126.7 37.4 M 139.7 48.9 Q 144.0 48.9, 146.4 46.0 Q 148.7 43.1, 148.7 37.4 Q 148.7 31.9, 146.4 29.1 Q 144.0 26.2, 139.7 26.2 Q 135.4 26.2, 133.0 29.0 Q 130.7 31.8, 130.7 37.4 Q 130.7 43.2, 133.0 46.0 Q 135.4 48.9, 139.7 48.9 \" fill=\"#FF0000\"/>\n",
       "<path class=\"atom-3\" d=\"M 228.8 215.8 Q 228.8 209.0, 232.2 205.2 Q 235.5 201.4, 241.8 201.4 Q 248.1 201.4, 251.5 205.2 Q 254.8 209.0, 254.8 215.8 Q 254.8 222.6, 251.4 226.6 Q 248.0 230.4, 241.8 230.4 Q 235.6 230.4, 232.2 226.6 Q 228.8 222.7, 228.8 215.8 M 241.8 227.2 Q 246.1 227.2, 248.5 224.4 Q 250.8 221.4, 250.8 215.8 Q 250.8 210.2, 248.5 207.4 Q 246.1 204.6, 241.8 204.6 Q 237.5 204.6, 235.1 207.4 Q 232.8 210.2, 232.8 215.8 Q 232.8 221.5, 235.1 224.4 Q 237.5 227.2, 241.8 227.2 \" fill=\"#FF0000\"/>\n",
       "<path class=\"atom-3\" d=\"M 259.2 201.7 L 263.1 201.7 L 263.1 213.7 L 277.5 213.7 L 277.5 201.7 L 281.4 201.7 L 281.4 230.0 L 277.5 230.0 L 277.5 216.9 L 263.1 216.9 L 263.1 230.0 L 259.2 230.0 L 259.2 201.7 \" fill=\"#FF0000\"/>\n",
       "<path class=\"note\" d=\"M 228.9 271.5 Q 228.9 269.9, 230.3 269.0 Q 231.6 268.1, 234.0 268.1 L 235.5 268.1 L 235.5 267.7 Q 235.5 266.4, 235.0 265.9 Q 234.5 265.3, 233.2 265.3 Q 232.4 265.3, 231.7 265.5 Q 231.1 265.6, 230.1 266.1 L 229.5 264.8 Q 231.4 263.9, 233.2 263.9 Q 235.4 263.9, 236.4 264.8 Q 237.4 265.7, 237.4 267.7 L 237.4 274.3 L 235.9 274.3 Q 235.9 274.2, 235.9 273.9 Q 235.8 273.6, 235.7 273.1 Q 234.2 274.6, 232.3 274.6 Q 230.8 274.6, 229.9 273.7 Q 228.9 272.9, 228.9 271.5 M 230.8 271.5 Q 230.8 272.3, 231.3 272.7 Q 231.8 273.1, 232.7 273.1 Q 233.5 273.1, 234.2 272.7 Q 235.0 272.3, 235.5 271.7 L 235.5 269.5 L 234.1 269.5 Q 232.5 269.5, 231.6 270.0 Q 230.8 270.5, 230.8 271.5 \" fill=\"#000000\"/>\n",
       "<path class=\"note\" d=\"M 240.0 265.5 L 240.0 264.0 L 241.9 264.0 L 242.3 261.0 L 243.7 261.0 L 243.7 264.0 L 246.8 264.0 L 246.8 265.5 L 243.7 265.5 L 243.7 271.2 Q 243.7 272.9, 245.2 272.9 Q 245.8 272.9, 246.6 272.7 L 247.0 274.0 Q 245.9 274.4, 244.8 274.4 Q 243.5 274.4, 242.6 273.6 Q 241.8 272.8, 241.8 271.3 L 241.8 265.5 L 240.0 265.5 \" fill=\"#000000\"/>\n",
       "<path class=\"note\" d=\"M 248.5 269.2 Q 248.5 266.7, 249.8 265.3 Q 251.1 263.9, 253.4 263.9 Q 255.7 263.9, 257.0 265.3 Q 258.3 266.7, 258.3 269.2 Q 258.3 271.7, 257.0 273.1 Q 255.7 274.5, 253.4 274.5 Q 251.1 274.5, 249.8 273.1 Q 248.5 271.7, 248.5 269.2 M 250.4 269.2 Q 250.4 271.0, 251.2 272.0 Q 252.0 273.0, 253.4 273.0 Q 254.8 273.0, 255.6 272.0 Q 256.4 271.0, 256.4 269.2 Q 256.4 267.3, 255.6 266.3 Q 254.8 265.3, 253.4 265.3 Q 252.0 265.3, 251.2 266.3 Q 250.4 267.3, 250.4 269.2 \" fill=\"#000000\"/>\n",
       "<path class=\"note\" d=\"M 272.1 263.9 Q 273.9 263.9, 274.7 264.8 Q 275.6 265.7, 275.6 267.5 L 275.6 274.3 L 273.7 274.3 L 273.7 267.7 Q 273.7 266.4, 273.3 265.9 Q 272.8 265.3, 271.8 265.3 Q 270.9 265.3, 270.1 265.8 Q 269.3 266.2, 268.9 267.0 Q 268.9 267.1, 268.9 267.5 L 268.9 274.3 L 267.0 274.3 L 267.0 267.7 Q 267.0 266.4, 266.5 265.9 Q 266.1 265.3, 265.0 265.3 Q 264.1 265.3, 263.4 265.8 Q 262.6 266.2, 262.1 266.9 L 262.1 274.3 L 260.2 274.3 L 260.2 264.0 L 261.8 264.0 L 262.0 265.4 Q 263.3 263.9, 265.4 263.9 Q 267.8 263.9, 268.6 265.7 Q 269.9 263.9, 272.1 263.9 \" fill=\"#000000\"/>\n",
       "<path class=\"note\" d=\"M 291.2 265.5 L 288.4 265.5 L 287.8 269.1 L 290.5 269.1 L 290.3 270.6 L 287.6 270.6 L 286.9 274.3 L 285.3 274.3 L 286.0 270.6 L 282.6 270.6 L 282.0 274.3 L 280.4 274.3 L 281.0 270.6 L 278.2 270.6 L 278.4 269.1 L 281.3 269.1 L 281.9 265.5 L 279.1 265.5 L 279.3 264.1 L 282.1 264.1 L 282.8 260.2 L 284.4 260.2 L 283.7 264.1 L 287.1 264.1 L 287.7 260.2 L 289.3 260.2 L 288.7 264.1 L 291.4 264.1 L 291.2 265.5 M 286.2 269.1 L 286.8 265.5 L 283.5 265.5 L 282.8 269.1 L 286.2 269.1 \" fill=\"#000000\"/>\n",
       "<path class=\"note\" d=\"M 303.1 275.3 L 303.1 277.0 L 292.9 277.0 L 292.9 275.3 L 303.1 275.3 \" fill=\"#000000\"/>\n",
       "<path class=\"note\" d=\"M 311.0 266.9 Q 312.3 267.3, 313.0 268.2 Q 313.7 269.0, 313.7 270.4 Q 313.7 271.6, 313.1 272.6 Q 312.5 273.5, 311.4 274.0 Q 310.3 274.5, 308.8 274.5 Q 307.3 274.5, 306.2 274.0 Q 305.1 273.5, 304.2 272.4 L 305.3 271.2 Q 306.2 272.2, 306.9 272.6 Q 307.7 272.9, 308.8 272.9 Q 310.1 272.9, 310.9 272.2 Q 311.7 271.5, 311.7 270.4 Q 311.7 269.0, 310.9 268.3 Q 310.1 267.7, 308.3 267.7 L 307.3 267.7 L 307.3 266.2 L 308.2 266.2 Q 309.7 266.2, 310.6 265.6 Q 311.4 264.9, 311.4 263.6 Q 311.4 262.7, 310.7 262.2 Q 310.0 261.6, 308.9 261.6 Q 307.7 261.6, 306.9 262.0 Q 306.2 262.4, 305.7 263.5 L 304.3 262.8 Q 304.8 261.6, 306.0 260.8 Q 307.2 260.0, 308.9 260.0 Q 310.9 260.0, 312.2 261.0 Q 313.4 262.0, 313.4 263.6 Q 313.4 264.8, 312.8 265.6 Q 312.1 266.4, 311.0 266.9 \" fill=\"#000000\"/>\n",
       "</svg>"
      ],
      "text/plain": [
       "<IPython.core.display.SVG object>"
      ]
     },
     "execution_count": 27,
     "metadata": {},
     "output_type": "execute_result"
    }
   ],
   "source": [
    "pic=DrawDiagram(molg_smi,molg_idx)\n",
    "SVG(pic.GetDrawingText())"
   ]
  },
  {
   "cell_type": "markdown",
   "id": "0bdb90f8-df90-4e4e-96e9-91e2aacdbb4a",
   "metadata": {},
   "source": [
    "### Example 4"
   ]
  },
  {
   "cell_type": "code",
   "execution_count": 28,
   "id": "567b3a35-4e23-4d6d-a407-5221559c6f80",
   "metadata": {},
   "outputs": [],
   "source": [
    "parent_4='C(O)1=CC=C(N)C=C1'\n",
    "molg=RunMolGpKa(parent_4)\n",
    "solver=RunPkasolver(parent_4)"
   ]
  },
  {
   "cell_type": "code",
   "execution_count": 29,
   "id": "ed6bbedb-b633-42c1-8029-cc1b1dba1402",
   "metadata": {},
   "outputs": [
    {
     "name": "stderr",
     "output_type": "stream",
     "text": [
      "[query.py:297 - calculate_microstate_pka_values()] Using dimorphite-dl to identify protonation sites.\n"
     ]
    },
    {
     "name": "stdout",
     "output_type": "stream",
     "text": [
      "Proposed mol at pH 7.4: Nc1ccc(O)cc1\n",
      "Nc1ccc(O)cc1\n"
     ]
    }
   ],
   "source": [
    "## Make dictionaries for pka and atom indices for each calculator\n",
    "#extract values from pkasolver output\n",
    "for n,p,ds,ps,i in solver:\n",
    "    solver_pka=p\n",
    "    solver_idx=i\n",
    "solver_dict=dict(zip(solver_pka,solver_idx)) #make dictionary with atom index and pkas\n",
    "\n",
    "#extract values from molgpka output\n",
    "for s,p,i,smiles in molg:\n",
    "    molg_pka=p\n",
    "    molg_smi=smiles\n",
    "    molg_idx=i\n",
    "molg_dict=dict(zip(molg_pka,molg_idx))#make dictionary with atom index and pkas\n",
    "print(molg_smi) #uses as input for chem axon"
   ]
  },
  {
   "cell_type": "code",
   "execution_count": 30,
   "id": "880eb54e-c8c5-4412-8943-3a92c0dae099",
   "metadata": {},
   "outputs": [
    {
     "data": {
      "text/html": [
       "<div>\n",
       "<style scoped>\n",
       "    .dataframe tbody tr th:only-of-type {\n",
       "        vertical-align: middle;\n",
       "    }\n",
       "\n",
       "    .dataframe tbody tr th {\n",
       "        vertical-align: top;\n",
       "    }\n",
       "\n",
       "    .dataframe thead th {\n",
       "        text-align: right;\n",
       "    }\n",
       "</style>\n",
       "<table border=\"1\" class=\"dataframe\">\n",
       "  <thead>\n",
       "    <tr style=\"text-align: right;\">\n",
       "      <th></th>\n",
       "      <th>Calculator</th>\n",
       "      <th>atom#_0</th>\n",
       "      <th>atom#_5</th>\n",
       "    </tr>\n",
       "  </thead>\n",
       "  <tbody>\n",
       "    <tr>\n",
       "      <th>0</th>\n",
       "      <td>pKaSolver</td>\n",
       "      <td>6.61, 10.43</td>\n",
       "      <td>10.94</td>\n",
       "    </tr>\n",
       "    <tr>\n",
       "      <th>1</th>\n",
       "      <td>MolGpKa</td>\n",
       "      <td>5.07, 14.12</td>\n",
       "      <td>12.19</td>\n",
       "    </tr>\n",
       "    <tr>\n",
       "      <th>2</th>\n",
       "      <td>Chem Axon</td>\n",
       "      <td>5.43</td>\n",
       "      <td>10.4</td>\n",
       "    </tr>\n",
       "  </tbody>\n",
       "</table>\n",
       "</div>"
      ],
      "text/plain": [
       "  Calculator      atom#_0 atom#_5\n",
       "0  pKaSolver  6.61, 10.43   10.94\n",
       "1    MolGpKa  5.07, 14.12   12.19\n",
       "2  Chem Axon         5.43    10.4"
      ]
     },
     "execution_count": 30,
     "metadata": {},
     "output_type": "execute_result"
    }
   ],
   "source": [
    "#read in an format chem axon data\n",
    "ca_dict=GetChemAxon('E4_output.txt')\n",
    "\n",
    "#chem Axon dataframe\n",
    "ca_df=DictToDF(ca_dict)\n",
    "\n",
    "#pkasolver dataframe\n",
    "solver_df=DictToDF(solver_dict)\n",
    "\n",
    "#MolGpKa -- addional formatting because MolGpKa does not round pka values\n",
    "molg_df=DictToDF(molg_dict)\n",
    "RoundMolg(molg_df)\n",
    "\n",
    "#combine all dataframes\n",
    "all=pd.concat([solver_df,molg_df,ca_df],ignore_index=True)\n",
    "all.insert(0,'Calculator',['pKaSolver','MolGpKa','Chem Axon'])\n",
    "all"
   ]
  },
  {
   "cell_type": "code",
   "execution_count": 31,
   "id": "69802424-4a94-4709-8827-6c3fc83dfb7c",
   "metadata": {},
   "outputs": [
    {
     "data": {
      "image/svg+xml": [
       "<svg xmlns=\"http://www.w3.org/2000/svg\" xmlns:rdkit=\"http://www.rdkit.org/xml\" xmlns:xlink=\"http://www.w3.org/1999/xlink\" version=\"1.1\" baseProfile=\"full\" xml:space=\"preserve\" width=\"350px\" height=\"300px\" viewBox=\"0 0 350 300\">\n",
       "<!-- END OF HEADER -->\n",
       "<rect style=\"opacity:1.0;fill:#FFFFFF;stroke:none\" width=\"350.0\" height=\"300.0\" x=\"0.0\" y=\"0.0\"> </rect>\n",
       "<ellipse cx=\"57.0\" cy=\"208.0\" rx=\"41.1\" ry=\"26.7\" class=\"atom-0\" style=\"fill:#CCCCCC;fill-rule:evenodd;stroke:#CCCCCC;stroke-width:1.0px;stroke-linecap:butt;stroke-linejoin:miter;stroke-opacity:1\"/>\n",
       "<ellipse cx=\"293.5\" cy=\"83.6\" rx=\"33.0\" ry=\"18.3\" class=\"atom-5\" style=\"fill:#CCCCCC;fill-rule:evenodd;stroke:#CCCCCC;stroke-width:1.0px;stroke-linecap:butt;stroke-linejoin:miter;stroke-opacity:1\"/>\n",
       "<path class=\"bond-0 atom-0 atom-1\" d=\"M 88.0,195.1 L 107.9,183.6\" style=\"fill:none;fill-rule:evenodd;stroke:#0000FF;stroke-width:2.0px;stroke-linecap:butt;stroke-linejoin:miter;stroke-opacity:1\"/>\n",
       "<path class=\"bond-0 atom-0 atom-1\" d=\"M 107.9,183.6 L 127.8,172.1\" style=\"fill:none;fill-rule:evenodd;stroke:#000000;stroke-width:2.0px;stroke-linecap:butt;stroke-linejoin:miter;stroke-opacity:1\"/>\n",
       "<path class=\"bond-1 atom-1 atom-2\" d=\"M 127.8,172.1 L 127.8,112.9\" style=\"fill:none;fill-rule:evenodd;stroke:#000000;stroke-width:2.0px;stroke-linecap:butt;stroke-linejoin:miter;stroke-opacity:1\"/>\n",
       "<path class=\"bond-1 atom-1 atom-2\" d=\"M 136.7,167.0 L 136.7,118.0\" style=\"fill:none;fill-rule:evenodd;stroke:#000000;stroke-width:2.0px;stroke-linecap:butt;stroke-linejoin:miter;stroke-opacity:1\"/>\n",
       "<path class=\"bond-2 atom-2 atom-3\" d=\"M 127.8,112.9 L 179.1,83.3\" style=\"fill:none;fill-rule:evenodd;stroke:#000000;stroke-width:2.0px;stroke-linecap:butt;stroke-linejoin:miter;stroke-opacity:1\"/>\n",
       "<path class=\"bond-3 atom-3 atom-4\" d=\"M 179.1,83.3 L 230.4,113.0\" style=\"fill:none;fill-rule:evenodd;stroke:#000000;stroke-width:2.0px;stroke-linecap:butt;stroke-linejoin:miter;stroke-opacity:1\"/>\n",
       "<path class=\"bond-3 atom-3 atom-4\" d=\"M 179.1,93.6 L 221.5,118.1\" style=\"fill:none;fill-rule:evenodd;stroke:#000000;stroke-width:2.0px;stroke-linecap:butt;stroke-linejoin:miter;stroke-opacity:1\"/>\n",
       "<path class=\"bond-4 atom-4 atom-5\" d=\"M 230.4,113.0 L 249.3,102.1\" style=\"fill:none;fill-rule:evenodd;stroke:#000000;stroke-width:2.0px;stroke-linecap:butt;stroke-linejoin:miter;stroke-opacity:1\"/>\n",
       "<path class=\"bond-4 atom-4 atom-5\" d=\"M 249.3,102.1 L 268.2,91.2\" style=\"fill:none;fill-rule:evenodd;stroke:#FF0000;stroke-width:2.0px;stroke-linecap:butt;stroke-linejoin:miter;stroke-opacity:1\"/>\n",
       "<path class=\"bond-5 atom-4 atom-6\" d=\"M 230.4,113.0 L 230.3,172.2\" style=\"fill:none;fill-rule:evenodd;stroke:#000000;stroke-width:2.0px;stroke-linecap:butt;stroke-linejoin:miter;stroke-opacity:1\"/>\n",
       "<path class=\"bond-6 atom-6 atom-7\" d=\"M 230.3,172.2 L 179.0,201.8\" style=\"fill:none;fill-rule:evenodd;stroke:#000000;stroke-width:2.0px;stroke-linecap:butt;stroke-linejoin:miter;stroke-opacity:1\"/>\n",
       "<path class=\"bond-6 atom-6 atom-7\" d=\"M 221.4,167.1 L 179.0,191.5\" style=\"fill:none;fill-rule:evenodd;stroke:#000000;stroke-width:2.0px;stroke-linecap:butt;stroke-linejoin:miter;stroke-opacity:1\"/>\n",
       "<path class=\"bond-7 atom-7 atom-1\" d=\"M 179.0,201.8 L 127.8,172.1\" style=\"fill:none;fill-rule:evenodd;stroke:#000000;stroke-width:2.0px;stroke-linecap:butt;stroke-linejoin:miter;stroke-opacity:1\"/>\n",
       "<path d=\"M 127.8,115.9 L 127.8,112.9 L 130.4,111.4\" style=\"fill:none;stroke:#000000;stroke-width:2.0px;stroke-linecap:butt;stroke-linejoin:miter;stroke-opacity:1;\"/>\n",
       "<path d=\"M 176.5,84.8 L 179.1,83.3 L 181.7,84.8\" style=\"fill:none;stroke:#000000;stroke-width:2.0px;stroke-linecap:butt;stroke-linejoin:miter;stroke-opacity:1;\"/>\n",
       "<path d=\"M 230.3,169.2 L 230.3,172.2 L 227.7,173.7\" style=\"fill:none;stroke:#000000;stroke-width:2.0px;stroke-linecap:butt;stroke-linejoin:miter;stroke-opacity:1;\"/>\n",
       "<path d=\"M 181.6,200.3 L 179.0,201.8 L 176.5,200.3\" style=\"fill:none;stroke:#000000;stroke-width:2.0px;stroke-linecap:butt;stroke-linejoin:miter;stroke-opacity:1;\"/>\n",
       "<path class=\"atom-0\" d=\"M 27.9 189.1 L 31.3 189.1 L 31.3 199.8 L 44.2 199.8 L 44.2 189.1 L 47.6 189.1 L 47.6 214.2 L 44.2 214.2 L 44.2 202.6 L 31.3 202.6 L 31.3 214.2 L 27.9 214.2 L 27.9 189.1 \" fill=\"#0000FF\"/>\n",
       "<path class=\"atom-0\" d=\"M 52.5 213.4 Q 53.1 211.8, 54.6 210.9 Q 56.1 210.0, 58.1 210.0 Q 60.6 210.0, 62.0 211.4 Q 63.4 212.8, 63.4 215.2 Q 63.4 217.6, 61.6 219.9 Q 59.8 222.2, 56.0 224.9 L 63.7 224.9 L 63.7 226.8 L 52.5 226.8 L 52.5 225.3 Q 55.6 223.0, 57.4 221.4 Q 59.3 219.8, 60.2 218.3 Q 61.1 216.8, 61.1 215.3 Q 61.1 213.7, 60.3 212.8 Q 59.5 211.9, 58.1 211.9 Q 56.7 211.9, 55.8 212.5 Q 55.0 213.0, 54.3 214.2 L 52.5 213.4 \" fill=\"#0000FF\"/>\n",
       "<path class=\"atom-0\" d=\"M 70.9 189.1 L 79.2 202.4 Q 80.0 203.7, 81.3 206.1 Q 82.6 208.5, 82.7 208.6 L 82.7 189.1 L 86.0 189.1 L 86.0 214.2 L 82.6 214.2 L 73.7 199.7 Q 72.7 198.0, 71.6 196.0 Q 70.5 194.1, 70.2 193.5 L 70.2 214.2 L 66.9 214.2 L 66.9 189.1 L 70.9 189.1 \" fill=\"#0000FF\"/>\n",
       "<path class=\"atom-5\" d=\"M 270.1 83.5 Q 270.1 77.5, 273.1 74.1 Q 276.1 70.7, 281.7 70.7 Q 287.2 70.7, 290.2 74.1 Q 293.2 77.5, 293.2 83.5 Q 293.2 89.6, 290.2 93.1 Q 287.2 96.5, 281.7 96.5 Q 276.1 96.5, 273.1 93.1 Q 270.1 89.6, 270.1 83.5 M 281.7 93.7 Q 285.5 93.7, 287.6 91.1 Q 289.6 88.5, 289.6 83.5 Q 289.6 78.6, 287.6 76.1 Q 285.5 73.6, 281.7 73.6 Q 277.8 73.6, 275.7 76.0 Q 273.7 78.5, 273.7 83.5 Q 273.7 88.6, 275.7 91.1 Q 277.8 93.7, 281.7 93.7 \" fill=\"#FF0000\"/>\n",
       "<path class=\"atom-5\" d=\"M 297.1 71.0 L 300.5 71.0 L 300.5 81.7 L 313.4 81.7 L 313.4 71.0 L 316.8 71.0 L 316.8 96.1 L 313.4 96.1 L 313.4 84.5 L 300.5 84.5 L 300.5 96.1 L 297.1 96.1 L 297.1 71.0 \" fill=\"#FF0000\"/>\n",
       "<path class=\"note\" d=\"M 16.3 167.1 Q 16.3 165.6, 17.4 164.8 Q 18.6 164.0, 20.8 164.0 L 22.1 164.0 L 22.1 163.7 Q 22.1 162.5, 21.6 162.1 Q 21.2 161.6, 20.0 161.6 Q 19.3 161.6, 18.7 161.7 Q 18.2 161.8, 17.3 162.2 L 16.8 161.1 Q 18.5 160.3, 20.1 160.3 Q 22.0 160.3, 22.9 161.1 Q 23.8 161.9, 23.8 163.7 L 23.8 169.6 L 22.5 169.6 Q 22.5 169.5, 22.4 169.2 Q 22.4 168.9, 22.3 168.5 Q 21.0 169.8, 19.3 169.8 Q 17.9 169.8, 17.1 169.0 Q 16.3 168.3, 16.3 167.1 M 17.9 167.1 Q 17.9 167.7, 18.4 168.1 Q 18.8 168.5, 19.6 168.5 Q 20.3 168.5, 21.0 168.1 Q 21.7 167.8, 22.1 167.2 L 22.1 165.3 L 20.9 165.3 Q 19.4 165.3, 18.7 165.7 Q 17.9 166.2, 17.9 167.1 \" fill=\"#000000\"/>\n",
       "<path class=\"note\" d=\"M 26.1 161.7 L 26.1 160.4 L 27.8 160.4 L 28.1 157.8 L 29.4 157.8 L 29.4 160.4 L 32.2 160.4 L 32.2 161.7 L 29.4 161.7 L 29.4 166.8 Q 29.4 168.3, 30.7 168.3 Q 31.2 168.3, 32.0 168.1 L 32.3 169.3 Q 31.3 169.7, 30.4 169.7 Q 29.2 169.7, 28.4 169.0 Q 27.7 168.2, 27.7 166.8 L 27.7 161.7 L 26.1 161.7 \" fill=\"#000000\"/>\n",
       "<path class=\"note\" d=\"M 33.7 165.0 Q 33.7 162.8, 34.8 161.5 Q 35.9 160.3, 38.0 160.3 Q 40.1 160.3, 41.2 161.5 Q 42.4 162.8, 42.4 165.0 Q 42.4 167.2, 41.2 168.5 Q 40.1 169.7, 38.0 169.7 Q 35.9 169.7, 34.8 168.5 Q 33.7 167.2, 33.7 165.0 M 35.4 165.0 Q 35.4 166.6, 36.1 167.5 Q 36.8 168.4, 38.0 168.4 Q 39.3 168.4, 40.0 167.5 Q 40.6 166.6, 40.6 165.0 Q 40.6 163.3, 40.0 162.5 Q 39.3 161.6, 38.0 161.6 Q 36.8 161.6, 36.1 162.5 Q 35.4 163.3, 35.4 165.0 \" fill=\"#000000\"/>\n",
       "<path class=\"note\" d=\"M 54.7 160.3 Q 56.2 160.3, 57.0 161.1 Q 57.8 161.9, 57.8 163.5 L 57.8 169.6 L 56.1 169.6 L 56.1 163.6 Q 56.1 162.6, 55.7 162.1 Q 55.3 161.6, 54.3 161.6 Q 53.5 161.6, 52.9 162.0 Q 52.2 162.3, 51.8 163.0 Q 51.8 163.2, 51.8 163.5 L 51.8 169.6 L 50.1 169.6 L 50.1 163.6 Q 50.1 162.6, 49.7 162.1 Q 49.3 161.6, 48.4 161.6 Q 47.6 161.6, 46.9 162.0 Q 46.2 162.3, 45.8 163.0 L 45.8 169.6 L 44.1 169.6 L 44.1 160.4 L 45.5 160.4 L 45.7 161.7 Q 46.8 160.3, 48.7 160.3 Q 50.8 160.3, 51.5 161.9 Q 52.7 160.3, 54.7 160.3 \" fill=\"#000000\"/>\n",
       "<path class=\"note\" d=\"M 71.6 161.7 L 69.1 161.7 L 68.6 165.0 L 71.0 165.0 L 70.8 166.2 L 68.4 166.2 L 67.8 169.6 L 66.4 169.6 L 67.0 166.2 L 64.0 166.2 L 63.4 169.6 L 62.0 169.6 L 62.6 166.2 L 60.1 166.2 L 60.3 165.0 L 62.8 165.0 L 63.3 161.7 L 60.9 161.7 L 61.1 160.5 L 63.6 160.5 L 64.2 157.0 L 65.5 157.0 L 65.0 160.5 L 68.0 160.5 L 68.5 157.0 L 69.9 157.0 L 69.4 160.5 L 71.8 160.5 L 71.6 161.7 M 67.2 165.0 L 67.7 161.7 L 64.7 161.7 L 64.2 165.0 L 67.2 165.0 \" fill=\"#000000\"/>\n",
       "<path class=\"note\" d=\"M 82.2 170.4 L 82.2 171.9 L 73.1 171.9 L 73.1 170.4 L 82.2 170.4 \" fill=\"#000000\"/>\n",
       "<path class=\"note\" d=\"M 87.7 169.7 Q 85.4 169.7, 84.3 168.0 Q 83.1 166.3, 83.1 163.3 Q 83.1 160.2, 84.3 158.5 Q 85.4 156.8, 87.7 156.8 Q 90.1 156.8, 91.2 158.5 Q 92.3 160.2, 92.3 163.3 Q 92.3 166.3, 91.2 168.0 Q 90.1 169.7, 87.7 169.7 M 87.7 168.3 Q 89.1 168.3, 89.8 167.0 Q 90.6 165.7, 90.6 163.3 Q 90.6 160.8, 89.8 159.5 Q 89.1 158.3, 87.7 158.3 Q 86.4 158.3, 85.6 159.5 Q 84.9 160.8, 84.9 163.3 Q 84.9 165.7, 85.6 167.0 Q 86.4 168.3, 87.7 168.3 \" fill=\"#000000\"/>\n",
       "<path class=\"note\" d=\"M 258.8 112.9 Q 258.8 111.4, 260.0 110.6 Q 261.1 109.8, 263.3 109.8 L 264.6 109.8 L 264.6 109.5 Q 264.6 108.4, 264.1 107.9 Q 263.7 107.4, 262.5 107.4 Q 261.8 107.4, 261.2 107.5 Q 260.7 107.7, 259.8 108.0 L 259.3 106.9 Q 261.0 106.1, 262.6 106.1 Q 264.5 106.1, 265.4 106.9 Q 266.3 107.7, 266.3 109.5 L 266.3 115.4 L 265.0 115.4 Q 265.0 115.3, 264.9 115.0 Q 264.9 114.7, 264.8 114.3 Q 263.5 115.6, 261.8 115.6 Q 260.4 115.6, 259.6 114.9 Q 258.8 114.1, 258.8 112.9 M 260.4 112.9 Q 260.4 113.5, 260.9 113.9 Q 261.3 114.3, 262.1 114.3 Q 262.8 114.3, 263.5 113.9 Q 264.2 113.6, 264.6 113.0 L 264.6 111.1 L 263.4 111.1 Q 261.9 111.1, 261.2 111.5 Q 260.4 112.0, 260.4 112.9 \" fill=\"#000000\"/>\n",
       "<path class=\"note\" d=\"M 268.6 107.5 L 268.6 106.2 L 270.3 106.2 L 270.6 103.6 L 271.9 103.6 L 271.9 106.2 L 274.6 106.2 L 274.6 107.5 L 271.9 107.5 L 271.9 112.6 Q 271.9 114.1, 273.2 114.1 Q 273.7 114.1, 274.5 113.9 L 274.8 115.1 Q 273.8 115.5, 272.9 115.5 Q 271.7 115.5, 270.9 114.8 Q 270.2 114.1, 270.2 112.6 L 270.2 107.5 L 268.6 107.5 \" fill=\"#000000\"/>\n",
       "<path class=\"note\" d=\"M 276.2 110.8 Q 276.2 108.6, 277.3 107.3 Q 278.4 106.1, 280.5 106.1 Q 282.6 106.1, 283.7 107.3 Q 284.8 108.6, 284.8 110.8 Q 284.8 113.0, 283.7 114.3 Q 282.6 115.5, 280.5 115.5 Q 278.4 115.5, 277.3 114.3 Q 276.2 113.0, 276.2 110.8 M 277.9 110.8 Q 277.9 112.5, 278.5 113.3 Q 279.2 114.2, 280.5 114.2 Q 281.8 114.2, 282.4 113.3 Q 283.1 112.5, 283.1 110.8 Q 283.1 109.1, 282.4 108.3 Q 281.8 107.4, 280.5 107.4 Q 279.2 107.4, 278.5 108.3 Q 277.9 109.1, 277.9 110.8 \" fill=\"#000000\"/>\n",
       "<path class=\"note\" d=\"M 297.1 106.1 Q 298.7 106.1, 299.5 106.9 Q 300.2 107.7, 300.2 109.3 L 300.2 115.4 L 298.6 115.4 L 298.6 109.5 Q 298.6 108.4, 298.1 107.9 Q 297.7 107.4, 296.8 107.4 Q 296.0 107.4, 295.3 107.8 Q 294.6 108.2, 294.2 108.8 Q 294.3 109.0, 294.3 109.3 L 294.3 115.4 L 292.6 115.4 L 292.6 109.5 Q 292.6 108.4, 292.2 107.9 Q 291.8 107.4, 290.8 107.4 Q 290.0 107.4, 289.4 107.8 Q 288.7 108.2, 288.3 108.8 L 288.3 115.4 L 286.6 115.4 L 286.6 106.2 L 288.0 106.2 L 288.1 107.5 Q 289.3 106.1, 291.2 106.1 Q 293.3 106.1, 294.0 107.7 Q 295.2 106.1, 297.1 106.1 \" fill=\"#000000\"/>\n",
       "<path class=\"note\" d=\"M 314.1 107.6 L 311.6 107.6 L 311.1 110.8 L 313.5 110.8 L 313.3 112.0 L 310.8 112.0 L 310.3 115.4 L 308.9 115.4 L 309.4 112.0 L 306.4 112.0 L 305.9 115.4 L 304.5 115.4 L 305.0 112.0 L 302.5 112.0 L 302.7 110.8 L 305.2 110.8 L 305.8 107.6 L 303.3 107.6 L 303.5 106.3 L 306.0 106.3 L 306.6 102.8 L 308.0 102.8 L 307.4 106.3 L 310.4 106.3 L 311.0 102.8 L 312.4 102.8 L 311.8 106.3 L 314.3 106.3 L 314.1 107.6 M 309.6 110.8 L 310.2 107.6 L 307.2 107.6 L 306.6 110.8 L 309.6 110.8 \" fill=\"#000000\"/>\n",
       "<path class=\"note\" d=\"M 324.7 116.3 L 324.7 117.7 L 315.6 117.7 L 315.6 116.3 L 324.7 116.3 \" fill=\"#000000\"/>\n",
       "<path class=\"note\" d=\"M 330.1 107.5 Q 331.2 107.5, 332.2 108.0 Q 333.1 108.4, 333.6 109.3 Q 334.1 110.2, 334.1 111.4 Q 334.1 112.7, 333.5 113.6 Q 332.8 114.5, 331.8 115.0 Q 330.8 115.5, 329.6 115.5 Q 328.4 115.5, 327.4 115.1 Q 326.3 114.7, 325.6 113.8 L 326.6 112.7 Q 327.2 113.4, 328.0 113.7 Q 328.8 114.1, 329.7 114.1 Q 330.8 114.1, 331.5 113.4 Q 332.3 112.7, 332.3 111.4 Q 332.3 110.1, 331.5 109.5 Q 330.8 108.8, 329.5 108.8 Q 328.4 108.8, 327.2 109.3 L 326.2 108.8 L 326.8 102.8 L 333.3 102.8 L 333.1 104.2 L 328.3 104.2 L 327.9 107.9 Q 329.0 107.5, 330.1 107.5 \" fill=\"#000000\"/>\n",
       "</svg>"
      ],
      "text/plain": [
       "<IPython.core.display.SVG object>"
      ]
     },
     "execution_count": 31,
     "metadata": {},
     "output_type": "execute_result"
    }
   ],
   "source": [
    "pic=DrawDiagram(molg_smi,molg_idx)\n",
    "SVG(pic.GetDrawingText())"
   ]
  },
  {
   "cell_type": "code",
   "execution_count": null,
   "id": "ed27b79f-95b3-4556-b0d0-7ed8b5e8a06f",
   "metadata": {},
   "outputs": [],
   "source": []
  }
 ],
 "metadata": {
  "kernelspec": {
   "display_name": "new_pka_prediction",
   "language": "python",
   "name": "new_pka_prediction"
  },
  "language_info": {
   "codemirror_mode": {
    "name": "ipython",
    "version": 3
   },
   "file_extension": ".py",
   "mimetype": "text/x-python",
   "name": "python",
   "nbconvert_exporter": "python",
   "pygments_lexer": "ipython3",
   "version": "3.11.6"
  }
 },
 "nbformat": 4,
 "nbformat_minor": 5
}
