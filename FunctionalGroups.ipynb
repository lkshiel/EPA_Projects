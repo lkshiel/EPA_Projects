{
 "cells": [
  {
   "cell_type": "code",
   "execution_count": 1,
   "id": "7c6aaabe-0c4a-4cc1-8fb2-cd6a88ddac05",
   "metadata": {},
   "outputs": [],
   "source": [
    "import pandas as pd\n",
    "from rdkit import Chem\n",
    "from rdkit.Chem.Draw import IPythonConsole"
   ]
  },
  {
   "cell_type": "code",
   "execution_count": 2,
   "id": "1521a9c9-aa20-421e-bdc7-47be1a69515a",
   "metadata": {},
   "outputs": [],
   "source": [
    "def ChangeStartIdx(atomList):\n",
    "    atoms=[]\n",
    "    for site,atom in enumerate(atomList):\n",
    "        for i in atom:\n",
    "            new=[i+1 for i in atom]\n",
    "        atoms.append(new)\n",
    "    return(atoms)"
   ]
  },
  {
   "cell_type": "code",
   "execution_count": 3,
   "id": "a4cbdf5c-d516-442f-9ab4-e8dd779a5267",
   "metadata": {},
   "outputs": [],
   "source": [
    "def FindEsterFG(smiles):\n",
    "    smi=smiles\n",
    "    mol=Chem.MolFromSmiles(smi)\n",
    "    \n",
    "    #read in functional group smarts string and convert it to rdkit SMARTS object\n",
    "    CAE_smarts='[CX3;$([R0][#6]),$([H1R0])](=[OX1])[OX2][#6;!$(C=[O,N,S])]'\n",
    "    CAE=Chem.MolFromSmarts(CAE_smarts)\n",
    "    \n",
    "    CarbAnhydride_smarts='[CX3;$([H0][#6]),$([H1])](=[OX1])[#8X2][CX3;$([H0][#6]),$([H1])](=[OX1])'\n",
    "    CarbAnhydride=Chem.MolFromSmarts(CarbAnhydride_smarts)\n",
    "    \n",
    "     # Use GetSubstructMatches to find atoms in functional group\n",
    "    #GetSubstructMatches returns a tuple, convert to list to parse through\n",
    "    CAE_atom=list(Chem.Mol.GetSubstructMatches(mol,CAE,uniquify=True))\n",
    "    anhydride_atom=list(Chem.Mol.GetSubstructMatches(mol,CarbAnhydride,uniquify=True))\n",
    "\n",
    "    #GetSubstructMatches has a 0-start index, add 1 to atom nums so that index matches hydrowin using Function ChangeStartIdx()\n",
    "    anh=ChangeStartIdx(anhydride_atom)\n",
    "    cae=ChangeStartIdx(CAE_atom)\n",
    "    an_site=len(anh)\n",
    "    cae_site=len(cae)\n",
    "    \n",
    "    \n",
    "    #return a list of atom numbers in anhydride and CAE functional group (FG). \n",
    "    #if there is more that one site for the FG, a list of list will be returned for the FG. \n",
    "    # Example: a molecule with 2 anhydride sites and 1 CAE site will return a list of atom numbers followed by number of site as:\n",
    "    #([[anh_site1_atoms],[anh__site2_atoms]],2,[case_site_atoms],1)\n",
    "   \n",
    "    return(anh,an_site,cae,cae_site)"
   ]
  },
  {
   "cell_type": "code",
   "execution_count": 5,
   "id": "6b4c919c-ae8c-4afb-8411-2994db8ffe87",
   "metadata": {},
   "outputs": [
    {
     "name": "stdout",
     "output_type": "stream",
     "text": [
      "anhydride site count: 0 \n",
      " [] \n",
      " CAE site count:  1 \n",
      " [[4, 5, 3, 2]]\n",
      "anhydride site count: 0 \n",
      " [] \n",
      " CAE site count:  2 \n",
      " [[10, 11, 9, 8], [18, 19, 20, 21]]\n",
      "anhydride site count: 0 \n",
      " [] \n",
      " CAE site count:  1 \n",
      " [[5, 6, 7, 8]]\n",
      "anhydride site count: 0 \n",
      " [] \n",
      " CAE site count:  1 \n",
      " [[4, 5, 3, 2]]\n",
      "anhydride site count: 0 \n",
      " [] \n",
      " CAE site count:  1 \n",
      " [[3, 4, 2, 1]]\n"
     ]
    }
   ],
   "source": [
    "#test CAE exmaple from hydrolysis lib doc to see if they all are distingueshed as CAE and not anhydrides\n",
    "test_c=['CCOC(=O)CC','CCCCC(CC)COC(=O)C1=C(C=CC=C1)C(=O)OCC(CC)CCCC','CC1(C)C(C(=O)OC(C#N)C2=CC=CC(OC3=CC=CC=C3)=C2)C1(C)C',\n",
    "        'CCOC(=O)C(O)(C1=CC=C(Cl)C=C1)C1=CC=C(Cl)C=C1','COC(=O)C1=C(Cl)C=CC(Cl)=C1']\n",
    "\n",
    "for m in test_c:\n",
    "    a,s,c,cs=FindEsterFG(m)\n",
    "    print('anhydride site count:' ,s,'\\n',a,'\\n','CAE site count: ',cs,'\\n',c)"
   ]
  },
  {
   "cell_type": "code",
   "execution_count": 7,
   "id": "afc85095-6702-4054-a847-2e40e8abe543",
   "metadata": {},
   "outputs": [
    {
     "name": "stdout",
     "output_type": "stream",
     "text": [
      "anhydride site count: 1 \n",
      " [[2, 1, 8, 6, 7]] \n",
      " CAE site count:  0 \n",
      " []\n",
      "anhydride site count: 1 \n",
      " [[2, 3, 4, 5, 7]] \n",
      " CAE site count:  0 \n",
      " []\n"
     ]
    }
   ],
   "source": [
    "# Testif FindEsterFG() distinguishes between chain anhydride and cyclic anhydride groups, examples takend from Hydrolysis lib doc\n",
    "\n",
    "test_a=['O=C1CCCC(=O)O1','CC(=O)OC(C)=O']\n",
    "for m in test_a:\n",
    "    a,s,c,cs=FindEsterFG(m)\n",
    "    print('anhydride site count:' ,s,'\\n',a,'\\n','CAE site count: ',cs,'\\n',c)"
   ]
  },
  {
   "cell_type": "markdown",
   "id": "198f7a3f-49bf-4f7f-8712-8d5f0f1e4263",
   "metadata": {},
   "source": [
    "Current Anhydride SMART string does not distingush between cylic and nchane anhydride groups, need to resolve."
   ]
  },
  {
   "cell_type": "code",
   "execution_count": 8,
   "id": "47a9981b-6d7a-4c53-a2e7-7bca61ab3217",
   "metadata": {},
   "outputs": [
    {
     "name": "stdout",
     "output_type": "stream",
     "text": [
      "anhydride site count: 0 \n",
      " [] \n",
      " CAE site count:  0 \n",
      " []\n"
     ]
    }
   ],
   "source": [
    "a,s,c,cs=FindEsterFG('OCC1OC(=O)C(O)C(O)C1O')\n",
    "print('anhydride site count:' ,s,'\\n',a,'\\n','CAE site count: ',cs,'\\n',c)"
   ]
  },
  {
   "cell_type": "code",
   "execution_count": 12,
   "id": "eec9fbaa-8396-4369-95f7-e0fa71bf920b",
   "metadata": {},
   "outputs": [
    {
     "name": "stdout",
     "output_type": "stream",
     "text": [
      "Lactone site count: 1 \n",
      " [[7, 5, 6, 4, 3]]\n"
     ]
    }
   ],
   "source": [
    "smi='OCC1OC(=O)C(O)C(O)C1O'\n",
    "mol=Chem.MolFromSmiles(smi)\n",
    "lactone_smarts='[#6][#6X3R](=[OX1])[#8X2][#6;!$(C=[O,N,S])]'\n",
    "lactone=Chem.MolFromSmarts(lactone_smarts)\n",
    "lactone_atom=list(Chem.Mol.GetSubstructMatches(mol,lactone,uniquify=True))\n",
    "lac=ChangeStartIdx(lactone_atom)\n",
    "lac_site=len(lac)\n",
    "\n",
    "print('Lactone site count:', lac_site, '\\n', lac)"
   ]
  },
  {
   "cell_type": "code",
   "execution_count": 14,
   "id": "b7aa96d6-0c0c-41de-80a7-fd8b22fec7a8",
   "metadata": {},
   "outputs": [
    {
     "name": "stdout",
     "output_type": "stream",
     "text": [
      "Lactone site count: 0 \n",
      " []\n",
      "Lactone site count: 0 \n",
      " []\n"
     ]
    }
   ],
   "source": [
    "#confirm that lacotn does not find anhydrides\n",
    "for m in test_a:\n",
    "    smi=m\n",
    "    mol=Chem.MolFromSmiles(smi)\n",
    "    lactone_smarts='[#6][#6X3R](=[OX1])[#8X2][#6;!$(C=[O,N,S])]'\n",
    "    lactone=Chem.MolFromSmarts(lactone_smarts)\n",
    "    lactone_atom=list(Chem.Mol.GetSubstructMatches(mol,lactone,uniquify=True))\n",
    "    lac=ChangeStartIdx(lactone_atom)\n",
    "    lac_site=len(lac)\n",
    "\n",
    "    print('Lactone site count:', lac_site, '\\n', lac)"
   ]
  },
  {
   "cell_type": "code",
   "execution_count": 15,
   "id": "f54c66b1-716d-47cc-8443-b50f60bf24fd",
   "metadata": {},
   "outputs": [
    {
     "name": "stdout",
     "output_type": "stream",
     "text": [
      "Lactone site count: 0 \n",
      " []\n",
      "Lactone site count: 0 \n",
      " []\n",
      "Lactone site count: 0 \n",
      " []\n",
      "Lactone site count: 0 \n",
      " []\n",
      "Lactone site count: 0 \n",
      " []\n"
     ]
    }
   ],
   "source": [
    "#confirm lactone does not find CAE\n",
    "for m in test_c:\n",
    "    smi=m\n",
    "    mol=Chem.MolFromSmiles(smi)\n",
    "    lactone_smarts='[#6][#6X3R](=[OX1])[#8X2][#6;!$(C=[O,N,S])]'\n",
    "    lactone=Chem.MolFromSmarts(lactone_smarts)\n",
    "    lactone_atom=list(Chem.Mol.GetSubstructMatches(mol,lactone,uniquify=True))\n",
    "    lac=ChangeStartIdx(lactone_atom)\n",
    "    lac_site=len(lac)\n",
    "\n",
    "    print('Lactone site count:', lac_site, '\\n', lac)"
   ]
  },
  {
   "cell_type": "code",
   "execution_count": 24,
   "id": "ac79f7e1-820c-4240-b4a5-f0f228449544",
   "metadata": {},
   "outputs": [
    {
     "name": "stdout",
     "output_type": "stream",
     "text": [
      "Lactam site count: 0 \n",
      " []\n",
      "Lactam site count: 0 \n",
      " []\n",
      "Lactam site count: 1 \n",
      " [[13, 14, 15, 10]]\n",
      "Lactam site count: 1 \n",
      " [[9, 10, 11, 12]]\n"
     ]
    }
   ],
   "source": [
    "#confim that lactam distinguishes between lactam (last two examples) and amides (first two examples)\n",
    "test_la=['CCNC(=O)[C@@H](C)OC(=O)NC1=CC=CC=C1','CCC(=O)NC1=CC=C(Cl)C(Cl)=C1','O[N+](=O)C1=CC(=CC=C1)N1CCCC1=O',\n",
    "'[H][C@]12C[C@@]3([H])C4=CCO[C@@]5([H])CC(=O)N6C7=C(C=CC=C7)[C@@]1(CCN2C4)[C@]6([H])[C@@]35[H]']\n",
    "\n",
    "for m in test_la:\n",
    "    smi=m\n",
    "    mol=Chem.MolFromSmiles(smi)\n",
    "    lactam_smarts='[#6R][#6X3R](=[OX1])[#7X3;$([H1][#6;!$(C=[O,N,S])]),$([H0]([#6;!$(C=[O,N,S])])[#6;!$(C=[O,N,S])])]'\n",
    "    lactam=Chem.MolFromSmarts(lactam_smarts)\n",
    "    lactam_atom=list(Chem.Mol.GetSubstructMatches(mol,lactam,uniquify=True))\n",
    "    lam=ChangeStartIdx(lactam_atom)\n",
    "    lam_site=len(lam)\n",
    "    print('Lactam site count:', lam_site, '\\n', lam)"
   ]
  },
  {
   "cell_type": "code",
   "execution_count": 27,
   "id": "49cd7f35-b636-42d8-b6aa-a02efe5977e0",
   "metadata": {},
   "outputs": [
    {
     "name": "stdout",
     "output_type": "stream",
     "text": [
      "amide site count: 1 \n",
      " [[4, 5, 3]]\n",
      "amide site count: 1 \n",
      " [[3, 4, 5]]\n",
      "amide site count: 0 \n",
      " []\n",
      "amide site count: 0 \n",
      " []\n"
     ]
    }
   ],
   "source": [
    "#confim that amide distinguishes between lactam (last two examples) and amides (first two examples)\n",
    "for m in test_la:\n",
    "    smi=m\n",
    "    mol=Chem.MolFromSmiles(smi)\n",
    "    amide=(Chem.MolFromSmarts('[CX3;$([R0][#6]),$([H1R0])](=[OX1])[#7X3;$([H2]),$([H1][#6;!$(C=[O,N,S])]),$([#7]([#6;!$(C=[O,N,S])])[#6;!$(C=[O,N,S])])]'))\n",
    "    amide_atom=list(Chem.Mol.GetSubstructMatches(mol,amide,uniquify=True))\n",
    "    ami=ChangeStartIdx(amide_atom)\n",
    "    ami_site=len(ami)\n",
    "    print('amide site count:', ami_site, '\\n', ami)"
   ]
  },
  {
   "cell_type": "code",
   "execution_count": 29,
   "id": "1d4358b3-839e-42ac-a8fa-33492f85a860",
   "metadata": {},
   "outputs": [
    {
     "name": "stdout",
     "output_type": "stream",
     "text": [
      "carbonate site count: 1 \n",
      " [[2, 3, 4, 5, 6, 7]]\n"
     ]
    }
   ],
   "source": [
    "#check carbonate, will include cyclic but not cyclic carbonate exmaples to test\n",
    "smi='CCOC(=O)OC1=C(C(=O)N[C@@]11CC[C@@H](CC1)OC)C1=C(C)C=CC(C)=C1'\n",
    "mol=Chem.MolFromSmiles(smi)\n",
    "carbonic=(Chem.MolFromSmarts('[#6;!$(C=[O,N,S])][#8X2][#6X3](=[OX1])[#8X2][#6;!$(C=[O,N,S])]'))\n",
    "carbonic_atom=list(Chem.Mol.GetSubstructMatches(mol,carbonic,uniquify=True))\n",
    "carb=ChangeStartIdx(carbonic_atom)\n",
    "carb_site=len(carb)\n",
    "print('carbonate site count:', carb_site, '\\n', carb)"
   ]
  },
  {
   "cell_type": "code",
   "execution_count": 31,
   "id": "92ea126a-e5fb-4c6f-9fde-a4a58eca1edb",
   "metadata": {},
   "outputs": [
    {
     "name": "stdout",
     "output_type": "stream",
     "text": [
      "urea site count: 1 \n",
      " [[10, 17, 18, 15]]\n",
      "urea site count: 1 \n",
      " [[8, 9, 10, 11]]\n"
     ]
    }
   ],
   "source": [
    "#check urea, will include cyclic. cylic (first example), noncylic (second example)\n",
    "test_u=['CC(C)C1=CC=C(C=C1)N1CCC(C)N(C)C1=O','CC(C)C1=CC=C(NC(=O)N(C)C)C=C1']\n",
    "\n",
    "for m in test_u:\n",
    "    smi=m\n",
    "    mol=Chem.MolFromSmiles(smi)\n",
    "    urea=(Chem.MolFromSmarts('[#7X3;!$([#7][!#6])][#6X3](=[OX1])[#7X3;!$([#7][!#6])]'))\n",
    "    urea_atom=list(Chem.Mol.GetSubstructMatches(mol,urea,uniquify=True))\n",
    "    ur=ChangeStartIdx(urea_atom)\n",
    "    ur_site=len(ur)\n",
    "    print('urea site count:', ur_site, '\\n', ur)"
   ]
  },
  {
   "cell_type": "code",
   "execution_count": null,
   "id": "779a0f07-aa35-4239-a5c3-5f27ca9de62b",
   "metadata": {},
   "outputs": [],
   "source": []
  }
 ],
 "metadata": {
  "kernelspec": {
   "display_name": "Python 3 (ipykernel)",
   "language": "python",
   "name": "python3"
  },
  "language_info": {
   "codemirror_mode": {
    "name": "ipython",
    "version": 3
   },
   "file_extension": ".py",
   "mimetype": "text/x-python",
   "name": "python",
   "nbconvert_exporter": "python",
   "pygments_lexer": "ipython3",
   "version": "3.11.4"
  }
 },
 "nbformat": 4,
 "nbformat_minor": 5
}
