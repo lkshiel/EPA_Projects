{
 "cells": [
  {
   "cell_type": "code",
   "execution_count": 2,
   "id": "99f0a505-2929-4e7c-803f-3bdd2d43f8c1",
   "metadata": {},
   "outputs": [],
   "source": [
    "import pandas as pd\n",
    "import numpy as np\n",
    "import scipy\n",
    "from scipy import stats\n",
    "import pingouin as pg \n",
    "#from outliers import smirnov_grubbs as grubbs\n",
    "import seaborn as sns\n",
    "import matplotlib\n",
    "import matplotlib.pyplot as plt\n",
    "import warnings\n",
    "warnings.filterwarnings('ignore')\n",
    "\n",
    "#from ipynb.fs.full.Redox_Functions import isNormal,HasEqualVariance,CompareRedox,RemoveOutliers_CompareRedox"
   ]
  },
  {
   "cell_type": "markdown",
   "id": "09d2c1ee-ca6b-497b-8c77-a06390881bd2",
   "metadata": {},
   "source": [
    "## Functions"
   ]
  },
  {
   "cell_type": "code",
   "execution_count": 3,
   "id": "9887f426-826e-481a-9a1a-2ccb7709c775",
   "metadata": {},
   "outputs": [],
   "source": [
    "def isNormal(df,list):\n",
    "    norm=pd.DataFrame(columns=['Rxn_condition','PopSize','testStat','Pval','normal?'])\n",
    "\n",
    "    x=list\n",
    "\n",
    "    for i in x:\n",
    "        sub=df[df['Redox']==i]\n",
    "        pop2=sub['HalfLife (days)'].dropna()\n",
    "        pop2=pop2.astype(float)\n",
    "        count=len(pop2.index)\n",
    "        if count >=3:\n",
    "            stat=scipy.stats.shapiro(pop2).statistic\n",
    "            pval=scipy.stats.shapiro(pop2).pvalue\n",
    "            \n",
    "            if count >= 30:\n",
    "                q='yes'\n",
    "            elif pval <= 0.05:\n",
    "                q='no'\n",
    "            else:\n",
    "                q='yes'\n",
    "            norm.loc[len(norm)]={'Rxn_condition' : i,'PopSize':count, 'testStat': stat,'Pval':pval, 'normal?': q}\n",
    "    return norm"
   ]
  },
  {
   "cell_type": "code",
   "execution_count": 4,
   "id": "c5c7a472-c4f7-437b-9d75-c30ceb11bc67",
   "metadata": {},
   "outputs": [],
   "source": [
    "def HasEqualVariance(df,norm):\n",
    "    var=pd.DataFrame(columns=['Rxn_condition','Rxn_num','testStat','Pval','equal_var?'])\n",
    "    pop1=df['HalfLife (days)'].dropna()\n",
    "    pop1=pop1.astype(float)\n",
    "    \n",
    "    x=list(norm.loc[norm['normal?']=='yes','Rxn_condition'])\n",
    "\n",
    "    for i in x:\n",
    "        sub=df[df['Redox']==i]\n",
    "        pop2=sub['HalfLife (days)'].dropna()\n",
    "        pop2=pop2.astype(float)\n",
    "        count=len(pop2.index)\n",
    "        stat=scipy.stats.levene(pop1,pop2).statistic\n",
    "        pval=scipy.stats.levene(pop1,pop2).pvalue\n",
    "    \n",
    "        if pval < 0.05:\n",
    "            q='no'\n",
    "        else:\n",
    "            q='yes'\n",
    "    \n",
    "        var.loc[len(var)]={'Rxn_condition' : i,'Rxn_num':count, 'testStat': stat,'Pval':pval, 'equal_var?': q}\n",
    "    return var"
   ]
  },
  {
   "cell_type": "code",
   "execution_count": 5,
   "id": "bf4c356d-1ee1-43da-a742-a074029d65b7",
   "metadata": {},
   "outputs": [],
   "source": [
    "def CompareRedox(df,norm,var):\n",
    "    results=pd.DataFrame(columns=['Rxn_condition','Rxn_avg','Rxn_std','PopSize','test_stat','pval','sig?','test'])\n",
    "    \n",
    "    pop1=df['HalfLife (days)'].dropna()\n",
    "    pop1=pop1.astype(float)\n",
    "    mean1=df['HalfLife (days)'].astype(float).mean()\n",
    "    std1=df['HalfLife (days)'].astype(float).std()\n",
    "    nobs1=len(pop1)\n",
    "\n",
    "    redox=list(norm['Rxn_condition'])\n",
    "    t=list(var.loc[var['equal_var?']=='yes','Rxn_condition']) #is normal with equal variance\n",
    "    wt=list(var.loc[var['equal_var?']=='no','Rxn_condition']) #is normal but not equal variance\n",
    "    kw=list(norm.loc[norm['normal?']=='no', 'Rxn_condition']) #not normal\n",
    "\n",
    "    for i in redox:\n",
    "        \n",
    "        sub=df[df['Redox']==i]\n",
    "        avg=sub['HalfLife (days)'].astype(float).mean()\n",
    "        count=len(sub.index)\n",
    "        std2=sub['HalfLife (days)'].astype(float).std()\n",
    "        pop2=sub['HalfLife (days)'].dropna()\n",
    "        pop2=pop2.astype(float)\n",
    "            \n",
    "        if i in t:\n",
    "            #stat=scipy.stats.ttest_ind_from_stats(mean1,std1,nobs1,avg,std2,count,equal_var=True,alternative='two-sided').statistic\n",
    "            stat=scipy.stats.ttest_1samp(pop2,mean1,axis=0,nan_policy= 'omit',alternative='two-sided').statistic\n",
    "            #pval=scipy.stats.ttest_ind_from_stats(mean1,std1,nobs1,avg,std2,count,equal_var=True,alternative='two-sided').pvalue\n",
    "            pval=scipy.stats.ttest_1samp(pop2,mean1,axis=0,nan_policy= 'omit',alternative='two-sided').pvalue\n",
    "            test='t-test'\n",
    "        elif i in kw:\n",
    "            stat=scipy.stats.kruskal(pop1,pop2).statistic\n",
    "            pval=scipy.stats.kruskal(pop1,pop2).pvalue\n",
    "            test='Kruskal-Wallis'\n",
    "        elif i in wt:\n",
    "            stat=scipy.stats.ttest_ind_from_stats(mean1,std1,nobs1,avg,std2,count,equal_var=False,alternative='two-sided').statistic\n",
    "            pval=scipy.stats.ttest_ind_from_stats(mean1,std1,nobs1,avg,std2,count,equal_var=False,alternative='two-sided').pvalue\n",
    "            test='Welchs t-test'\n",
    "        if pval <= 0.05:\n",
    "            s='yes'\n",
    "        else:\n",
    "            s='no'\n",
    "        results.loc[len(results)]={'Rxn_condition' : i, 'Rxn_avg': avg,'Rxn_std':std2, 'PopSize': count, \n",
    "                                'test_stat':stat, 'pval':pval,'sig?':s,'test':test}\n",
    "        results=results.sort_values(by=['PopSize'],ascending=False)\n",
    "    return results"
   ]
  },
  {
   "cell_type": "code",
   "execution_count": 6,
   "id": "7354aa63-a6bb-40d5-bf1f-f4be679a757d",
   "metadata": {},
   "outputs": [],
   "source": [
    "#lit=pd.read_excel('Updated_AnaerobicRxn_LitLib_05072024.xlsx') #results in paper currently\n",
    "#lit=pd.read_excel('Updated_AnaerobicRxn_LitLib_06112024_parentType.xlsx')\n",
    "lit=pd.read_excel('Updated_AnaerobicRxn_LitLib_06132024_parentType.xlsx')\n",
    "\n",
    "#omit data point that were reported for having a 'stable' half life for the purpose of this analysis\n",
    "lit=lit[lit['HalfLife (days)']!='stable']\n",
    "#drop rows with no half life\n",
    "lit=lit[lit['HalfLife (days)'].notna()]"
   ]
  },
  {
   "cell_type": "code",
   "execution_count": 7,
   "id": "00956e7b-5c7a-4477-88d2-4d813f1b4641",
   "metadata": {},
   "outputs": [
    {
     "data": {
      "text/html": [
       "<div>\n",
       "<style scoped>\n",
       "    .dataframe tbody tr th:only-of-type {\n",
       "        vertical-align: middle;\n",
       "    }\n",
       "\n",
       "    .dataframe tbody tr th {\n",
       "        vertical-align: top;\n",
       "    }\n",
       "\n",
       "    .dataframe thead th {\n",
       "        text-align: right;\n",
       "    }\n",
       "</style>\n",
       "<table border=\"1\" class=\"dataframe\">\n",
       "  <thead>\n",
       "    <tr style=\"text-align: right;\">\n",
       "      <th></th>\n",
       "      <th>Scheme</th>\n",
       "      <th>Category</th>\n",
       "      <th>Rxn_Type</th>\n",
       "      <th>Rxn</th>\n",
       "      <th>Rxn_Scheme</th>\n",
       "      <th>Redox</th>\n",
       "      <th>LibDoc_Check</th>\n",
       "      <th>LibDoc_Check_Notes</th>\n",
       "      <th>Parent_Type</th>\n",
       "      <th>Parent</th>\n",
       "      <th>...</th>\n",
       "      <th>RateConstant_avg</th>\n",
       "      <th>RateConstant_avg2</th>\n",
       "      <th>QA_Check</th>\n",
       "      <th>QA_Revisions</th>\n",
       "      <th>QA_Rate</th>\n",
       "      <th>QA_HalfLife</th>\n",
       "      <th>Reference</th>\n",
       "      <th>DOI</th>\n",
       "      <th>std_Parent_SMILES</th>\n",
       "      <th>std_Product_SMILES</th>\n",
       "    </tr>\n",
       "  </thead>\n",
       "  <tbody>\n",
       "    <tr>\n",
       "      <th>7</th>\n",
       "      <td>NaN</td>\n",
       "      <td>Reduction</td>\n",
       "      <td>Reduction</td>\n",
       "      <td>Nitroaromatic to aromatic amine</td>\n",
       "      <td>Reduction: Nitroaromatic to aromatic amine</td>\n",
       "      <td>Fe</td>\n",
       "      <td>NaN</td>\n",
       "      <td>NaN</td>\n",
       "      <td>Initial</td>\n",
       "      <td>Nitrobenzene</td>\n",
       "      <td>...</td>\n",
       "      <td>NaN</td>\n",
       "      <td>NaN</td>\n",
       "      <td>Results and Discussion -- \"Since the reduction...</td>\n",
       "      <td>NaN</td>\n",
       "      <td>NaN</td>\n",
       "      <td>NaN</td>\n",
       "      <td>Heijman,CG et al. (1995)</td>\n",
       "      <td>10.1021/es00003a027</td>\n",
       "      <td>O=[N+]([O-])c1ccccc1</td>\n",
       "      <td>Nc1ccccc1</td>\n",
       "    </tr>\n",
       "    <tr>\n",
       "      <th>8</th>\n",
       "      <td>NaN</td>\n",
       "      <td>Reduction</td>\n",
       "      <td>Reduction</td>\n",
       "      <td>Nitroaromatic to aromatic amine</td>\n",
       "      <td>Reduction: Nitroaromatic to aromatic amine</td>\n",
       "      <td>Fe</td>\n",
       "      <td>NaN</td>\n",
       "      <td>NaN</td>\n",
       "      <td>Initial</td>\n",
       "      <td>Nitrobenzene</td>\n",
       "      <td>...</td>\n",
       "      <td>NaN</td>\n",
       "      <td>0.11685</td>\n",
       "      <td>NaN</td>\n",
       "      <td>NaN</td>\n",
       "      <td>NaN</td>\n",
       "      <td>NaN</td>\n",
       "      <td>Nielsen,PH et al. (1995B)</td>\n",
       "      <td>10.1016/0169-7722(95)00026-R</td>\n",
       "      <td>O=[N+]([O-])c1ccccc1</td>\n",
       "      <td>Nc1ccccc1</td>\n",
       "    </tr>\n",
       "    <tr>\n",
       "      <th>9</th>\n",
       "      <td>NaN</td>\n",
       "      <td>Reduction</td>\n",
       "      <td>Reduction</td>\n",
       "      <td>Nitroaromatic to aromatic amine</td>\n",
       "      <td>Reduction: Nitroaromatic to aromatic amine</td>\n",
       "      <td>Fe</td>\n",
       "      <td>NaN</td>\n",
       "      <td>NaN</td>\n",
       "      <td>Initial</td>\n",
       "      <td>Nitrobenzene</td>\n",
       "      <td>...</td>\n",
       "      <td>NaN</td>\n",
       "      <td>0.00370</td>\n",
       "      <td>NaN</td>\n",
       "      <td>NaN</td>\n",
       "      <td>NaN</td>\n",
       "      <td>NaN</td>\n",
       "      <td>Nielsen,PH et al. (1995B)</td>\n",
       "      <td>10.1016/0169-7722(95)00026-R</td>\n",
       "      <td>O=[N+]([O-])c1ccccc1</td>\n",
       "      <td>Nc1ccccc1</td>\n",
       "    </tr>\n",
       "    <tr>\n",
       "      <th>10</th>\n",
       "      <td>NaN</td>\n",
       "      <td>Reduction</td>\n",
       "      <td>Reduction</td>\n",
       "      <td>Nitroaromatic to aromatic amine</td>\n",
       "      <td>Reduction: Nitroaromatic to aromatic amine</td>\n",
       "      <td>Fe</td>\n",
       "      <td>NaN</td>\n",
       "      <td>NaN</td>\n",
       "      <td>Initial</td>\n",
       "      <td>Nitrobenzene</td>\n",
       "      <td>...</td>\n",
       "      <td>NaN</td>\n",
       "      <td>0.00370</td>\n",
       "      <td>NaN</td>\n",
       "      <td>NaN</td>\n",
       "      <td>NaN</td>\n",
       "      <td>NaN</td>\n",
       "      <td>Nielsen,PH et al. (1995B)</td>\n",
       "      <td>10.1016/0169-7722(95)00026-R</td>\n",
       "      <td>O=[N+]([O-])c1ccccc1</td>\n",
       "      <td>Nc1ccccc1</td>\n",
       "    </tr>\n",
       "    <tr>\n",
       "      <th>11</th>\n",
       "      <td>NaN</td>\n",
       "      <td>Reduction</td>\n",
       "      <td>Reduction</td>\n",
       "      <td>Nitroaromatic to aromatic amine</td>\n",
       "      <td>Reduction: Nitroaromatic to aromatic amine</td>\n",
       "      <td>Fe</td>\n",
       "      <td>NaN</td>\n",
       "      <td>NaN</td>\n",
       "      <td>Initial</td>\n",
       "      <td>Nitrobenzene</td>\n",
       "      <td>...</td>\n",
       "      <td>NaN</td>\n",
       "      <td>0.00370</td>\n",
       "      <td>NaN</td>\n",
       "      <td>NaN</td>\n",
       "      <td>NaN</td>\n",
       "      <td>NaN</td>\n",
       "      <td>Nielsen,PH et al. (1995B)</td>\n",
       "      <td>10.1016/0169-7722(95)00026-R</td>\n",
       "      <td>O=[N+]([O-])c1ccccc1</td>\n",
       "      <td>Nc1ccccc1</td>\n",
       "    </tr>\n",
       "  </tbody>\n",
       "</table>\n",
       "<p>5 rows × 40 columns</p>\n",
       "</div>"
      ],
      "text/plain": [
       "   Scheme   Category   Rxn_Type                              Rxn  \\\n",
       "7     NaN  Reduction  Reduction  Nitroaromatic to aromatic amine   \n",
       "8     NaN  Reduction  Reduction  Nitroaromatic to aromatic amine   \n",
       "9     NaN  Reduction  Reduction  Nitroaromatic to aromatic amine   \n",
       "10    NaN  Reduction  Reduction  Nitroaromatic to aromatic amine   \n",
       "11    NaN  Reduction  Reduction  Nitroaromatic to aromatic amine   \n",
       "\n",
       "                                    Rxn_Scheme Redox LibDoc_Check  \\\n",
       "7   Reduction: Nitroaromatic to aromatic amine    Fe          NaN   \n",
       "8   Reduction: Nitroaromatic to aromatic amine    Fe          NaN   \n",
       "9   Reduction: Nitroaromatic to aromatic amine    Fe          NaN   \n",
       "10  Reduction: Nitroaromatic to aromatic amine    Fe          NaN   \n",
       "11  Reduction: Nitroaromatic to aromatic amine    Fe          NaN   \n",
       "\n",
       "   LibDoc_Check_Notes Parent_Type        Parent  ... RateConstant_avg  \\\n",
       "7                 NaN     Initial  Nitrobenzene  ...              NaN   \n",
       "8                 NaN     Initial  Nitrobenzene  ...              NaN   \n",
       "9                 NaN     Initial  Nitrobenzene  ...              NaN   \n",
       "10                NaN     Initial  Nitrobenzene  ...              NaN   \n",
       "11                NaN     Initial  Nitrobenzene  ...              NaN   \n",
       "\n",
       "   RateConstant_avg2                                           QA_Check  \\\n",
       "7                NaN  Results and Discussion -- \"Since the reduction...   \n",
       "8            0.11685                                                NaN   \n",
       "9            0.00370                                                NaN   \n",
       "10           0.00370                                                NaN   \n",
       "11           0.00370                                                NaN   \n",
       "\n",
       "   QA_Revisions QA_Rate QA_HalfLife                  Reference  \\\n",
       "7           NaN     NaN         NaN   Heijman,CG et al. (1995)   \n",
       "8           NaN     NaN         NaN  Nielsen,PH et al. (1995B)   \n",
       "9           NaN     NaN         NaN  Nielsen,PH et al. (1995B)   \n",
       "10          NaN     NaN         NaN  Nielsen,PH et al. (1995B)   \n",
       "11          NaN     NaN         NaN  Nielsen,PH et al. (1995B)   \n",
       "\n",
       "                             DOI     std_Parent_SMILES std_Product_SMILES  \n",
       "7            10.1021/es00003a027  O=[N+]([O-])c1ccccc1          Nc1ccccc1  \n",
       "8   10.1016/0169-7722(95)00026-R  O=[N+]([O-])c1ccccc1          Nc1ccccc1  \n",
       "9   10.1016/0169-7722(95)00026-R  O=[N+]([O-])c1ccccc1          Nc1ccccc1  \n",
       "10  10.1016/0169-7722(95)00026-R  O=[N+]([O-])c1ccccc1          Nc1ccccc1  \n",
       "11  10.1016/0169-7722(95)00026-R  O=[N+]([O-])c1ccccc1          Nc1ccccc1  \n",
       "\n",
       "[5 rows x 40 columns]"
      ]
     },
     "execution_count": 7,
     "metadata": {},
     "output_type": "execute_result"
    }
   ],
   "source": [
    "#list of nitro reducing schemes\n",
    "nitro=['Reduction: Hydroxyl aromatic amine to aromatic amine','Reduction: Nitroaromatic to aromatic amine',\n",
    "       'Reduction: Nitroaromatic to nitrosoaromatic', 'Reduction: Nitrosoaromatic to hydroxylaminearomatic']\n",
    "\n",
    "#subset lit data to include examples only using nitro schemes\n",
    "df=lit[lit['Rxn_Scheme'].isin(nitro)==True]\n",
    "df.head()"
   ]
  },
  {
   "cell_type": "code",
   "execution_count": 8,
   "id": "d595b6da-7bb0-499b-a186-b50f4a2a5e11",
   "metadata": {},
   "outputs": [
    {
     "data": {
      "text/html": [
       "<div>\n",
       "<style scoped>\n",
       "    .dataframe tbody tr th:only-of-type {\n",
       "        vertical-align: middle;\n",
       "    }\n",
       "\n",
       "    .dataframe tbody tr th {\n",
       "        vertical-align: top;\n",
       "    }\n",
       "\n",
       "    .dataframe thead th {\n",
       "        text-align: right;\n",
       "    }\n",
       "</style>\n",
       "<table border=\"1\" class=\"dataframe\">\n",
       "  <thead>\n",
       "    <tr style=\"text-align: right;\">\n",
       "      <th></th>\n",
       "      <th>Redox</th>\n",
       "      <th>HalfLife (days)</th>\n",
       "    </tr>\n",
       "  </thead>\n",
       "  <tbody>\n",
       "    <tr>\n",
       "      <th>0</th>\n",
       "      <td>Fe</td>\n",
       "      <td>[0.00144375, 5.930680359435172, 187.2972972972...</td>\n",
       "    </tr>\n",
       "    <tr>\n",
       "      <th>1</th>\n",
       "      <td>Meth</td>\n",
       "      <td>[187.2972972972973]</td>\n",
       "    </tr>\n",
       "    <tr>\n",
       "      <th>2</th>\n",
       "      <td>NO3</td>\n",
       "      <td>[187.2972972972973]</td>\n",
       "    </tr>\n",
       "    <tr>\n",
       "      <th>3</th>\n",
       "      <td>methanogenic</td>\n",
       "      <td>[0.356294759, 78.35549496, 0.575132144]</td>\n",
       "    </tr>\n",
       "    <tr>\n",
       "      <th>4</th>\n",
       "      <td>nitrate reducing</td>\n",
       "      <td>[1.122724255, 4.890562196, 0.292495587, 0.0016...</td>\n",
       "    </tr>\n",
       "    <tr>\n",
       "      <th>5</th>\n",
       "      <td>sulfate reducing</td>\n",
       "      <td>[1.15283575, 1.302244676, 0.300966076, 0.58280...</td>\n",
       "    </tr>\n",
       "  </tbody>\n",
       "</table>\n",
       "</div>"
      ],
      "text/plain": [
       "              Redox                                    HalfLife (days)\n",
       "0                Fe  [0.00144375, 5.930680359435172, 187.2972972972...\n",
       "1              Meth                                [187.2972972972973]\n",
       "2               NO3                                [187.2972972972973]\n",
       "3      methanogenic            [0.356294759, 78.35549496, 0.575132144]\n",
       "4  nitrate reducing  [1.122724255, 4.890562196, 0.292495587, 0.0016...\n",
       "5  sulfate reducing  [1.15283575, 1.302244676, 0.300966076, 0.58280..."
      ]
     },
     "execution_count": 8,
     "metadata": {},
     "output_type": "execute_result"
    }
   ],
   "source": [
    "#get redox state by scheme\n",
    "test=df.groupby('Redox',as_index=False)['HalfLife (days)'].unique().apply(list)\n",
    "test"
   ]
  },
  {
   "cell_type": "code",
   "execution_count": 9,
   "id": "59f0480e-bae8-4db6-8c27-d3798b952bb3",
   "metadata": {},
   "outputs": [
    {
     "data": {
      "text/plain": [
       "F_onewayResult(statistic=1.3076238643889793, pvalue=0.3015424809117799)"
      ]
     },
     "execution_count": 9,
     "metadata": {},
     "output_type": "execute_result"
    }
   ],
   "source": [
    "#one-way anova\n",
    "meth=[0.356294759, 78.35549496, 0.575132144]\n",
    "nit=[1.122724255, 4.890562196, 0.292495587, 0.001606452, 0.013211193,0.001332174, 0.28875]\n",
    "sul=[1.15283575, 1.302244676, 0.300966076, 0.582806077,1.404662502, 62.447456, 0.010768065]\n",
    "scipy.stats.f_oneway(meth,nit,sul)"
   ]
  },
  {
   "cell_type": "code",
   "execution_count": 10,
   "id": "d05678d3-6f4e-4ccb-9e15-9d50b7334d6a",
   "metadata": {},
   "outputs": [
    {
     "data": {
      "text/html": [
       "<div>\n",
       "<style scoped>\n",
       "    .dataframe tbody tr th:only-of-type {\n",
       "        vertical-align: middle;\n",
       "    }\n",
       "\n",
       "    .dataframe tbody tr th {\n",
       "        vertical-align: top;\n",
       "    }\n",
       "\n",
       "    .dataframe thead th {\n",
       "        text-align: right;\n",
       "    }\n",
       "</style>\n",
       "<table border=\"1\" class=\"dataframe\">\n",
       "  <thead>\n",
       "    <tr style=\"text-align: right;\">\n",
       "      <th></th>\n",
       "      <th>Redox</th>\n",
       "      <th>HalfLife (days)</th>\n",
       "    </tr>\n",
       "  </thead>\n",
       "  <tbody>\n",
       "    <tr>\n",
       "      <th>0</th>\n",
       "      <td>Fe</td>\n",
       "      <td>5</td>\n",
       "    </tr>\n",
       "    <tr>\n",
       "      <th>1</th>\n",
       "      <td>Meth</td>\n",
       "      <td>2</td>\n",
       "    </tr>\n",
       "    <tr>\n",
       "      <th>2</th>\n",
       "      <td>NO3</td>\n",
       "      <td>1</td>\n",
       "    </tr>\n",
       "    <tr>\n",
       "      <th>3</th>\n",
       "      <td>methanogenic</td>\n",
       "      <td>3</td>\n",
       "    </tr>\n",
       "    <tr>\n",
       "      <th>4</th>\n",
       "      <td>nitrate reducing</td>\n",
       "      <td>7</td>\n",
       "    </tr>\n",
       "    <tr>\n",
       "      <th>5</th>\n",
       "      <td>sulfate reducing</td>\n",
       "      <td>7</td>\n",
       "    </tr>\n",
       "  </tbody>\n",
       "</table>\n",
       "</div>"
      ],
      "text/plain": [
       "              Redox  HalfLife (days)\n",
       "0                Fe                5\n",
       "1              Meth                2\n",
       "2               NO3                1\n",
       "3      methanogenic                3\n",
       "4  nitrate reducing                7\n",
       "5  sulfate reducing                7"
      ]
     },
     "execution_count": 10,
     "metadata": {},
     "output_type": "execute_result"
    }
   ],
   "source": [
    "#get sample size counts for each redox condition\n",
    "df.groupby('Redox', as_index=False)['HalfLife (days)'].count()"
   ]
  },
  {
   "cell_type": "code",
   "execution_count": 11,
   "id": "3aeecbf8-d65e-446e-a572-3a10d4d56ef5",
   "metadata": {},
   "outputs": [
    {
     "data": {
      "text/plain": [
       "Redox\n",
       "Fe                  187.297297\n",
       "Meth                187.297297\n",
       "NO3                 187.297297\n",
       "methanogenic          0.575132\n",
       "nitrate reducing       0.28875\n",
       "sulfate reducing      1.152836\n",
       "Name: HalfLife (days), dtype: object"
      ]
     },
     "execution_count": 11,
     "metadata": {},
     "output_type": "execute_result"
    }
   ],
   "source": [
    "df.groupby('Redox')['HalfLife (days)'].median()"
   ]
  },
  {
   "cell_type": "code",
   "execution_count": 12,
   "id": "7b5d58ed-a440-4553-8a4a-f2d63459ac95",
   "metadata": {},
   "outputs": [],
   "source": [
    "x=['sulfate reducing', 'nitrate reducing', 'methanogenic']"
   ]
  },
  {
   "cell_type": "markdown",
   "id": "2be5d020-1e39-4ece-b05e-6575d696ad6f",
   "metadata": {},
   "source": [
    "### Test for normal distribution in data\n",
    "shapiro-wilkes test\n",
    "\n",
    "if data is normal or pop size is greater than 30, equal variance can be tested using Levene's, and a t test (equal variances) or welches t test(unequal variances) can be used to compare means.\n",
    "Otherewise, use kruskal walace test "
   ]
  },
  {
   "cell_type": "code",
   "execution_count": 13,
   "id": "1a49bf80-68ee-41cc-b6e4-e3e1178d7bf9",
   "metadata": {},
   "outputs": [
    {
     "data": {
      "text/html": [
       "<div>\n",
       "<style scoped>\n",
       "    .dataframe tbody tr th:only-of-type {\n",
       "        vertical-align: middle;\n",
       "    }\n",
       "\n",
       "    .dataframe tbody tr th {\n",
       "        vertical-align: top;\n",
       "    }\n",
       "\n",
       "    .dataframe thead th {\n",
       "        text-align: right;\n",
       "    }\n",
       "</style>\n",
       "<table border=\"1\" class=\"dataframe\">\n",
       "  <thead>\n",
       "    <tr style=\"text-align: right;\">\n",
       "      <th></th>\n",
       "      <th>Rxn_condition</th>\n",
       "      <th>Rxn_avg</th>\n",
       "      <th>Rxn_std</th>\n",
       "      <th>PopSize</th>\n",
       "      <th>test_stat</th>\n",
       "      <th>pval</th>\n",
       "      <th>sig?</th>\n",
       "      <th>test</th>\n",
       "    </tr>\n",
       "  </thead>\n",
       "  <tbody>\n",
       "    <tr>\n",
       "      <th>0</th>\n",
       "      <td>sulfate reducing</td>\n",
       "      <td>9.600248</td>\n",
       "      <td>23.309367</td>\n",
       "      <td>7</td>\n",
       "      <td>0.520589</td>\n",
       "      <td>0.470591</td>\n",
       "      <td>no</td>\n",
       "      <td>Kruskal-Wallis</td>\n",
       "    </tr>\n",
       "    <tr>\n",
       "      <th>1</th>\n",
       "      <td>nitrate reducing</td>\n",
       "      <td>0.944383</td>\n",
       "      <td>1.784386</td>\n",
       "      <td>7</td>\n",
       "      <td>4.860435</td>\n",
       "      <td>0.027479</td>\n",
       "      <td>yes</td>\n",
       "      <td>Kruskal-Wallis</td>\n",
       "    </tr>\n",
       "    <tr>\n",
       "      <th>2</th>\n",
       "      <td>methanogenic</td>\n",
       "      <td>26.428974</td>\n",
       "      <td>44.969819</td>\n",
       "      <td>3</td>\n",
       "      <td>0.037895</td>\n",
       "      <td>0.845653</td>\n",
       "      <td>no</td>\n",
       "      <td>Kruskal-Wallis</td>\n",
       "    </tr>\n",
       "  </tbody>\n",
       "</table>\n",
       "</div>"
      ],
      "text/plain": [
       "      Rxn_condition    Rxn_avg    Rxn_std  PopSize  test_stat      pval sig?  \\\n",
       "0  sulfate reducing   9.600248  23.309367        7   0.520589  0.470591   no   \n",
       "1  nitrate reducing   0.944383   1.784386        7   4.860435  0.027479  yes   \n",
       "2      methanogenic  26.428974  44.969819        3   0.037895  0.845653   no   \n",
       "\n",
       "             test  \n",
       "0  Kruskal-Wallis  \n",
       "1  Kruskal-Wallis  \n",
       "2  Kruskal-Wallis  "
      ]
     },
     "execution_count": 13,
     "metadata": {},
     "output_type": "execute_result"
    }
   ],
   "source": [
    "sub_norm=isNormal(df,x)\n",
    "sub_var=HasEqualVariance(df,sub_norm)\n",
    "CompareRedox(df,sub_norm,sub_var)"
   ]
  },
  {
   "cell_type": "markdown",
   "id": "72ce5caf-ddea-47a8-946e-2b9aecaeb2bd",
   "metadata": {},
   "source": [
    "### Full data"
   ]
  },
  {
   "cell_type": "code",
   "execution_count": 14,
   "id": "049afd92-e6a2-44fd-a4e7-80e2f92c6b21",
   "metadata": {},
   "outputs": [],
   "source": [
    "lit['Redox'].replace(to_replace=['SO4','SO4?'], value= 'sulfate reducing', inplace =True)\n",
    "lit['Redox'].replace(to_replace=['methanogenesis','Meth'], value = 'methanogenic', inplace=True)\n",
    "lit['Redox'].replace(to_replace=['Fe'], value='iron reducing', inplace=True)\n",
    "lit['Redox'].replace(to_replace=['Meth/SO4','sulfate reducing; methanogenic'], value='sulfate reducing/methanogenic', inplace=True)\n",
    "lit['Redox'].replace(to_replace=['NO3','N2O','nitrogen reducing','NO3/Mn'],value='nitrate reducing',inplace=True) #Mn is coupled with nitrate reducing redox zone\n",
    "lit['Redox'].replace(to_replace=['SO4/Fe'],value='iron reducing/sulfate reducing',inplace=True)\n",
    "lit['Redox'].replace(to_replace=['SO4/Fe'],value='iron reducing/sulfate reducing',inplace=True)\n",
    "lit['Redox'].replace(to_replace=['NO3/SO4'],value='nitrate reducing/sulfate reducing',inplace=True)\n",
    "lit['Redox'].replace(to_replace=['Meth/Fe/Mn'],value='nitrate reducing/iron reducing/methanogenic',inplace=True) #Mn is coupled with nitrate reducing redox zone\n",
    "lit['Redox'].replace(to_replace=['Meth/Fe/SO4','Fe/Meth/SO4','Meth/SO4/Fe'],value='iron reducing/sulfate reducing/methanogenic',inplace=True)\n",
    "lit['Redox'].replace(to_replace=['NO3/Fe/SO4/Meth'],value='nitrate reducing/iron reducing/sulfate reducing/methanogenic',inplace=True)\n",
    "lit['Redox'].fillna('Undefined',inplace=True)"
   ]
  },
  {
   "cell_type": "code",
   "execution_count": 15,
   "id": "c763ae0d-e22f-4b29-81e6-a523424c1863",
   "metadata": {},
   "outputs": [
    {
     "data": {
      "text/plain": [
       "array(['iron reducing', 'iron reducing/sulfate reducing/methanogenic',\n",
       "       'methanogenic', 'nitrate reducing/iron reducing/methanogenic',\n",
       "       'sulfate reducing/methanogenic', 'nitrate reducing',\n",
       "       'nitrate reducing/iron reducing/sulfate reducing/methanogenic',\n",
       "       'nitrate reducing/sulfate reducing', 'sulfate reducing',\n",
       "       'iron reducing/sulfate reducing', 'Undefined'], dtype=object)"
      ]
     },
     "execution_count": 15,
     "metadata": {},
     "output_type": "execute_result"
    }
   ],
   "source": [
    "big_x= lit['Redox'].unique()\n",
    "big_x"
   ]
  },
  {
   "cell_type": "code",
   "execution_count": 16,
   "id": "3950873b-c71d-414c-a24e-8f1b1c0dacce",
   "metadata": {},
   "outputs": [
    {
     "data": {
      "text/html": [
       "<div>\n",
       "<style scoped>\n",
       "    .dataframe tbody tr th:only-of-type {\n",
       "        vertical-align: middle;\n",
       "    }\n",
       "\n",
       "    .dataframe tbody tr th {\n",
       "        vertical-align: top;\n",
       "    }\n",
       "\n",
       "    .dataframe thead th {\n",
       "        text-align: right;\n",
       "    }\n",
       "</style>\n",
       "<table border=\"1\" class=\"dataframe\">\n",
       "  <thead>\n",
       "    <tr style=\"text-align: right;\">\n",
       "      <th></th>\n",
       "      <th>Rxn_condition</th>\n",
       "      <th>PopSize</th>\n",
       "      <th>testStat</th>\n",
       "      <th>Pval</th>\n",
       "      <th>normal?</th>\n",
       "    </tr>\n",
       "  </thead>\n",
       "  <tbody>\n",
       "    <tr>\n",
       "      <th>0</th>\n",
       "      <td>iron reducing</td>\n",
       "      <td>54</td>\n",
       "      <td>0.341626</td>\n",
       "      <td>3.595113e-14</td>\n",
       "      <td>yes</td>\n",
       "    </tr>\n",
       "    <tr>\n",
       "      <th>1</th>\n",
       "      <td>iron reducing/sulfate reducing/methanogenic</td>\n",
       "      <td>10</td>\n",
       "      <td>0.554487</td>\n",
       "      <td>1.593393e-05</td>\n",
       "      <td>no</td>\n",
       "    </tr>\n",
       "    <tr>\n",
       "      <th>2</th>\n",
       "      <td>methanogenic</td>\n",
       "      <td>159</td>\n",
       "      <td>0.125280</td>\n",
       "      <td>1.130707e-26</td>\n",
       "      <td>yes</td>\n",
       "    </tr>\n",
       "    <tr>\n",
       "      <th>3</th>\n",
       "      <td>nitrate reducing/iron reducing/methanogenic</td>\n",
       "      <td>7</td>\n",
       "      <td>0.673630</td>\n",
       "      <td>1.897451e-03</td>\n",
       "      <td>no</td>\n",
       "    </tr>\n",
       "    <tr>\n",
       "      <th>4</th>\n",
       "      <td>sulfate reducing/methanogenic</td>\n",
       "      <td>45</td>\n",
       "      <td>0.647067</td>\n",
       "      <td>3.758152e-09</td>\n",
       "      <td>yes</td>\n",
       "    </tr>\n",
       "    <tr>\n",
       "      <th>5</th>\n",
       "      <td>nitrate reducing</td>\n",
       "      <td>191</td>\n",
       "      <td>0.241956</td>\n",
       "      <td>2.613787e-27</td>\n",
       "      <td>yes</td>\n",
       "    </tr>\n",
       "    <tr>\n",
       "      <th>6</th>\n",
       "      <td>nitrate reducing/iron reducing/sulfate reducin...</td>\n",
       "      <td>6</td>\n",
       "      <td>0.928908</td>\n",
       "      <td>5.716926e-01</td>\n",
       "      <td>yes</td>\n",
       "    </tr>\n",
       "    <tr>\n",
       "      <th>7</th>\n",
       "      <td>nitrate reducing/sulfate reducing</td>\n",
       "      <td>7</td>\n",
       "      <td>0.629784</td>\n",
       "      <td>6.045502e-04</td>\n",
       "      <td>no</td>\n",
       "    </tr>\n",
       "    <tr>\n",
       "      <th>8</th>\n",
       "      <td>sulfate reducing</td>\n",
       "      <td>154</td>\n",
       "      <td>0.169055</td>\n",
       "      <td>9.116838e-26</td>\n",
       "      <td>yes</td>\n",
       "    </tr>\n",
       "    <tr>\n",
       "      <th>9</th>\n",
       "      <td>iron reducing/sulfate reducing</td>\n",
       "      <td>18</td>\n",
       "      <td>0.899815</td>\n",
       "      <td>5.703356e-02</td>\n",
       "      <td>yes</td>\n",
       "    </tr>\n",
       "    <tr>\n",
       "      <th>10</th>\n",
       "      <td>Undefined</td>\n",
       "      <td>193</td>\n",
       "      <td>0.220299</td>\n",
       "      <td>9.676825e-28</td>\n",
       "      <td>yes</td>\n",
       "    </tr>\n",
       "  </tbody>\n",
       "</table>\n",
       "</div>"
      ],
      "text/plain": [
       "                                        Rxn_condition  PopSize  testStat  \\\n",
       "0                                       iron reducing       54  0.341626   \n",
       "1         iron reducing/sulfate reducing/methanogenic       10  0.554487   \n",
       "2                                        methanogenic      159  0.125280   \n",
       "3         nitrate reducing/iron reducing/methanogenic        7  0.673630   \n",
       "4                       sulfate reducing/methanogenic       45  0.647067   \n",
       "5                                    nitrate reducing      191  0.241956   \n",
       "6   nitrate reducing/iron reducing/sulfate reducin...        6  0.928908   \n",
       "7                   nitrate reducing/sulfate reducing        7  0.629784   \n",
       "8                                    sulfate reducing      154  0.169055   \n",
       "9                      iron reducing/sulfate reducing       18  0.899815   \n",
       "10                                          Undefined      193  0.220299   \n",
       "\n",
       "            Pval normal?  \n",
       "0   3.595113e-14     yes  \n",
       "1   1.593393e-05      no  \n",
       "2   1.130707e-26     yes  \n",
       "3   1.897451e-03      no  \n",
       "4   3.758152e-09     yes  \n",
       "5   2.613787e-27     yes  \n",
       "6   5.716926e-01     yes  \n",
       "7   6.045502e-04      no  \n",
       "8   9.116838e-26     yes  \n",
       "9   5.703356e-02     yes  \n",
       "10  9.676825e-28     yes  "
      ]
     },
     "execution_count": 16,
     "metadata": {},
     "output_type": "execute_result"
    }
   ],
   "source": [
    "\n",
    "big_norm=isNormal(lit,big_x)\n",
    "big_norm"
   ]
  },
  {
   "cell_type": "code",
   "execution_count": 17,
   "id": "7911f1b2-7e3a-476e-bf4d-3d4a2de3f376",
   "metadata": {},
   "outputs": [
    {
     "data": {
      "text/html": [
       "<div>\n",
       "<style scoped>\n",
       "    .dataframe tbody tr th:only-of-type {\n",
       "        vertical-align: middle;\n",
       "    }\n",
       "\n",
       "    .dataframe tbody tr th {\n",
       "        vertical-align: top;\n",
       "    }\n",
       "\n",
       "    .dataframe thead th {\n",
       "        text-align: right;\n",
       "    }\n",
       "</style>\n",
       "<table border=\"1\" class=\"dataframe\">\n",
       "  <thead>\n",
       "    <tr style=\"text-align: right;\">\n",
       "      <th></th>\n",
       "      <th>Rxn_condition</th>\n",
       "      <th>Rxn_num</th>\n",
       "      <th>testStat</th>\n",
       "      <th>Pval</th>\n",
       "      <th>equal_var?</th>\n",
       "    </tr>\n",
       "  </thead>\n",
       "  <tbody>\n",
       "    <tr>\n",
       "      <th>0</th>\n",
       "      <td>iron reducing</td>\n",
       "      <td>54</td>\n",
       "      <td>7.748825</td>\n",
       "      <td>0.005488</td>\n",
       "      <td>no</td>\n",
       "    </tr>\n",
       "    <tr>\n",
       "      <th>1</th>\n",
       "      <td>methanogenic</td>\n",
       "      <td>159</td>\n",
       "      <td>0.253512</td>\n",
       "      <td>0.614723</td>\n",
       "      <td>yes</td>\n",
       "    </tr>\n",
       "    <tr>\n",
       "      <th>2</th>\n",
       "      <td>sulfate reducing/methanogenic</td>\n",
       "      <td>45</td>\n",
       "      <td>0.000628</td>\n",
       "      <td>0.980008</td>\n",
       "      <td>yes</td>\n",
       "    </tr>\n",
       "    <tr>\n",
       "      <th>3</th>\n",
       "      <td>nitrate reducing</td>\n",
       "      <td>191</td>\n",
       "      <td>1.283575</td>\n",
       "      <td>0.257498</td>\n",
       "      <td>yes</td>\n",
       "    </tr>\n",
       "    <tr>\n",
       "      <th>4</th>\n",
       "      <td>nitrate reducing/iron reducing/sulfate reducin...</td>\n",
       "      <td>6</td>\n",
       "      <td>0.008580</td>\n",
       "      <td>0.926219</td>\n",
       "      <td>yes</td>\n",
       "    </tr>\n",
       "    <tr>\n",
       "      <th>5</th>\n",
       "      <td>sulfate reducing</td>\n",
       "      <td>154</td>\n",
       "      <td>0.560194</td>\n",
       "      <td>0.454359</td>\n",
       "      <td>yes</td>\n",
       "    </tr>\n",
       "    <tr>\n",
       "      <th>6</th>\n",
       "      <td>iron reducing/sulfate reducing</td>\n",
       "      <td>18</td>\n",
       "      <td>0.240207</td>\n",
       "      <td>0.624182</td>\n",
       "      <td>yes</td>\n",
       "    </tr>\n",
       "    <tr>\n",
       "      <th>7</th>\n",
       "      <td>Undefined</td>\n",
       "      <td>193</td>\n",
       "      <td>0.479460</td>\n",
       "      <td>0.488822</td>\n",
       "      <td>yes</td>\n",
       "    </tr>\n",
       "  </tbody>\n",
       "</table>\n",
       "</div>"
      ],
      "text/plain": [
       "                                       Rxn_condition  Rxn_num  testStat  \\\n",
       "0                                      iron reducing       54  7.748825   \n",
       "1                                       methanogenic      159  0.253512   \n",
       "2                      sulfate reducing/methanogenic       45  0.000628   \n",
       "3                                   nitrate reducing      191  1.283575   \n",
       "4  nitrate reducing/iron reducing/sulfate reducin...        6  0.008580   \n",
       "5                                   sulfate reducing      154  0.560194   \n",
       "6                     iron reducing/sulfate reducing       18  0.240207   \n",
       "7                                          Undefined      193  0.479460   \n",
       "\n",
       "       Pval equal_var?  \n",
       "0  0.005488         no  \n",
       "1  0.614723        yes  \n",
       "2  0.980008        yes  \n",
       "3  0.257498        yes  \n",
       "4  0.926219        yes  \n",
       "5  0.454359        yes  \n",
       "6  0.624182        yes  \n",
       "7  0.488822        yes  "
      ]
     },
     "execution_count": 17,
     "metadata": {},
     "output_type": "execute_result"
    }
   ],
   "source": [
    "big_var=HasEqualVariance(lit,big_norm)\n",
    "big_var"
   ]
  },
  {
   "cell_type": "code",
   "execution_count": 18,
   "id": "de574824-c46e-467d-b1bb-c87ebaeb0236",
   "metadata": {},
   "outputs": [
    {
     "data": {
      "text/html": [
       "<div>\n",
       "<style scoped>\n",
       "    .dataframe tbody tr th:only-of-type {\n",
       "        vertical-align: middle;\n",
       "    }\n",
       "\n",
       "    .dataframe tbody tr th {\n",
       "        vertical-align: top;\n",
       "    }\n",
       "\n",
       "    .dataframe thead th {\n",
       "        text-align: right;\n",
       "    }\n",
       "</style>\n",
       "<table border=\"1\" class=\"dataframe\">\n",
       "  <thead>\n",
       "    <tr style=\"text-align: right;\">\n",
       "      <th></th>\n",
       "      <th>Rxn_condition</th>\n",
       "      <th>Rxn_avg</th>\n",
       "      <th>Rxn_std</th>\n",
       "      <th>PopSize</th>\n",
       "      <th>test_stat</th>\n",
       "      <th>pval</th>\n",
       "      <th>sig?</th>\n",
       "      <th>test</th>\n",
       "    </tr>\n",
       "  </thead>\n",
       "  <tbody>\n",
       "    <tr>\n",
       "      <th>10</th>\n",
       "      <td>Undefined</td>\n",
       "      <td>165.952194</td>\n",
       "      <td>733.572471</td>\n",
       "      <td>193</td>\n",
       "      <td>-1.101729</td>\n",
       "      <td>0.271959</td>\n",
       "      <td>no</td>\n",
       "      <td>t-test</td>\n",
       "    </tr>\n",
       "    <tr>\n",
       "      <th>5</th>\n",
       "      <td>nitrate reducing</td>\n",
       "      <td>129.432356</td>\n",
       "      <td>556.797805</td>\n",
       "      <td>191</td>\n",
       "      <td>-2.350429</td>\n",
       "      <td>0.019777</td>\n",
       "      <td>yes</td>\n",
       "      <td>t-test</td>\n",
       "    </tr>\n",
       "    <tr>\n",
       "      <th>2</th>\n",
       "      <td>methanogenic</td>\n",
       "      <td>178.154532</td>\n",
       "      <td>1124.813456</td>\n",
       "      <td>159</td>\n",
       "      <td>-0.515372</td>\n",
       "      <td>0.607013</td>\n",
       "      <td>no</td>\n",
       "      <td>t-test</td>\n",
       "    </tr>\n",
       "    <tr>\n",
       "      <th>8</th>\n",
       "      <td>sulfate reducing</td>\n",
       "      <td>301.961274</td>\n",
       "      <td>1623.171444</td>\n",
       "      <td>154</td>\n",
       "      <td>0.595064</td>\n",
       "      <td>0.552680</td>\n",
       "      <td>no</td>\n",
       "      <td>t-test</td>\n",
       "    </tr>\n",
       "    <tr>\n",
       "      <th>0</th>\n",
       "      <td>iron reducing</td>\n",
       "      <td>705.574529</td>\n",
       "      <td>2068.430915</td>\n",
       "      <td>54</td>\n",
       "      <td>-1.695190</td>\n",
       "      <td>0.095702</td>\n",
       "      <td>no</td>\n",
       "      <td>Welchs t-test</td>\n",
       "    </tr>\n",
       "    <tr>\n",
       "      <th>4</th>\n",
       "      <td>sulfate reducing/methanogenic</td>\n",
       "      <td>244.698001</td>\n",
       "      <td>396.112906</td>\n",
       "      <td>45</td>\n",
       "      <td>0.348362</td>\n",
       "      <td>0.729229</td>\n",
       "      <td>no</td>\n",
       "      <td>t-test</td>\n",
       "    </tr>\n",
       "    <tr>\n",
       "      <th>9</th>\n",
       "      <td>iron reducing/sulfate reducing</td>\n",
       "      <td>133.737959</td>\n",
       "      <td>110.388672</td>\n",
       "      <td>18</td>\n",
       "      <td>-3.474003</td>\n",
       "      <td>0.002903</td>\n",
       "      <td>yes</td>\n",
       "      <td>t-test</td>\n",
       "    </tr>\n",
       "    <tr>\n",
       "      <th>1</th>\n",
       "      <td>iron reducing/sulfate reducing/methanogenic</td>\n",
       "      <td>198.550869</td>\n",
       "      <td>375.428852</td>\n",
       "      <td>10</td>\n",
       "      <td>3.522898</td>\n",
       "      <td>0.060527</td>\n",
       "      <td>no</td>\n",
       "      <td>Kruskal-Wallis</td>\n",
       "    </tr>\n",
       "    <tr>\n",
       "      <th>3</th>\n",
       "      <td>nitrate reducing/iron reducing/methanogenic</td>\n",
       "      <td>105.966004</td>\n",
       "      <td>162.712126</td>\n",
       "      <td>7</td>\n",
       "      <td>2.668550</td>\n",
       "      <td>0.102349</td>\n",
       "      <td>no</td>\n",
       "      <td>Kruskal-Wallis</td>\n",
       "    </tr>\n",
       "    <tr>\n",
       "      <th>7</th>\n",
       "      <td>nitrate reducing/sulfate reducing</td>\n",
       "      <td>72.266316</td>\n",
       "      <td>113.957135</td>\n",
       "      <td>7</td>\n",
       "      <td>0.016622</td>\n",
       "      <td>0.897417</td>\n",
       "      <td>no</td>\n",
       "      <td>Kruskal-Wallis</td>\n",
       "    </tr>\n",
       "    <tr>\n",
       "      <th>6</th>\n",
       "      <td>nitrate reducing/iron reducing/sulfate reducin...</td>\n",
       "      <td>471.972446</td>\n",
       "      <td>250.508639</td>\n",
       "      <td>6</td>\n",
       "      <td>2.423444</td>\n",
       "      <td>0.059863</td>\n",
       "      <td>no</td>\n",
       "      <td>t-test</td>\n",
       "    </tr>\n",
       "  </tbody>\n",
       "</table>\n",
       "</div>"
      ],
      "text/plain": [
       "                                        Rxn_condition     Rxn_avg  \\\n",
       "10                                          Undefined  165.952194   \n",
       "5                                    nitrate reducing  129.432356   \n",
       "2                                        methanogenic  178.154532   \n",
       "8                                    sulfate reducing  301.961274   \n",
       "0                                       iron reducing  705.574529   \n",
       "4                       sulfate reducing/methanogenic  244.698001   \n",
       "9                      iron reducing/sulfate reducing  133.737959   \n",
       "1         iron reducing/sulfate reducing/methanogenic  198.550869   \n",
       "3         nitrate reducing/iron reducing/methanogenic  105.966004   \n",
       "7                   nitrate reducing/sulfate reducing   72.266316   \n",
       "6   nitrate reducing/iron reducing/sulfate reducin...  471.972446   \n",
       "\n",
       "        Rxn_std  PopSize  test_stat      pval sig?            test  \n",
       "10   733.572471      193  -1.101729  0.271959   no          t-test  \n",
       "5    556.797805      191  -2.350429  0.019777  yes          t-test  \n",
       "2   1124.813456      159  -0.515372  0.607013   no          t-test  \n",
       "8   1623.171444      154   0.595064  0.552680   no          t-test  \n",
       "0   2068.430915       54  -1.695190  0.095702   no   Welchs t-test  \n",
       "4    396.112906       45   0.348362  0.729229   no          t-test  \n",
       "9    110.388672       18  -3.474003  0.002903  yes          t-test  \n",
       "1    375.428852       10   3.522898  0.060527   no  Kruskal-Wallis  \n",
       "3    162.712126        7   2.668550  0.102349   no  Kruskal-Wallis  \n",
       "7    113.957135        7   0.016622  0.897417   no  Kruskal-Wallis  \n",
       "6    250.508639        6   2.423444  0.059863   no          t-test  "
      ]
     },
     "execution_count": 18,
     "metadata": {},
     "output_type": "execute_result"
    }
   ],
   "source": [
    "final=CompareRedox(lit,big_norm,big_var)\n",
    "final\n",
    "#final.to_excel('tTestResults_06122024.xlsx',index=False)"
   ]
  },
  {
   "cell_type": "code",
   "execution_count": 58,
   "id": "7e2b97b7-1a66-4eec-b31d-c0649613d035",
   "metadata": {},
   "outputs": [],
   "source": [
    "lit['HalfLife (days)']=lit['HalfLife (days)'].astype(float)\n",
    "table4=lit.groupby('Redox')['HalfLife (days)'].describe()\n",
    "table4=table4.reindex(index=['nitrate reducing','iron reducing','sulfate reducing','methanogenic','Undefined',\n",
    "                      'nitrate reducing/iron reducing/sulfate reducing/methanogenic',\n",
    "                      'nitrate reducing/iron reducing/methanogenic','nitrate reducing/sulfate reducing',\n",
    "                      'iron reducing/sulfate reducing/methanogenic','iron reducing/sulfate reducing','sulfate reducing/methanogenic'])\n",
    "dfMed=lit.groupby('Redox')['HalfLife (days)'].median().reset_index(name='median')\n",
    "df=pd.merge(table4,dfMed, how='left', left_index=True,right_on='Redox')\n",
    "df=df.reindex(columns=['Redox','count','mean','median','min','max'])\n",
    "#df.to_excel('RedoxDescriptiveStat_Table4_06272024.xlsx',index=False)"
   ]
  },
  {
   "cell_type": "code",
   "execution_count": 28,
   "id": "babf2be0-2bb3-4264-9ac6-f9c491f7e4c3",
   "metadata": {},
   "outputs": [
    {
     "data": {
      "text/plain": [
       "646"
      ]
     },
     "execution_count": 28,
     "metadata": {},
     "output_type": "execute_result"
    }
   ],
   "source": [
    "total=final['PopSize'].sum()\n",
    "total-198"
   ]
  },
  {
   "cell_type": "code",
   "execution_count": 29,
   "id": "2485dbc1-2b1d-475d-9f33-159cb50087ba",
   "metadata": {},
   "outputs": [
    {
     "data": {
      "text/plain": [
       "844"
      ]
     },
     "execution_count": 29,
     "metadata": {},
     "output_type": "execute_result"
    }
   ],
   "source": [
    "len(lit['HalfLife (days)'])"
   ]
  },
  {
   "cell_type": "code",
   "execution_count": 30,
   "id": "cf4d9098-069c-49e9-8903-b8202d32185e",
   "metadata": {},
   "outputs": [
    {
     "data": {
      "text/plain": [
       "559"
      ]
     },
     "execution_count": 30,
     "metadata": {},
     "output_type": "execute_result"
    }
   ],
   "source": [
    "160+191+154+54"
   ]
  },
  {
   "cell_type": "code",
   "execution_count": 31,
   "id": "d7839407-c988-4a4e-b993-f062bf7d4dbe",
   "metadata": {},
   "outputs": [
    {
     "data": {
      "text/plain": [
       "F_onewayResult(statistic=3.1615878333907435, pvalue=0.02427562300408976)"
      ]
     },
     "execution_count": 31,
     "metadata": {},
     "output_type": "execute_result"
    }
   ],
   "source": [
    "#drop nan\n",
    "lit=lit[lit['HalfLife (days)'].notna()]\n",
    "\n",
    "#anova, comparing means against each other\n",
    "sul=list(lit.loc[lit['Redox']=='sulfate reducing','HalfLife (days)'].astype(float))\n",
    "nit=list(lit.loc[lit['Redox']=='nitrate reducing','HalfLife (days)'].astype(float))\n",
    "iron=list(lit.loc[lit['Redox']=='iron reducing','HalfLife (days)'].astype(float))\n",
    "meth=list(lit.loc[lit['Redox']=='methanogenic','HalfLife (days)'].astype(float))\n",
    "blank=list(lit.loc[lit['Redox']=='Undefined','HalfLife (days)'].astype(float))\n",
    "scipy.stats.f_oneway(sul,nit,iron,meth)"
   ]
  },
  {
   "cell_type": "code",
   "execution_count": 32,
   "id": "2601ccc8-d478-4bf0-a129-616f8016dfb5",
   "metadata": {},
   "outputs": [
    {
     "name": "stdout",
     "output_type": "stream",
     "text": [
      "Tukey's HSD Pairwise Group Comparisons (95.0% Confidence Interval)\n",
      "Comparison  Statistic  p-value  Lower CI  Upper CI\n",
      " (0 - 1)    172.529     0.590  -180.928   525.986\n",
      " (0 - 2)   -403.613     0.184  -919.766   112.539\n",
      " (0 - 3)    123.807     0.823  -245.185   492.799\n",
      " (1 - 0)   -172.529     0.590  -525.986   180.928\n",
      " (1 - 2)   -576.142     0.017 -1079.148   -73.136\n",
      " (1 - 3)    -48.722     0.984  -399.089   301.644\n",
      " (2 - 0)    403.613     0.184  -112.539   919.766\n",
      " (2 - 1)    576.142     0.017    73.136  1079.148\n",
      " (2 - 3)    527.420     0.042    13.379  1041.461\n",
      " (3 - 0)   -123.807     0.823  -492.799   245.185\n",
      " (3 - 1)     48.722     0.984  -301.644   399.089\n",
      " (3 - 2)   -527.420     0.042 -1041.461   -13.379\n",
      "\n"
     ]
    }
   ],
   "source": [
    "#res=scipy.stats.tukey_hsd(sul,nit,iron,meth,blank)\n",
    "res=scipy.stats.tukey_hsd(sul,nit,iron,meth)\n",
    "print(res)"
   ]
  },
  {
   "cell_type": "code",
   "execution_count": 33,
   "id": "f565e6f7-4c04-4f34-b456-363c2036ecb6",
   "metadata": {},
   "outputs": [
    {
     "name": "stdout",
     "output_type": "stream",
     "text": [
      "ShapiroResult(statistic=0.18133270740509033, pvalue=1.0930128021733573e-43)\n"
     ]
    }
   ],
   "source": [
    "#test if all big 4 data is normal\n",
    "b4=['nitrate reducing','iron reducing', 'sulfate reducing', 'methanogenic']\n",
    "big4=lit[lit['Redox'].isin(b4)==True]\n",
    "pop1=big4['HalfLife (days)'].astype(float)\n",
    "res=scipy.stats.shapiro(pop1)\n",
    "print(res)"
   ]
  },
  {
   "cell_type": "code",
   "execution_count": 34,
   "id": "8f604700-3b82-412d-84eb-fcc89c08689a",
   "metadata": {},
   "outputs": [
    {
     "data": {
      "text/plain": [
       "<Axes: xlabel='HalfLife (days)', ylabel='Density'>"
      ]
     },
     "execution_count": 34,
     "metadata": {},
     "output_type": "execute_result"
    },
    {
     "data": {
      "image/png": "[encoded data removed]",
      "text/plain": [
       "<Figure size 640x480 with 1 Axes>"
      ]
     },
     "metadata": {},
     "output_type": "display_data"
    }
   ],
   "source": [
    "sns.distplot(pop1)"
   ]
  },
  {
   "cell_type": "code",
   "execution_count": 35,
   "id": "5680fb7a-5f3f-4dca-a1f4-5b1d00775e39",
   "metadata": {},
   "outputs": [
    {
     "data": {
      "text/plain": [
       "LeveneResult(statistic=2.955588026314154, pvalue=0.03200663228006462)"
      ]
     },
     "execution_count": 35,
     "metadata": {},
     "output_type": "execute_result"
    }
   ],
   "source": [
    "scipy.stats.levene(sul,nit,iron,meth)"
   ]
  },
  {
   "cell_type": "code",
   "execution_count": 49,
   "id": "cf82d7dc-e859-4df5-8594-d0b4b96f7563",
   "metadata": {},
   "outputs": [
    {
     "data": {
      "text/plain": [
       "BartlettResult(statistic=221.01686996715654, pvalue=1.210322410117696e-47)"
      ]
     },
     "execution_count": 49,
     "metadata": {},
     "output_type": "execute_result"
    }
   ],
   "source": [
    "scipy.stats.bartlett(sul,nit,iron,meth)"
   ]
  },
  {
   "cell_type": "code",
   "execution_count": 50,
   "id": "594e05c5-f96c-4878-b82e-72b3dc346057",
   "metadata": {},
   "outputs": [
    {
     "data": {
      "text/html": [
       "<div>\n",
       "<style scoped>\n",
       "    .dataframe tbody tr th:only-of-type {\n",
       "        vertical-align: middle;\n",
       "    }\n",
       "\n",
       "    .dataframe tbody tr th {\n",
       "        vertical-align: top;\n",
       "    }\n",
       "\n",
       "    .dataframe thead th {\n",
       "        text-align: right;\n",
       "    }\n",
       "</style>\n",
       "<table border=\"1\" class=\"dataframe\">\n",
       "  <thead>\n",
       "    <tr style=\"text-align: right;\">\n",
       "      <th></th>\n",
       "      <th>Rxn_condition</th>\n",
       "      <th>Rxn_num</th>\n",
       "      <th>testStat</th>\n",
       "      <th>Pval</th>\n",
       "      <th>equal_var?</th>\n",
       "    </tr>\n",
       "  </thead>\n",
       "  <tbody>\n",
       "    <tr>\n",
       "      <th>0</th>\n",
       "      <td>nitrate reducing</td>\n",
       "      <td>191</td>\n",
       "      <td>1.480091</td>\n",
       "      <td>0.224145</td>\n",
       "      <td>yes</td>\n",
       "    </tr>\n",
       "    <tr>\n",
       "      <th>1</th>\n",
       "      <td>iron reducing</td>\n",
       "      <td>54</td>\n",
       "      <td>5.079106</td>\n",
       "      <td>0.024570</td>\n",
       "      <td>no</td>\n",
       "    </tr>\n",
       "    <tr>\n",
       "      <th>2</th>\n",
       "      <td>sulfate reducing</td>\n",
       "      <td>154</td>\n",
       "      <td>0.199510</td>\n",
       "      <td>0.655253</td>\n",
       "      <td>yes</td>\n",
       "    </tr>\n",
       "    <tr>\n",
       "      <th>3</th>\n",
       "      <td>methanogenic</td>\n",
       "      <td>159</td>\n",
       "      <td>0.405650</td>\n",
       "      <td>0.524389</td>\n",
       "      <td>yes</td>\n",
       "    </tr>\n",
       "  </tbody>\n",
       "</table>\n",
       "</div>"
      ],
      "text/plain": [
       "      Rxn_condition  Rxn_num  testStat      Pval equal_var?\n",
       "0  nitrate reducing      191  1.480091  0.224145        yes\n",
       "1     iron reducing       54  5.079106  0.024570         no\n",
       "2  sulfate reducing      154  0.199510  0.655253        yes\n",
       "3      methanogenic      159  0.405650  0.524389        yes"
      ]
     },
     "execution_count": 50,
     "metadata": {},
     "output_type": "execute_result"
    }
   ],
   "source": [
    "#test if all big 4 has equal variance\n",
    "\n",
    "var=pd.DataFrame(columns=['Rxn_condition','Rxn_num','testStat','Pval','equal_var?'])\n",
    "\n",
    "for i in b4:\n",
    "    sub=big4[big4['Redox']==i]\n",
    "    pop2=sub['HalfLife (days)']\n",
    "    count=len(pop2.index)\n",
    "    stat=scipy.stats.levene(pop1,pop2).statistic\n",
    "    pval=scipy.stats.levene(pop1,pop2).pvalue\n",
    "\n",
    "    if pval < 0.05:\n",
    "        q='no'\n",
    "    else:\n",
    "        q='yes'\n",
    "\n",
    "    var.loc[len(var)]={'Rxn_condition' : i,'Rxn_num':count, 'testStat': stat,'Pval':pval, 'equal_var?': q}\n",
    "var"
   ]
  },
  {
   "cell_type": "code",
   "execution_count": 26,
   "id": "5da2571f-606d-40d1-b0e0-5745d5a563a1",
   "metadata": {},
   "outputs": [
    {
     "data": {
      "text/html": [
       "<div>\n",
       "<style scoped>\n",
       "    .dataframe tbody tr th:only-of-type {\n",
       "        vertical-align: middle;\n",
       "    }\n",
       "\n",
       "    .dataframe tbody tr th {\n",
       "        vertical-align: top;\n",
       "    }\n",
       "\n",
       "    .dataframe thead th {\n",
       "        text-align: right;\n",
       "    }\n",
       "</style>\n",
       "<table border=\"1\" class=\"dataframe\">\n",
       "  <thead>\n",
       "    <tr style=\"text-align: right;\">\n",
       "      <th></th>\n",
       "      <th>Source</th>\n",
       "      <th>ddof1</th>\n",
       "      <th>ddof2</th>\n",
       "      <th>F</th>\n",
       "      <th>p-unc</th>\n",
       "      <th>np2</th>\n",
       "    </tr>\n",
       "  </thead>\n",
       "  <tbody>\n",
       "    <tr>\n",
       "      <th>0</th>\n",
       "      <td>Redox</td>\n",
       "      <td>3</td>\n",
       "      <td>173.925635</td>\n",
       "      <td>1.835778</td>\n",
       "      <td>0.142428</td>\n",
       "      <td>0.016832</td>\n",
       "    </tr>\n",
       "  </tbody>\n",
       "</table>\n",
       "</div>"
      ],
      "text/plain": [
       "  Source  ddof1       ddof2         F     p-unc       np2\n",
       "0  Redox      3  173.925635  1.835778  0.142428  0.016832"
      ]
     },
     "execution_count": 26,
     "metadata": {},
     "output_type": "execute_result"
    }
   ],
   "source": [
    "test=big4.astype({'HalfLife (days)':'float'})\n",
    "\n",
    "pg.welch_anova(data=test, dv='HalfLife (days)', between='Redox')"
   ]
  },
  {
   "cell_type": "code",
   "execution_count": 27,
   "id": "a09dbe8c-989d-47e5-9302-45bc8631fb61",
   "metadata": {},
   "outputs": [],
   "source": [
    "#make subset of lit data to only include b4\n",
    "sub4=lit[lit['Redox'].isin(b4)==True]"
   ]
  },
  {
   "cell_type": "code",
   "execution_count": 28,
   "id": "9ad12996-eefc-46e2-aebd-7228e4f3f85f",
   "metadata": {},
   "outputs": [],
   "source": [
    "# lit['Redox'].replace(to_replace=['nitrate reducing/iron reducing/sulfate reducing/methanogenic', \n",
    "#                                  'sulfate reducing/methanogenic','iron reducing/sulfate reducing/methanogenic',\n",
    "#                                  'nitrate reducing/iron reducing/methanogenic','nitrate reducing/sulfate reducing',\n",
    "#                                  'Undefined','iron reducing/sulfate reducing'], value= 'undefined/mix',inplace=True)"
   ]
  },
  {
   "cell_type": "code",
   "execution_count": 34,
   "id": "5ec61840-1dd8-4603-8597-3c8ff7f47f84",
   "metadata": {},
   "outputs": [
    {
     "data": {
      "image/png": "[encoded data removed]",
      "text/plain": [
       "<Figure size 662.5x500 with 1 Axes>"
      ]
     },
     "metadata": {},
     "output_type": "display_data"
    }
   ],
   "source": [
    "#sns.displot(lit, x='Rank',hue='Redox',multiple='stack').savefig('RedoxRank_dist.png')\n",
    "#sns.displot(lit, x='Rank',hue='Redox',multiple='fill').savefig('RedoxRank_color.png')\n",
    "#sns.displot(sub4, x='Rank',hue='Redox',multiple='stack').savefig('RedoxRank_stack_b4.png')\n",
    "#sns.displot(sub4, x='Rank',hue='Redox',multiple='fill').savefig('RedoxRank_fill_b4.png')\n",
    "#sns.displot(lit, x='Rank',hue='Redox',multiple='stack').savefig('RedoxRank_stack_b5.png')\n",
    "#r=sns.displot(lit, x='Rank_3',hue='Redox',multiple='stack',hue_order=[\"nitrate reducing\", \"iron reducing\", \"sulfate reducing\",\"methanogenic\",\"undefined/mix\"])\n",
    "#r.set(xlabel= 'Rank').savefig('RedoxRank_stack_b5_ORDERED.png')\n",
    "#r=sns.displot(lit, x='Rank',hue='Redox',multiple='fill').savefig('RedoxRank_fill_b5.png')\n",
    "#sns.displot(lit, x='Rank_3',hue='Redox',multiple='fill',hue_order=[\"nitrate reducing\", \"iron reducing\", \"sulfate reducing\",\"methanogenic\",\"undefined/mix\"]).savefig('RedoxRank_fill_b5_ORDERED.png')\n",
    "#r=sns.displot(lit, x='Rank_3',hue='Redox',multiple='fill',hue_order=[\"nitrate reducing\", \"iron reducing\", \"sulfate reducing\",\"methanogenic\",\"undefined/mix\"])\n",
    "#r.set(xlabel= 'Rank',ylabel='Fraction').savefig('RedoxRank_fill_b5_ORDERED.png')"
   ]
  },
  {
   "cell_type": "code",
   "execution_count": 30,
   "id": "97bbafa9-458e-4c43-99c1-f3ad2588c0e3",
   "metadata": {},
   "outputs": [],
   "source": [
    "#print(sns.color_palette('husl',11).as_hex())"
   ]
  },
  {
   "cell_type": "code",
   "execution_count": 127,
   "id": "e7392a33-7b56-4849-aae5-37ff9bde9457",
   "metadata": {},
   "outputs": [],
   "source": [
    "\n",
    "# colors={'nitrate reducing':'#35ae95','iron reducing':'#f77189', 'sulfate reducing':'#8f93f4', 'methanogenic':'#b59a32',\n",
    "#         'nitrate reducing/iron reducing/sulfate reducing/methanogenic':'grey', 'sulfate reducing/methanogenic':'grey', \n",
    "#         'iron reducing/sulfate reducing/methanogenic':'grey', 'nitrate reducing/iron reducing/methanogenic':'grey', \n",
    "#         'nitrate reducing/sulfate reducing':'grey', 'Undefined':'grey', 'iron reducing/sulfate reducing':'grey'}\n",
    "\n",
    "# sns.displot(lit, x='Rank', hue='Redox',multiple='fill',palette=colors).savefig('RedoxRank_grey.png')"
   ]
  },
  {
   "cell_type": "code",
   "execution_count": 144,
   "id": "5a907d2f-5e20-41bf-a7a2-b49923c1163b",
   "metadata": {},
   "outputs": [],
   "source": [
    "#get list of schemes with rate supported ranks\n",
    "rt=pd.read_excel('RankTable_061424.xlsx')\n",
    "keep=list(rt.loc[rt['Med_HL_days'].notna()==True,'Rxn_Scheme'])\n",
    "sub=lit[lit['Rxn_Scheme'].isin(keep)==True]"
   ]
  },
  {
   "cell_type": "code",
   "execution_count": 133,
   "id": "ccf35c32-e281-4281-8424-28801a35a198",
   "metadata": {},
   "outputs": [
    {
     "data": {
      "text/plain": [
       "844"
      ]
     },
     "execution_count": 133,
     "metadata": {},
     "output_type": "execute_result"
    }
   ],
   "source": [
    "len(lit['Category'].notna()==True)"
   ]
  },
  {
   "cell_type": "code",
   "execution_count": 134,
   "id": "4e276ab8-c943-4f4b-b721-f8a308a7b1ec",
   "metadata": {},
   "outputs": [
    {
     "data": {
      "text/plain": [
       "768"
      ]
     },
     "execution_count": 134,
     "metadata": {},
     "output_type": "execute_result"
    }
   ],
   "source": [
    "len(lit[(lit['HalfLife (days)'].notna()==True) & (lit['Category'].notna()==True)])"
   ]
  },
  {
   "cell_type": "code",
   "execution_count": 145,
   "id": "cfb31f79-dbbd-44bb-b0e2-6fade9eb4a68",
   "metadata": {},
   "outputs": [
    {
     "data": {
      "text/plain": [
       "<seaborn.axisgrid.FacetGrid at 0x19687e84890>"
      ]
     },
     "execution_count": 145,
     "metadata": {},
     "output_type": "execute_result"
    },
    {
     "data": {
      "image/png": "[encoded data removed]",
      "text/plain": [
       "<Figure size 722.625x500 with 1 Axes>"
      ]
     },
     "metadata": {},
     "output_type": "display_data"
    }
   ],
   "source": [
    "#sns.displot(lit, x='Rank',hue='Category',multiple='fill').savefig('SchemeDist_fill.png')\n",
    "#sns.displot(lit, x='Rank',hue='Category',multiple='stack').savefig('SchemeDist_stack.png')\n",
    "sns.displot(sub, x='Rank_3',hue='Category',multiple='stack')\n",
    "#d=sns.displot(lit, x='Category',hue='Rank',multiple='stack',palette=colors)\n",
    "#d.set_xticklabels(rotation=45).savefig('SchemeDist_stack_xCat.png')"
   ]
  },
  {
   "cell_type": "code",
   "execution_count": 51,
   "id": "d7c799e1-5ec5-45ff-9090-d4d8d5f0b2d6",
   "metadata": {},
   "outputs": [],
   "source": [
    "top=['Activation', 'Hydrolysis','Oxidation','Reduction']\n",
    "subCat=lit[lit['Category'].isin(top)==True]"
   ]
  },
  {
   "cell_type": "code",
   "execution_count": 59,
   "id": "f36a85f8-39bc-4ad3-a420-6e5b6f8d6958",
   "metadata": {},
   "outputs": [
    {
     "data": {
      "image/png": "[encoded data removed]",
      "text/plain": [
       "<Figure size 572x500 with 1 Axes>"
      ]
     },
     "metadata": {},
     "output_type": "display_data"
    }
   ],
   "source": [
    "colors={1.0:'#f77189',2.0:'#e18632', 3.0:'#b59a32',4.0: '#8ba731', 5.0:'#32b258',6.0:'#35ae95', 7.0:'#37abb2'}\n",
    "sns.displot(subCat, x='Category',hue='Rank',multiple='stack',palette=colors).savefig('SchemeDist_stack_xCat_top.png')\n",
    "#sns.displot(subCat, x='Category',hue='Rank',multiple='fill',palette=colors).savefig('SchemeDist_fill_xCat_top.png')"
   ]
  },
  {
   "cell_type": "code",
   "execution_count": 101,
   "id": "aa7eafb5-195d-419a-bcd7-0647f2a7cbce",
   "metadata": {},
   "outputs": [
    {
     "name": "stdout",
     "output_type": "stream",
     "text": [
      "mean:  226.33773278631546\n",
      "median:  10.795705993517865\n"
     ]
    }
   ],
   "source": [
    "sub=lit[lit['Category'].notna()==True]\n",
    "print('mean: ',sub['HalfLife (days)'].astype(float).mean())\n",
    "print('median: ',sub['HalfLife (days)'].astype(float).median())"
   ]
  },
  {
   "cell_type": "markdown",
   "id": "c20f7eb0-136e-4ffc-94ba-5af861575f31",
   "metadata": {},
   "source": [
    "## Get counts"
   ]
  },
  {
   "cell_type": "code",
   "execution_count": 34,
   "id": "9e4cef73-956f-4267-83be-504e05524037",
   "metadata": {},
   "outputs": [
    {
     "data": {
      "text/plain": [
       "844"
      ]
     },
     "execution_count": 34,
     "metadata": {},
     "output_type": "execute_result"
    }
   ],
   "source": [
    "#total number of rate entries \n",
    "len(lit[lit['HalfLife (days)'].notna()==True])"
   ]
  },
  {
   "cell_type": "code",
   "execution_count": 36,
   "id": "9b6cf402-0799-4ce2-9224-8b54e316afd9",
   "metadata": {},
   "outputs": [
    {
     "data": {
      "text/plain": [
       "769"
      ]
     },
     "execution_count": 36,
     "metadata": {},
     "output_type": "execute_result"
    }
   ],
   "source": [
    "#get number of rate entries with a scheme\n",
    "len(lit[(lit['HalfLife (days)'].notna()==True) & (lit['Rxn_Scheme'].notna()==True)])"
   ]
  },
  {
   "cell_type": "code",
   "execution_count": 43,
   "id": "718b8cd3-0a8a-4448-992c-6a78f6ab7a6e",
   "metadata": {},
   "outputs": [
    {
     "data": {
      "text/plain": [
       "651"
      ]
     },
     "execution_count": 43,
     "metadata": {},
     "output_type": "execute_result"
    }
   ],
   "source": [
    "#total number of rate entries with redox condition\n",
    "len(lit[(lit['HalfLife (days)'].notna()==True) & (lit['Redox']!='Undefined')])"
   ]
  },
  {
   "cell_type": "code",
   "execution_count": 45,
   "id": "0813e4ca-b37b-4613-8efe-de46dd01c5db",
   "metadata": {},
   "outputs": [
    {
     "data": {
      "text/plain": [
       "601"
      ]
     },
     "execution_count": 45,
     "metadata": {},
     "output_type": "execute_result"
    }
   ],
   "source": [
    "#number of rate entries with a redox contion and scheme assignment\n",
    "len(lit[(lit['HalfLife (days)'].notna()==True) & (lit['Redox']!='Undefined') &(lit['Rxn_Scheme'].notna()==True)])"
   ]
  },
  {
   "cell_type": "code",
   "execution_count": 50,
   "id": "66311bfd-ac57-49c8-b5d6-27da40fc3f31",
   "metadata": {},
   "outputs": [
    {
     "data": {
      "text/plain": [
       "89"
      ]
     },
     "execution_count": 50,
     "metadata": {},
     "output_type": "execute_result"
    }
   ],
   "source": [
    "#number of shcemes with rate data\n",
    "sub=lit[(lit['HalfLife (days)'].notna()==True)&(lit['Rxn_Scheme'].notna()==True)]\n",
    "len(sub['Rxn_Scheme'].unique())"
   ]
  },
  {
   "cell_type": "code",
   "execution_count": 53,
   "id": "a56db361-0977-4b23-ae3f-72d5cfd049db",
   "metadata": {},
   "outputs": [
    {
     "data": {
      "text/plain": [
       "196"
      ]
     },
     "execution_count": 53,
     "metadata": {},
     "output_type": "execute_result"
    }
   ],
   "source": [
    "#number of unique molecules with rate data\n",
    "len(sub['std_Parent_SMILES'].unique())"
   ]
  },
  {
   "cell_type": "code",
   "execution_count": 63,
   "id": "7707f5f8-396c-4b30-b8c1-9a90207947dc",
   "metadata": {},
   "outputs": [
    {
     "data": {
      "text/plain": [
       "224.12754443617806"
      ]
     },
     "execution_count": 63,
     "metadata": {},
     "output_type": "execute_result"
    }
   ],
   "source": [
    "#population average\n",
    "sub=lit[(lit['HalfLife (days)'].notna()==True) &(lit['HalfLife (days)']!='stable')]\n",
    "sub['HalfLife (days)'].astype(float).mean()"
   ]
  },
  {
   "cell_type": "markdown",
   "id": "07fc7e5a-4298-4d73-8640-2df1063f95d6",
   "metadata": {},
   "source": [
    "### AD impact analysis"
   ]
  },
  {
   "cell_type": "code",
   "execution_count": 15,
   "id": "a4b9f84d-8638-48d0-a9a7-52796838b2c5",
   "metadata": {},
   "outputs": [],
   "source": [
    "\n",
    "#subset lit data to only include schemes with AD data\n",
    "ad_schemes=['Biotic Hydrolysis: Carboxylic Acid Esters','Biotic Hydrolysis: Carbamates',\n",
    "    'Biotic Hydrolysis: Organophosphorus triester (base-catalyzed)','Dealkylation: O-dealkylation of N-heterocyclic ether',\n",
    "    'Demethoxylation: N-demethoxylation of methoxy anilines and amines','Nucleophilic Substitution: Halogenated Aromatics','Biotic Hydrolysis: Ureas',\n",
    "            'Biotic Hydrolysis: Organophosphorus triester (neutral)','Reduction: Dehalogenation of aromatic halides','Biotic Hydrolysis: Nitriles',\n",
    "            'Biotic Hydrolysis: Amides','Reduction: Hydrogenolysis of haloalkanes']\n",
    "\n",
    "ad=lit[lit['Rxn_Scheme'].isin(ad_schemes)==True]\n",
    "ad=ad[ad['HalfLife (days)'].notna()]"
   ]
  },
  {
   "cell_type": "code",
   "execution_count": 16,
   "id": "75463464-6ebf-4177-aa0a-5582eeeeb3f0",
   "metadata": {},
   "outputs": [],
   "source": [
    "#make a duplicate subset and exclude all AD datapoints\n",
    "no_ad=ad[ad['Anaerobic Digestion']!='Y']\n",
    "#set all AD rates to 0 (so that we can caluate difference between groups\n",
    "no_ad_wc=lit[lit['Rxn_Scheme'].isin(ad_schemes)==True]\n",
    "no_ad_wc=no_ad_wc[no_ad_wc['HalfLife (days)'].notna()]\n",
    "no_ad_wc.loc[no_ad_wc['Anaerobic Digestion']=='Y','HalfLife (days)']=0\n",
    "#no_ad_wc['HalfLife (days)']"
   ]
  },
  {
   "cell_type": "code",
   "execution_count": 24,
   "id": "d205a9f7-a21b-4bc1-8ec0-d317ed87035d",
   "metadata": {},
   "outputs": [
    {
     "data": {
      "text/html": [
       "<div>\n",
       "<style scoped>\n",
       "    .dataframe tbody tr th:only-of-type {\n",
       "        vertical-align: middle;\n",
       "    }\n",
       "\n",
       "    .dataframe tbody tr th {\n",
       "        vertical-align: top;\n",
       "    }\n",
       "\n",
       "    .dataframe thead th {\n",
       "        text-align: right;\n",
       "    }\n",
       "</style>\n",
       "<table border=\"1\" class=\"dataframe\">\n",
       "  <thead>\n",
       "    <tr style=\"text-align: right;\">\n",
       "      <th></th>\n",
       "      <th>Rxn_Scheme</th>\n",
       "      <th>Median_all</th>\n",
       "      <th>Median_noAD</th>\n",
       "      <th>PopSize_all</th>\n",
       "      <th>PopSize_noAD</th>\n",
       "      <th>test_stat</th>\n",
       "      <th>pval</th>\n",
       "    </tr>\n",
       "  </thead>\n",
       "  <tbody>\n",
       "    <tr>\n",
       "      <th>0</th>\n",
       "      <td>Biotic Hydrolysis: Carboxylic Acid Esters</td>\n",
       "      <td>38.000</td>\n",
       "      <td>56.855</td>\n",
       "      <td>13</td>\n",
       "      <td>10</td>\n",
       "      <td>0.348</td>\n",
       "      <td>0.555</td>\n",
       "    </tr>\n",
       "    <tr>\n",
       "      <th>1</th>\n",
       "      <td>Biotic Hydrolysis: Carbamates</td>\n",
       "      <td>6.200</td>\n",
       "      <td>6.200</td>\n",
       "      <td>7</td>\n",
       "      <td>5</td>\n",
       "      <td>0.250</td>\n",
       "      <td>0.617</td>\n",
       "    </tr>\n",
       "    <tr>\n",
       "      <th>2</th>\n",
       "      <td>Biotic Hydrolysis: Organophosphorus triester (...</td>\n",
       "      <td>5.400</td>\n",
       "      <td>56.500</td>\n",
       "      <td>7</td>\n",
       "      <td>4</td>\n",
       "      <td>0.585</td>\n",
       "      <td>0.444</td>\n",
       "    </tr>\n",
       "    <tr>\n",
       "      <th>3</th>\n",
       "      <td>Dealkylation: O-dealkylation of N-heterocyclic...</td>\n",
       "      <td>13.200</td>\n",
       "      <td>26.000</td>\n",
       "      <td>2</td>\n",
       "      <td>1</td>\n",
       "      <td>0.500</td>\n",
       "      <td>0.480</td>\n",
       "    </tr>\n",
       "    <tr>\n",
       "      <th>4</th>\n",
       "      <td>Demethoxylation: N-demethoxylation of methoxy ...</td>\n",
       "      <td>0.400</td>\n",
       "      <td>NaN</td>\n",
       "      <td>1</td>\n",
       "      <td>0</td>\n",
       "      <td>NaN</td>\n",
       "      <td>NaN</td>\n",
       "    </tr>\n",
       "    <tr>\n",
       "      <th>5</th>\n",
       "      <td>Nucleophilic Substitution: Halogenated Aromatics</td>\n",
       "      <td>19.455</td>\n",
       "      <td>38.500</td>\n",
       "      <td>2</td>\n",
       "      <td>1</td>\n",
       "      <td>0.500</td>\n",
       "      <td>0.480</td>\n",
       "    </tr>\n",
       "    <tr>\n",
       "      <th>6</th>\n",
       "      <td>Biotic Hydrolysis: Ureas</td>\n",
       "      <td>16.400</td>\n",
       "      <td>0.001</td>\n",
       "      <td>3</td>\n",
       "      <td>1</td>\n",
       "      <td>1.000</td>\n",
       "      <td>0.317</td>\n",
       "    </tr>\n",
       "    <tr>\n",
       "      <th>7</th>\n",
       "      <td>Biotic Hydrolysis: Organophosphorus triester (...</td>\n",
       "      <td>1.175</td>\n",
       "      <td>6.000</td>\n",
       "      <td>8</td>\n",
       "      <td>3</td>\n",
       "      <td>1.871</td>\n",
       "      <td>0.171</td>\n",
       "    </tr>\n",
       "    <tr>\n",
       "      <th>8</th>\n",
       "      <td>Reduction: Dehalogenation of aromatic halides</td>\n",
       "      <td>17.325</td>\n",
       "      <td>17.815</td>\n",
       "      <td>73</td>\n",
       "      <td>71</td>\n",
       "      <td>0.008</td>\n",
       "      <td>0.930</td>\n",
       "    </tr>\n",
       "    <tr>\n",
       "      <th>9</th>\n",
       "      <td>Biotic Hydrolysis: Nitriles</td>\n",
       "      <td>158.500</td>\n",
       "      <td>159.617</td>\n",
       "      <td>3</td>\n",
       "      <td>2</td>\n",
       "      <td>0.370</td>\n",
       "      <td>0.543</td>\n",
       "    </tr>\n",
       "    <tr>\n",
       "      <th>10</th>\n",
       "      <td>Biotic Hydrolysis: Amides</td>\n",
       "      <td>16.750</td>\n",
       "      <td>90.475</td>\n",
       "      <td>5</td>\n",
       "      <td>4</td>\n",
       "      <td>0.062</td>\n",
       "      <td>0.803</td>\n",
       "    </tr>\n",
       "    <tr>\n",
       "      <th>11</th>\n",
       "      <td>Reduction: Hydrogenolysis of haloalkanes</td>\n",
       "      <td>15.954</td>\n",
       "      <td>17.014</td>\n",
       "      <td>39</td>\n",
       "      <td>36</td>\n",
       "      <td>0.199</td>\n",
       "      <td>0.656</td>\n",
       "    </tr>\n",
       "  </tbody>\n",
       "</table>\n",
       "</div>"
      ],
      "text/plain": [
       "                                           Rxn_Scheme  Median_all  \\\n",
       "0           Biotic Hydrolysis: Carboxylic Acid Esters      38.000   \n",
       "1                       Biotic Hydrolysis: Carbamates       6.200   \n",
       "2   Biotic Hydrolysis: Organophosphorus triester (...       5.400   \n",
       "3   Dealkylation: O-dealkylation of N-heterocyclic...      13.200   \n",
       "4   Demethoxylation: N-demethoxylation of methoxy ...       0.400   \n",
       "5    Nucleophilic Substitution: Halogenated Aromatics      19.455   \n",
       "6                            Biotic Hydrolysis: Ureas      16.400   \n",
       "7   Biotic Hydrolysis: Organophosphorus triester (...       1.175   \n",
       "8       Reduction: Dehalogenation of aromatic halides      17.325   \n",
       "9                         Biotic Hydrolysis: Nitriles     158.500   \n",
       "10                          Biotic Hydrolysis: Amides      16.750   \n",
       "11           Reduction: Hydrogenolysis of haloalkanes      15.954   \n",
       "\n",
       "    Median_noAD  PopSize_all  PopSize_noAD  test_stat   pval  \n",
       "0        56.855           13            10      0.348  0.555  \n",
       "1         6.200            7             5      0.250  0.617  \n",
       "2        56.500            7             4      0.585  0.444  \n",
       "3        26.000            2             1      0.500  0.480  \n",
       "4           NaN            1             0        NaN    NaN  \n",
       "5        38.500            2             1      0.500  0.480  \n",
       "6         0.001            3             1      1.000  0.317  \n",
       "7         6.000            8             3      1.871  0.171  \n",
       "8        17.815           73            71      0.008  0.930  \n",
       "9       159.617            3             2      0.370  0.543  \n",
       "10       90.475            5             4      0.062  0.803  \n",
       "11       17.014           39            36      0.199  0.656  "
      ]
     },
     "execution_count": 24,
     "metadata": {},
     "output_type": "execute_result"
    }
   ],
   "source": [
    "#perform kruskal wallis on each scheme in ad_schemes\n",
    "kw_results=pd.DataFrame(columns=['Rxn_Scheme','Median_all','Median_noAD','PopSize_all','PopSize_noAD','test_stat','pval',])\n",
    "for i in ad_schemes:\n",
    "    all=list(ad.loc[ad['Rxn_Scheme']==i,'HalfLife (days)'].astype(float))\n",
    "    med_all=ad.loc[ad['Rxn_Scheme']==i,'HalfLife (days)'].astype(float).median()\n",
    "    without=list(no_ad.loc[no_ad['Rxn_Scheme']==i,'HalfLife (days)'])\n",
    "    med_noad=no_ad.loc[no_ad['Rxn_Scheme']==i,'HalfLife (days)'].median()\n",
    "    pop1=len(all)\n",
    "    pop2=len(without)\n",
    "    #print(pop1,pop2)\n",
    "    stat=scipy.stats.kruskal(all,without).statistic\n",
    "    pval=scipy.stats.kruskal(all,without).pvalue\n",
    "    kw_results.loc[len(kw_results)]={'Rxn_Scheme' : i, 'Median_all': round(med_all,3),'Median_noAD':round(med_noad,3), 'PopSize_all': pop1, 'PopSize_noAD': pop2, \n",
    "                                'test_stat':round(stat,3), 'pval':round(pval,3)}\n",
    "kw_results"
   ]
  },
  {
   "cell_type": "code",
   "execution_count": 47,
   "id": "96af2af0-9743-479d-b403-4f4a51ba21f2",
   "metadata": {},
   "outputs": [],
   "source": [
    "#kw_results.to_excel('AD_KW_Results.xlsx',index=False)\n"
   ]
  },
  {
   "cell_type": "code",
   "execution_count": 27,
   "id": "b4c8d3b1-9930-4809-a289-b70e84f69630",
   "metadata": {},
   "outputs": [
    {
     "data": {
      "text/html": [
       "<div>\n",
       "<style scoped>\n",
       "    .dataframe tbody tr th:only-of-type {\n",
       "        vertical-align: middle;\n",
       "    }\n",
       "\n",
       "    .dataframe tbody tr th {\n",
       "        vertical-align: top;\n",
       "    }\n",
       "\n",
       "    .dataframe thead th {\n",
       "        text-align: right;\n",
       "    }\n",
       "</style>\n",
       "<table border=\"1\" class=\"dataframe\">\n",
       "  <thead>\n",
       "    <tr style=\"text-align: right;\">\n",
       "      <th></th>\n",
       "      <th>Rxn_Scheme</th>\n",
       "      <th>Median_all</th>\n",
       "      <th>Median_noAD</th>\n",
       "      <th>PopSize_all</th>\n",
       "      <th>PopSize_noAD</th>\n",
       "      <th>test_stat</th>\n",
       "      <th>pval</th>\n",
       "    </tr>\n",
       "  </thead>\n",
       "  <tbody>\n",
       "    <tr>\n",
       "      <th>0</th>\n",
       "      <td>Biotic Hydrolysis: Carboxylic Acid Esters</td>\n",
       "      <td>38.000000</td>\n",
       "      <td>56.855000</td>\n",
       "      <td>13</td>\n",
       "      <td>10</td>\n",
       "      <td>6.0</td>\n",
       "      <td>0.945595</td>\n",
       "    </tr>\n",
       "    <tr>\n",
       "      <th>1</th>\n",
       "      <td>Biotic Hydrolysis: Carbamates</td>\n",
       "      <td>6.200000</td>\n",
       "      <td>6.200000</td>\n",
       "      <td>7</td>\n",
       "      <td>5</td>\n",
       "      <td>3.0</td>\n",
       "      <td>0.921350</td>\n",
       "    </tr>\n",
       "    <tr>\n",
       "      <th>2</th>\n",
       "      <td>Biotic Hydrolysis: Organophosphorus triester (...</td>\n",
       "      <td>5.400000</td>\n",
       "      <td>56.500000</td>\n",
       "      <td>7</td>\n",
       "      <td>4</td>\n",
       "      <td>6.0</td>\n",
       "      <td>0.948765</td>\n",
       "    </tr>\n",
       "    <tr>\n",
       "      <th>3</th>\n",
       "      <td>Dealkylation: O-dealkylation of N-heterocyclic...</td>\n",
       "      <td>13.200000</td>\n",
       "      <td>26.000000</td>\n",
       "      <td>2</td>\n",
       "      <td>1</td>\n",
       "      <td>1.0</td>\n",
       "      <td>0.841345</td>\n",
       "    </tr>\n",
       "    <tr>\n",
       "      <th>4</th>\n",
       "      <td>Demethoxylation: N-demethoxylation of methoxy ...</td>\n",
       "      <td>0.400000</td>\n",
       "      <td>NaN</td>\n",
       "      <td>1</td>\n",
       "      <td>0</td>\n",
       "      <td>1.0</td>\n",
       "      <td>1.000000</td>\n",
       "    </tr>\n",
       "    <tr>\n",
       "      <th>5</th>\n",
       "      <td>Nucleophilic Substitution: Halogenated Aromatics</td>\n",
       "      <td>19.455000</td>\n",
       "      <td>38.500000</td>\n",
       "      <td>2</td>\n",
       "      <td>1</td>\n",
       "      <td>1.0</td>\n",
       "      <td>0.841345</td>\n",
       "    </tr>\n",
       "    <tr>\n",
       "      <th>6</th>\n",
       "      <td>Biotic Hydrolysis: Ureas</td>\n",
       "      <td>16.400000</td>\n",
       "      <td>0.000711</td>\n",
       "      <td>3</td>\n",
       "      <td>1</td>\n",
       "      <td>3.0</td>\n",
       "      <td>0.921350</td>\n",
       "    </tr>\n",
       "    <tr>\n",
       "      <th>7</th>\n",
       "      <td>Biotic Hydrolysis: Organophosphorus triester (...</td>\n",
       "      <td>1.175000</td>\n",
       "      <td>6.000000</td>\n",
       "      <td>8</td>\n",
       "      <td>3</td>\n",
       "      <td>15.0</td>\n",
       "      <td>0.983053</td>\n",
       "    </tr>\n",
       "    <tr>\n",
       "      <th>8</th>\n",
       "      <td>Reduction: Dehalogenation of aromatic halides</td>\n",
       "      <td>17.325000</td>\n",
       "      <td>17.814910</td>\n",
       "      <td>73</td>\n",
       "      <td>71</td>\n",
       "      <td>3.0</td>\n",
       "      <td>0.910144</td>\n",
       "    </tr>\n",
       "    <tr>\n",
       "      <th>9</th>\n",
       "      <td>Biotic Hydrolysis: Nitriles</td>\n",
       "      <td>158.500000</td>\n",
       "      <td>159.616667</td>\n",
       "      <td>3</td>\n",
       "      <td>2</td>\n",
       "      <td>1.0</td>\n",
       "      <td>0.841345</td>\n",
       "    </tr>\n",
       "    <tr>\n",
       "      <th>10</th>\n",
       "      <td>Biotic Hydrolysis: Amides</td>\n",
       "      <td>16.750000</td>\n",
       "      <td>90.475000</td>\n",
       "      <td>5</td>\n",
       "      <td>4</td>\n",
       "      <td>1.0</td>\n",
       "      <td>0.841345</td>\n",
       "    </tr>\n",
       "    <tr>\n",
       "      <th>11</th>\n",
       "      <td>Reduction: Hydrogenolysis of haloalkanes</td>\n",
       "      <td>15.953876</td>\n",
       "      <td>17.013798</td>\n",
       "      <td>39</td>\n",
       "      <td>36</td>\n",
       "      <td>6.0</td>\n",
       "      <td>0.945595</td>\n",
       "    </tr>\n",
       "  </tbody>\n",
       "</table>\n",
       "</div>"
      ],
      "text/plain": [
       "                                           Rxn_Scheme  Median_all  \\\n",
       "0           Biotic Hydrolysis: Carboxylic Acid Esters   38.000000   \n",
       "1                       Biotic Hydrolysis: Carbamates    6.200000   \n",
       "2   Biotic Hydrolysis: Organophosphorus triester (...    5.400000   \n",
       "3   Dealkylation: O-dealkylation of N-heterocyclic...   13.200000   \n",
       "4   Demethoxylation: N-demethoxylation of methoxy ...    0.400000   \n",
       "5    Nucleophilic Substitution: Halogenated Aromatics   19.455000   \n",
       "6                            Biotic Hydrolysis: Ureas   16.400000   \n",
       "7   Biotic Hydrolysis: Organophosphorus triester (...    1.175000   \n",
       "8       Reduction: Dehalogenation of aromatic halides   17.325000   \n",
       "9                         Biotic Hydrolysis: Nitriles  158.500000   \n",
       "10                          Biotic Hydrolysis: Amides   16.750000   \n",
       "11           Reduction: Hydrogenolysis of haloalkanes   15.953876   \n",
       "\n",
       "    Median_noAD  PopSize_all  PopSize_noAD  test_stat      pval  \n",
       "0     56.855000           13            10        6.0  0.945595  \n",
       "1      6.200000            7             5        3.0  0.921350  \n",
       "2     56.500000            7             4        6.0  0.948765  \n",
       "3     26.000000            2             1        1.0  0.841345  \n",
       "4           NaN            1             0        1.0  1.000000  \n",
       "5     38.500000            2             1        1.0  0.841345  \n",
       "6      0.000711            3             1        3.0  0.921350  \n",
       "7      6.000000            8             3       15.0  0.983053  \n",
       "8     17.814910           73            71        3.0  0.910144  \n",
       "9    159.616667            3             2        1.0  0.841345  \n",
       "10    90.475000            5             4        1.0  0.841345  \n",
       "11    17.013798           39            36        6.0  0.945595  "
      ]
     },
     "execution_count": 27,
     "metadata": {},
     "output_type": "execute_result"
    }
   ],
   "source": [
    "wc_results=pd.DataFrame(columns=['Rxn_Scheme','Median_all','Median_noAD','PopSize_all','PopSize_noAD','test_stat','pval',])\n",
    "for i in ad_schemes:\n",
    "    all=ad.loc[ad['Rxn_Scheme']==i,'HalfLife (days)'].astype(float)\n",
    "    med_all=ad.loc[ad['Rxn_Scheme']==i,'HalfLife (days)'].astype(float).median()\n",
    "    without=no_ad_wc.loc[no_ad_wc['Rxn_Scheme']==i,'HalfLife (days)'].astype(float)\n",
    "    noZero=no_ad.loc[no_ad['Rxn_Scheme']==i,'HalfLife (days)'].astype(float)\n",
    "    med_noad=no_ad.loc[no_ad['Rxn_Scheme']==i,'HalfLife (days)'].median()\n",
    "    diff=list(all-without)\n",
    "    pop1=len(all)\n",
    "    pop2=len(noZero)\n",
    "    #print(i,diff)\n",
    "    res=scipy.stats.wilcoxon(diff,method='exact',alternative='less')\n",
    "    stat=res.statistic\n",
    "    pval=res.pvalue\n",
    "    wc_results.loc[len(wc_results)]={'Rxn_Scheme' : i, 'Median_all': med_all,'Median_noAD':med_noad, 'PopSize_all': pop1, 'PopSize_noAD': pop2, \n",
    "                                'test_stat':stat, 'pval':pval}\n",
    "wc_results"
   ]
  },
  {
   "cell_type": "code",
   "execution_count": 28,
   "id": "03b3755c-5ef6-4499-96ba-309a0924c612",
   "metadata": {},
   "outputs": [],
   "source": [
    "wc_results.to_excel('AD_WC_Results_062624.xlsx',index=False)"
   ]
  },
  {
   "cell_type": "code",
   "execution_count": 30,
   "id": "5fd643ac-c75f-4490-9dec-5cdf64d7d7aa",
   "metadata": {},
   "outputs": [
    {
     "data": {
      "text/plain": [
       "16.4"
      ]
     },
     "execution_count": 30,
     "metadata": {},
     "output_type": "execute_result"
    }
   ],
   "source": [
    "ad.loc[ad['Rxn_Scheme']=='Biotic Hydrolysis: Ureas','HalfLife (days)'].median()"
   ]
  },
  {
   "cell_type": "code",
   "execution_count": 32,
   "id": "4ad5604d-7cfc-4179-87df-2d0b9ecaf407",
   "metadata": {},
   "outputs": [
    {
     "data": {
      "text/plain": [
       "884     N\n",
       "1019    Y\n",
       "1071    Y\n",
       "Name: Anaerobic Digestion, dtype: object"
      ]
     },
     "execution_count": 32,
     "metadata": {},
     "output_type": "execute_result"
    }
   ],
   "source": [
    "ad.loc[ad['Rxn_Scheme']=='Biotic Hydrolysis: Ureas','Anaerobic Digestion']"
   ]
  },
  {
   "cell_type": "code",
   "execution_count": null,
   "id": "58489e2c-e7ce-4c6b-a68a-6d8389bdafb1",
   "metadata": {},
   "outputs": [],
   "source": []
  }
 ],
 "metadata": {
  "kernelspec": {
   "display_name": "Python 3 (ipykernel)",
   "language": "python",
   "name": "python3"
  },
  "language_info": {
   "codemirror_mode": {
    "name": "ipython",
    "version": 3
   },
   "file_extension": ".py",
   "mimetype": "text/x-python",
   "name": "python",
   "nbconvert_exporter": "python",
   "pygments_lexer": "ipython3",
   "version": "3.11.4"
  }
 },
 "nbformat": 4,
 "nbformat_minor": 5
}
